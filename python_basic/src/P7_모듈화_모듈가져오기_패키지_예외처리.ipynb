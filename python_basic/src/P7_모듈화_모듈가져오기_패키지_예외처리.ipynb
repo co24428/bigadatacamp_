{
 "cells": [
  {
   "cell_type": "markdown",
   "metadata": {},
   "source": [
    "### 패키지, 모듈\n",
    "\n",
    "- 파이썬에서 만들 수 있는 형태는 오직 2개이다.\n",
    "    - 모듈 : *.py\n",
    "    - 패키지 : 특정 기능을 가진 모듈들을 모아둔 \"디렉토리\"\n",
    "- 실습 구조:\n",
    "    - 현재 위치  \n",
    "        L MyMath\n",
    "            L __init__.py\n",
    "            L metrix\n",
    "                L __init.py\n",
    "                L mod.py\n",
    "        L P7_모듈화_모듈가져오기_패키지_예외처리.ipynb (시작점, entry point, 여기서부터 경로를 체크)"
   ]
  },
  {
   "cell_type": "markdown",
   "metadata": {},
   "source": [
    "### 모듈 가져오기 & 사용하기\n",
    "\n",
    "- case\n",
    "    - 내가 작성하는 모듈에 남이 만든 모듈을 가져다가 사용하는 절차\n",
    "        - 1. 가져온다\n",
    "        - 2. 사용한다\n",
    "    - from 패키지명.패키지명....모듈명 import 변수, 함수, 클래스...\n",
    "    - from 패키지명.패키지명....모듈명 import *\n",
    "    - from 패키지명.패키지명....모듈명 import 변수 as 별칭  \n",
    "    <br>\n",
    "    - from 패키지명.패키지명....패키지명 import 이하동문  \n",
    "    <br>\n",
    "    - from 모듈명 import 이하동문  \n",
    "    <br>\n",
    "    - import 패키지명.패키지명....모듈명 as 별칭\n",
    "    - import 패키지명.패키지명....패키지명 as 별칭"
   ]
  },
  {
   "cell_type": "code",
   "execution_count": 1,
   "metadata": {},
   "outputs": [],
   "source": [
    "# 모듈 가져오기\n",
    "from MyMath.metrix.mod import name, add"
   ]
  },
  {
   "cell_type": "code",
   "execution_count": 2,
   "metadata": {
    "scrolled": true
   },
   "outputs": [
    {
     "name": "stdout",
     "output_type": "stream",
     "text": [
      "블라블라 3\n"
     ]
    }
   ],
   "source": [
    "# from~ 사용하면, 사용한 코드를 보면 마치 내 코드처럼 사용된다.\n",
    "print(name, add(1,2))"
   ]
  },
  {
   "cell_type": "code",
   "execution_count": 3,
   "metadata": {},
   "outputs": [],
   "source": [
    "# 가져온 요소들 중에 특정한 요소(변수, 함수, 클래스)의 이름을 별칭으로 대체\n",
    "from MyMath.metrix.mod import pi as MPI"
   ]
  },
  {
   "cell_type": "code",
   "execution_count": 4,
   "metadata": {},
   "outputs": [
    {
     "name": "stdout",
     "output_type": "stream",
     "text": [
      "3.14\n"
     ]
    }
   ],
   "source": [
    "# 별칭을 부여하면 이전 이름을 사용불가\n",
    "# NameError: name 'pi' is not defined\n",
    "# print(pi) \n",
    "print(MPI)"
   ]
  },
  {
   "cell_type": "code",
   "execution_count": 5,
   "metadata": {},
   "outputs": [],
   "source": [
    "# 가져올 게 너무 맣아서 일일이 다 기술못하고, 다 가져오는 경우\n",
    "from MyMath.metrix.mod import *"
   ]
  },
  {
   "cell_type": "code",
   "execution_count": 6,
   "metadata": {
    "scrolled": true
   },
   "outputs": [
    {
     "name": "stdout",
     "output_type": "stream",
     "text": [
      "생성\n"
     ]
    },
    {
     "data": {
      "text/plain": [
       "<MyMath.metrix.mod.A at 0x1e5fe8877c8>"
      ]
     },
     "execution_count": 6,
     "metadata": {},
     "output_type": "execute_result"
    }
   ],
   "source": [
    "A()"
   ]
  },
  {
   "cell_type": "code",
   "execution_count": 7,
   "metadata": {},
   "outputs": [
    {
     "name": "stdout",
     "output_type": "stream",
     "text": [
      "5.29\n"
     ]
    }
   ],
   "source": [
    "# 경로를 패키지로만 지정하면 마지막 패키지에 대응하는 __init__.py에서 가져온다.\n",
    "from MyMath.metrix import pi2\n",
    "print(pi2)"
   ]
  },
  {
   "cell_type": "code",
   "execution_count": 8,
   "metadata": {
    "scrolled": true
   },
   "outputs": [
    {
     "name": "stdout",
     "output_type": "stream",
     "text": [
      "부산대역\n"
     ]
    }
   ],
   "source": [
    "from MyMath import pi3\n",
    "print(pi3)"
   ]
  },
  {
   "cell_type": "code",
   "execution_count": 10,
   "metadata": {
    "scrolled": false
   },
   "outputs": [
    {
     "name": "stdout",
     "output_type": "stream",
     "text": [
      "누군가가 나를 모듈로 불러서 특정 기능을 쓰려고 한다\n"
     ]
    }
   ],
   "source": [
    "# 특정 모듈이 개발하면서 작성한 코드나, 단독 구동시 작동해야 하는 코드는\n",
    "# if __name__ ~ 내부 처리\n",
    "# 그외에 것은 바깥에 두어도 된다.(정의하는 부분들)\n",
    "# 왜냐하면 from~ 수행하면 해당 모듈이 메모리에 로드된다.\n",
    "# 경우에 따라서는 코드가 실행될 수도 있으므로, 주의\n",
    "\n",
    "# test5.py에서 확인 \n",
    "from game_nocomment2_func_ending import game_level"
   ]
  },
  {
   "cell_type": "code",
   "execution_count": 13,
   "metadata": {},
   "outputs": [
    {
     "data": {
      "text/plain": [
       "(3.14, 3)"
      ]
     },
     "execution_count": 13,
     "metadata": {},
     "output_type": "execute_result"
    }
   ],
   "source": [
    "import MyMath.metrix.mod as m\n",
    "\n",
    "# NameError: name 'mod' is not defined\n",
    "# mod.pi\n",
    "\n",
    "m.pi, m.add(1,2)"
   ]
  },
  {
   "cell_type": "code",
   "execution_count": 15,
   "metadata": {},
   "outputs": [
    {
     "data": {
      "text/plain": [
       "'부산대역'"
      ]
     },
     "execution_count": 15,
     "metadata": {},
     "output_type": "execute_result"
    }
   ],
   "source": [
    "import MyMath\n",
    "MyMath.pi3"
   ]
  },
  {
   "cell_type": "code",
   "execution_count": 18,
   "metadata": {},
   "outputs": [
    {
     "name": "stdout",
     "output_type": "stream",
     "text": [
      "{'A': 1, '2': 2, '3': 3, '4': 4, '5': 5, '6': 6, '7': 7, '8': 8, '9': 9, '10': 10, 'J': 11, 'Q': 12, 'K': -5}\n"
     ]
    }
   ],
   "source": [
    "import game_nocomment2_func_ending as game\n",
    "# 너무 길다\n",
    "# print(game_nocomment2_func_ending.score_table)\n",
    "# 별칭 처리\n",
    "print(game.score_table)"
   ]
  },
  {
   "cell_type": "markdown",
   "metadata": {},
   "source": [
    "### 예외 처리\n",
    "\n",
    "- 예외처리\n",
    "- 코드는 잠재적으로 오류를 가질 수 있다.\n",
    "- 이 때, S/W를 다운되지 않게 하고, 혹은 그 정보를 수집하고,\n",
    "- 문제없이 다음 단계로 진행시키게 하는 방법"
   ]
  },
  {
   "cell_type": "code",
   "execution_count": 19,
   "metadata": {},
   "outputs": [
    {
     "name": "stdout",
     "output_type": "stream",
     "text": [
      "0\n",
      "1\n",
      "3 division by zero\n",
      "5\n",
      "6\n"
     ]
    }
   ],
   "source": [
    "# case1 예외 발생시 코드 진행 확인\n",
    "print(0)\n",
    "try: #예외가 발생할 만한 코드를 감싼다.\n",
    "    print(1)\n",
    "    print(2/0)\n",
    "    print(2)\n",
    "except Exception as e: # 예외가 발생하면 호출\n",
    "    print(3,e)\n",
    "else: # 예외없이 정상적으로 코드가 진행되면 호출\n",
    "    print(4)\n",
    "finally: # 무조건 수행\n",
    "    print(5)\n",
    "print(6)"
   ]
  },
  {
   "cell_type": "code",
   "execution_count": 20,
   "metadata": {},
   "outputs": [
    {
     "name": "stdout",
     "output_type": "stream",
     "text": [
      "0\n",
      "1\n",
      "2\n",
      "4\n",
      "5\n",
      "6\n"
     ]
    }
   ],
   "source": [
    "# case2 정상시 코드 진행\n",
    "print(0)\n",
    "try: #예외가 발생할 만한 코드를 감싼다.\n",
    "    print(1)\n",
    "    # print(2/0)\n",
    "    print(2)\n",
    "except Exception as e: # 예외가 발생하면 호출\n",
    "    print(3,e)\n",
    "else: # 예외없이 정상적으로 코드가 진행되면 호출\n",
    "    print(4)\n",
    "finally: # 무조건 수행\n",
    "    print(5)\n",
    "print(6)"
   ]
  },
  {
   "cell_type": "code",
   "execution_count": null,
   "metadata": {},
   "outputs": [],
   "source": []
  },
  {
   "cell_type": "code",
   "execution_count": null,
   "metadata": {},
   "outputs": [],
   "source": []
  },
  {
   "cell_type": "code",
   "execution_count": null,
   "metadata": {},
   "outputs": [],
   "source": []
  },
  {
   "cell_type": "code",
   "execution_count": null,
   "metadata": {},
   "outputs": [],
   "source": []
  },
  {
   "cell_type": "code",
   "execution_count": null,
   "metadata": {},
   "outputs": [],
   "source": []
  }
 ],
 "metadata": {
  "kernelspec": {
   "display_name": "Python 3",
   "language": "python",
   "name": "python3"
  },
  "language_info": {
   "codemirror_mode": {
    "name": "ipython",
    "version": 3
   },
   "file_extension": ".py",
   "mimetype": "text/x-python",
   "name": "python",
   "nbconvert_exporter": "python",
   "pygments_lexer": "ipython3",
   "version": "3.7.4"
  }
 },
 "nbformat": 4,
 "nbformat_minor": 2
}
