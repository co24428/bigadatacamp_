{
 "cells": [
  {
   "cell_type": "markdown",
   "metadata": {},
   "source": [
    "### 문자열\n",
    "\n",
    "- 타입\n",
    "    - 단일 데이터 타입 (값이 1개)\n",
    "        - 문자열 (단일형으로 분류하지만, 실체는 연속형)\n",
    "            - \"hello world\", 'hello world', \"\"\" .. \"\"\", ''' .. ''' "
   ]
  },
  {
   "cell_type": "code",
   "execution_count": 1,
   "metadata": {},
   "outputs": [
    {
     "data": {
      "text/plain": [
       "('hello pusan', str)"
      ]
     },
     "execution_count": 1,
     "metadata": {},
     "output_type": "execute_result"
    }
   ],
   "source": [
    "# 1. 문자열 표기법\n",
    "a = \"hello pusan\"\n",
    "a, type(a)"
   ]
  },
  {
   "cell_type": "code",
   "execution_count": 2,
   "metadata": {},
   "outputs": [
    {
     "data": {
      "text/plain": [
       "('hello pusan', str)"
      ]
     },
     "execution_count": 2,
     "metadata": {},
     "output_type": "execute_result"
    }
   ],
   "source": [
    "a = 'hello pusan'\n",
    "a, type(a)"
   ]
  },
  {
   "cell_type": "code",
   "execution_count": 3,
   "metadata": {},
   "outputs": [
    {
     "data": {
      "text/plain": [
       "('\\n    select\\n        *\\n    from\\n        users;\\n', str)"
      ]
     },
     "execution_count": 3,
     "metadata": {},
     "output_type": "execute_result"
    }
   ],
   "source": [
    "# 3개짜리 표현은 여러줄 문자열 표현, 문자열의 구조를 유지할 때 사용 -> sql 등에 사용\n",
    "# 파이썬의 주석은 한 줄 주석만 존재, #\n",
    "# 여러줄 주석은 표현이 따로 없어 여러줄 표현하는 문자열 구조를 차용\n",
    "a = \"\"\"\n",
    "    select\n",
    "        *\n",
    "    from\n",
    "        users;\n",
    "\"\"\"\n",
    "a, type(a)"
   ]
  },
  {
   "cell_type": "code",
   "execution_count": 4,
   "metadata": {},
   "outputs": [
    {
     "data": {
      "text/plain": [
       "'\\n 3개짜리 표현은 여러줄 문자열 표현, 문자열의 구조를 유지할 때 사용 -> sql 등에 사용\\n 파이썬의 주석은 한 줄 주석만 존재, #\\n 여러줄 주석은 표현이 따로 없어 여러줄 표현하는 문자열 구조를 차용\\n'"
      ]
     },
     "execution_count": 4,
     "metadata": {},
     "output_type": "execute_result"
    }
   ],
   "source": [
    "\"\"\"\n",
    " 3개짜리 표현은 여러줄 문자열 표현, 문자열의 구조를 유지할 때 사용 -> sql 등에 사용\n",
    " 파이썬의 주석은 한 줄 주석만 존재, #\n",
    " 여러줄 주석은 표현이 따로 없어 여러줄 표현하는 문자열 구조를 차용\n",
    "\"\"\""
   ]
  },
  {
   "cell_type": "code",
   "execution_count": 5,
   "metadata": {},
   "outputs": [
    {
     "name": "stdout",
     "output_type": "stream",
     "text": [
      "abcde\"123\"fghijk\n"
     ]
    }
   ],
   "source": [
    "# 섞어서 표현\n",
    "# 원 문자열에 \"나 '가 포함되어 있어서 그대로 표현하고 싶다면 => 혼용\n",
    "a = 'abcde\"123\"fghijk'\n",
    "print(a)"
   ]
  },
  {
   "cell_type": "code",
   "execution_count": 6,
   "metadata": {},
   "outputs": [
    {
     "name": "stdout",
     "output_type": "stream",
     "text": [
      "abcde\"123\"fg'hi'jk\n"
     ]
    }
   ],
   "source": [
    "# 문자열 안에 \",'가 섞여서 문제가 될 때\n",
    "# 이스케이프 문자(\\) 표시법으로 문자열의 구분자가 아님을 표현\n",
    "a = 'abcde\"123\"fg\\'hi\\'jk'\n",
    "print(a)"
   ]
  },
  {
   "cell_type": "code",
   "execution_count": 7,
   "metadata": {},
   "outputs": [
    {
     "data": {
      "text/plain": [
       "('123456', '123', '456')"
      ]
     },
     "execution_count": 7,
     "metadata": {},
     "output_type": "execute_result"
    }
   ],
   "source": [
    "# 2. 문자열 더하기\n",
    "# 여러 개의 문자열을 한 개의 문자열로 만들기\n",
    "a = '123'\n",
    "b = '456'\n",
    "# 앞 문자열에 뒷 문자열을 이어붙여서 사본을 리턴한다.\n",
    "a+b, a, b"
   ]
  },
  {
   "cell_type": "code",
   "execution_count": 8,
   "metadata": {},
   "outputs": [
    {
     "data": {
      "text/plain": [
       "'=========='"
      ]
     },
     "execution_count": 8,
     "metadata": {},
     "output_type": "execute_result"
    }
   ],
   "source": [
    "# 3. 문자열 곱하기\n",
    "# 해당 문자열을 10번 반복하라\n",
    "'=' * 10"
   ]
  },
  {
   "cell_type": "code",
   "execution_count": 9,
   "metadata": {
    "scrolled": true
   },
   "outputs": [
    {
     "data": {
      "text/plain": [
       "'0123456789'"
      ]
     },
     "execution_count": 9,
     "metadata": {},
     "output_type": "execute_result"
    }
   ],
   "source": [
    "# 4. 인덱싱(indexing)\n",
    "# 문자열에서 특정 문자를 획득 (차원 축소라는 의미를 가짐)\n",
    "a = '0123456789'\n",
    "a"
   ]
  },
  {
   "cell_type": "code",
   "execution_count": 10,
   "metadata": {},
   "outputs": [
    {
     "data": {
      "text/plain": [
       "('2', '2')"
      ]
     },
     "execution_count": 10,
     "metadata": {},
     "output_type": "execute_result"
    }
   ],
   "source": [
    "# 위의 문자열 a에서 2라는 값을 출력(추출)하시오 -> 인덱싱\n",
    "# 문법\n",
    "# 변수명[ 인덱스(정방향(0,1,2...), 역방향(-1,-2,-3...)) ]\n",
    "# 정방향은 앞에서부터 센다. 역방향은 뒤에서부터 센다.\n",
    "# => 본질은 가까운 쪽에서 카운트해라\n",
    "# 커서의 오른쪽 값을 취한다.\n",
    "a[2], a[-8]"
   ]
  },
  {
   "cell_type": "code",
   "execution_count": 11,
   "metadata": {},
   "outputs": [
    {
     "data": {
      "text/plain": [
       "'https://www.google.com/search?q=vscode+%ED%95%9C%EA%B8%80+%EA%B9%A8%EC%A7%90&oq=vscode'"
      ]
     },
     "execution_count": 11,
     "metadata": {},
     "output_type": "execute_result"
    }
   ],
   "source": [
    "# 5. 슬라이싱\n",
    "# 문자열에서 특정 위치부터 특정 위치까지 추출(자른다.)\n",
    "# 원본은 그대로고, 잘라서 사본을 리턴 -> 차원유지\n",
    "tmp =\"https://www.google.com/search?q=vscode+%ED%95%9C%EA%B8%80+%EA%B9%A8%EC%A7%90&oq=vscode\"\n",
    "tmp"
   ]
  },
  {
   "cell_type": "code",
   "execution_count": 12,
   "metadata": {},
   "outputs": [],
   "source": [
    "# 위의 문자열에서 http라는 문자열을 추출 (결과물이 1개 이상)\n",
    "# 문법 : 변수[ 시작 인덱스 : 끝 인덱스 : 스텝 ]\n",
    "# 스텝은 생략 가능하고, 생략하면 1이된다. (1 <= step)"
   ]
  },
  {
   "cell_type": "code",
   "execution_count": 13,
   "metadata": {},
   "outputs": [
    {
     "data": {
      "text/plain": [
       "'https://www.google.com/search?q=vscode+%ED%95%9C%EA%B8%80+%EA%B9%A8%EC%A7%90&oq=vscode'"
      ]
     },
     "execution_count": 13,
     "metadata": {},
     "output_type": "execute_result"
    }
   ],
   "source": [
    "# 세팅 값을 하나도 않쓰고 최소 표현 : 1개만 쓰면? -> copy\n",
    "tmp[:]"
   ]
  },
  {
   "cell_type": "code",
   "execution_count": 14,
   "metadata": {},
   "outputs": [
    {
     "data": {
      "text/plain": [
       "'https'"
      ]
     },
     "execution_count": 14,
     "metadata": {},
     "output_type": "execute_result"
    }
   ],
   "source": [
    "tmp[0:5]"
   ]
  },
  {
   "cell_type": "code",
   "execution_count": 15,
   "metadata": {},
   "outputs": [
    {
     "data": {
      "text/plain": [
       "('hts', 'hp')"
      ]
     },
     "execution_count": 15,
     "metadata": {},
     "output_type": "execute_result"
    }
   ],
   "source": [
    "# step 값을 넣으면?\n",
    "tmp[0:5:2], tmp[0:5:3]"
   ]
  },
  {
   "cell_type": "code",
   "execution_count": 16,
   "metadata": {},
   "outputs": [
    {
     "data": {
      "text/plain": [
       "'ttps://www.google.com/search?q=vscode+%ED%95%9C%EA%B8%80+%EA%B9%A8%EC%A7%90&oq=vscod'"
      ]
     },
     "execution_count": 16,
     "metadata": {},
     "output_type": "execute_result"
    }
   ],
   "source": [
    "# 앞뒤로 한문자씩 잘라서 출력 -> 가까운 방향에서 계산\n",
    "tmp[1:-1]"
   ]
  },
  {
   "cell_type": "code",
   "execution_count": 17,
   "metadata": {},
   "outputs": [
    {
     "data": {
      "text/plain": [
       "'https://www.google.com/search?q=vscode+%ED%95%9C%EA%B8%80+%EA%B9%A8%EC%A7%90&oq=vscode'"
      ]
     },
     "execution_count": 17,
     "metadata": {},
     "output_type": "execute_result"
    }
   ],
   "source": [
    "# web에서 get방식 ?를 기점으로 뒤는 파라미터\n",
    "tmp"
   ]
  },
  {
   "cell_type": "code",
   "execution_count": 18,
   "metadata": {},
   "outputs": [
    {
     "data": {
      "text/plain": [
       "'https://www.google.com/search'"
      ]
     },
     "execution_count": 18,
     "metadata": {},
     "output_type": "execute_result"
    }
   ],
   "source": [
    "# 문자열의 유니버스(멤버) 함수\n",
    "# 문자열 지원함수, 문자열 객체의 멤버 함수\n",
    "# (. > tap -> 관련 함수 리스팅해줌)\n",
    "# 자르기 \n",
    "a = tmp.split('?')\n",
    "a[0]"
   ]
  },
  {
   "cell_type": "code",
   "execution_count": 19,
   "metadata": {},
   "outputs": [
    {
     "data": {
      "text/plain": [
       "'search'"
      ]
     },
     "execution_count": 19,
     "metadata": {},
     "output_type": "execute_result"
    }
   ],
   "source": [
    "b = a[0][-6:]\n",
    "b"
   ]
  },
  {
   "cell_type": "code",
   "execution_count": 20,
   "metadata": {},
   "outputs": [
    {
     "data": {
      "text/plain": [
       "(str, list)"
      ]
     },
     "execution_count": 20,
     "metadata": {},
     "output_type": "execute_result"
    }
   ],
   "source": [
    "# 데이터를 먼저 확인하고 진행\n",
    "type(tmp), type(tmp.split('?'))"
   ]
  },
  {
   "cell_type": "code",
   "execution_count": 21,
   "metadata": {},
   "outputs": [
    {
     "data": {
      "text/plain": [
       "'search'"
      ]
     },
     "execution_count": 21,
     "metadata": {},
     "output_type": "execute_result"
    }
   ],
   "source": [
    "tmp.split('?')[0][-6:]"
   ]
  },
  {
   "cell_type": "code",
   "execution_count": 22,
   "metadata": {},
   "outputs": [
    {
     "data": {
      "text/plain": [
       "'1 + 2 = 3'"
      ]
     },
     "execution_count": 22,
     "metadata": {},
     "output_type": "execute_result"
    }
   ],
   "source": [
    "# 6. 포맷팅(formating)\n",
    "# 문자열 안에 데이터를 넣어서 새로운 문자열을 생성\n",
    "# 6-1. 간단한 형식 \n",
    "a = 1\n",
    "b = 2\n",
    "# x + y = z 형태로 출력\n",
    "# str(수치) => 문자열 : 형변환\n",
    "# int(\"1\") => 1       : 형변환\n",
    "str(a) + \" + \" + str(b) + \" = \" + str(a+b)"
   ]
  },
  {
   "cell_type": "code",
   "execution_count": 23,
   "metadata": {},
   "outputs": [],
   "source": [
    "# 위의 방법은 구조가 한 눈에 들어오지 않는다."
   ]
  },
  {
   "cell_type": "code",
   "execution_count": 24,
   "metadata": {},
   "outputs": [
    {
     "data": {
      "text/plain": [
       "'1 + 2 = 3'"
      ]
     },
     "execution_count": 24,
     "metadata": {},
     "output_type": "execute_result"
    }
   ],
   "source": [
    "# 결론을 쓰고 데이터를 삽입(세팅, 설정)\n",
    "'x + y = z'\n",
    "# %d : 정수, %f : 부동소수, %s : 문자열\n",
    "'%d + %d = %d' %(a, b, a+b)"
   ]
  },
  {
   "cell_type": "code",
   "execution_count": 25,
   "metadata": {},
   "outputs": [
    {
     "data": {
      "text/plain": [
       "'1 / 2 = 0'"
      ]
     },
     "execution_count": 25,
     "metadata": {},
     "output_type": "execute_result"
    }
   ],
   "source": [
    "# 값이 부동소수인데, 정수로 받으면 소수점이 날라간다\n",
    "'%d / %d = %d' %(a, b, a/b)"
   ]
  },
  {
   "cell_type": "code",
   "execution_count": 26,
   "metadata": {},
   "outputs": [
    {
     "data": {
      "text/plain": [
       "'1 / 2 = 0.500000'"
      ]
     },
     "execution_count": 26,
     "metadata": {},
     "output_type": "execute_result"
    }
   ],
   "source": [
    "# 타입에 맞춰서 예상해서 형식을 지정해야 한다.\n",
    "'%d / %d = %f' %(a, b, a/b)"
   ]
  },
  {
   "cell_type": "code",
   "execution_count": 27,
   "metadata": {},
   "outputs": [
    {
     "data": {
      "text/plain": [
       "'1 2= 0.5'"
      ]
     },
     "execution_count": 27,
     "metadata": {},
     "output_type": "execute_result"
    }
   ],
   "source": [
    "# %s로 표현하면 타입이 무엇이든 다 문자열로 변환해서 원본값 유지\n",
    "# 무난하게 해결 가능, 타입 몰라도 가능\n",
    "'%s %s= %s' %(a, b, a/b)"
   ]
  },
  {
   "cell_type": "code",
   "execution_count": 28,
   "metadata": {},
   "outputs": [],
   "source": [
    "# 위의 표현식은 순서를 조정할 수 없다."
   ]
  },
  {
   "cell_type": "code",
   "execution_count": 29,
   "metadata": {},
   "outputs": [
    {
     "ename": "TypeError",
     "evalue": "not all arguments converted during string formatting",
     "output_type": "error",
     "traceback": [
      "\u001b[1;31m---------------------------------------------------------------------------\u001b[0m",
      "\u001b[1;31mTypeError\u001b[0m                                 Traceback (most recent call last)",
      "\u001b[1;32m<ipython-input-29-15a0ac890b2e>\u001b[0m in \u001b[0;36m<module>\u001b[1;34m\u001b[0m\n\u001b[0;32m      1\u001b[0m \u001b[1;31m# 사용처 대비 인자가 더 많다. -> 에러(딱 맞게 사용해야 한다.)\u001b[0m\u001b[1;33m\u001b[0m\u001b[1;33m\u001b[0m\u001b[1;33m\u001b[0m\u001b[0m\n\u001b[1;32m----> 2\u001b[1;33m \u001b[1;34m'%s %s= %s'\u001b[0m \u001b[1;33m%\u001b[0m\u001b[1;33m(\u001b[0m\u001b[0ma\u001b[0m\u001b[1;33m,\u001b[0m \u001b[0mb\u001b[0m\u001b[1;33m,\u001b[0m \u001b[0ma\u001b[0m\u001b[1;33m/\u001b[0m\u001b[0mb\u001b[0m\u001b[1;33m,\u001b[0m \u001b[1;36m10\u001b[0m\u001b[1;33m)\u001b[0m\u001b[1;33m\u001b[0m\u001b[1;33m\u001b[0m\u001b[0m\n\u001b[0m",
      "\u001b[1;31mTypeError\u001b[0m: not all arguments converted during string formatting"
     ]
    }
   ],
   "source": [
    "# 사용처 대비 인자가 더 많다. -> 에러(딱 맞게 사용해야 한다.)\n",
    "'%s %s= %s' %(a, b, a/b, 10)"
   ]
  },
  {
   "cell_type": "code",
   "execution_count": null,
   "metadata": {},
   "outputs": [],
   "source": [
    "# 6-2 포맷팅\n",
    "# 문자열의 포맷함수 이용하여 처리\n",
    "# 사용 순서의 유연함, 인자의 이름 지정(명확성 부여), 미사용에도 커버\n",
    "'x + y = z'"
   ]
  },
  {
   "cell_type": "code",
   "execution_count": null,
   "metadata": {},
   "outputs": [],
   "source": [
    "'{} + {} = {}'.format(a, b, a+b)\n",
    "# 포맷팅은 더 많은 기능이 있다."
   ]
  },
  {
   "cell_type": "code",
   "execution_count": null,
   "metadata": {},
   "outputs": [],
   "source": [
    "# 순서를 내 마음대로 배치\n",
    "'{1} + {0} = {2}'.format(a, b, a+b)"
   ]
  },
  {
   "cell_type": "code",
   "execution_count": null,
   "metadata": {},
   "outputs": [],
   "source": [
    "# 사용을 안한다면, 한개를 여러번 사용하면\n",
    "'{1} + {1} = {1}'.format(a, b, a+b)"
   ]
  },
  {
   "cell_type": "code",
   "execution_count": null,
   "metadata": {},
   "outputs": [],
   "source": [
    "# 각 자리에 명확한 의미를 부여하고 싶다. => 매개변수 지정\n",
    "'{heigh} + {weight} = {result}'.format(heigh=a, weight=b, result=a+b)"
   ]
  },
  {
   "cell_type": "code",
   "execution_count": null,
   "metadata": {},
   "outputs": [],
   "source": [
    "# 기타 문자열 지원기능 (멤버함수, 유니버스 함수 ...)\n",
    "a = '0123456789abcdefgABCDEFG!@#$%^가나다라'\n",
    "a"
   ]
  },
  {
   "cell_type": "code",
   "execution_count": null,
   "metadata": {},
   "outputs": [],
   "source": [
    "# 카운트, 존재 여부 확인\n",
    "'문자열 내에 특정 문자 개수', a.count('a')"
   ]
  },
  {
   "cell_type": "code",
   "execution_count": null,
   "metadata": {},
   "outputs": [],
   "source": [
    "'문자열 내에 특정 문자 개수', a.count('h')"
   ]
  },
  {
   "cell_type": "code",
   "execution_count": null,
   "metadata": {},
   "outputs": [],
   "source": [
    "# 문자열 내에 위치 확인, 존재 여부 확인 ( 존재 확인 기능으로는 카운트가 더 낫다 -> 에러가 없기 때문)\n",
    "a.index('a')"
   ]
  },
  {
   "cell_type": "code",
   "execution_count": null,
   "metadata": {},
   "outputs": [],
   "source": [
    "# 없는 문자열의 인덱스를 찾으면 에러 -> 예외처리!!\n",
    "a.index('h')"
   ]
  },
  {
   "cell_type": "code",
   "execution_count": null,
   "metadata": {},
   "outputs": [],
   "source": [
    "# 특정 문자가 존재하면 인덱스 반환\n",
    "# 없으면 -1 리턴\n",
    "a.find('a'), a.find('h'), a.find('z')"
   ]
  },
  {
   "cell_type": "code",
   "execution_count": null,
   "metadata": {},
   "outputs": [],
   "source": [
    "# count(), index(), find()\n",
    "# 문자열 내 문자열의 존재여부, 위치 등 탐색을 수행하는 함수들이다."
   ]
  },
  {
   "cell_type": "code",
   "execution_count": null,
   "metadata": {},
   "outputs": [],
   "source": [
    "# 8. 조인, 분해\n",
    "a = '0123456789'\n",
    "a"
   ]
  },
  {
   "cell_type": "code",
   "execution_count": null,
   "metadata": {},
   "outputs": [],
   "source": [
    "# 조인\n",
    "# 대상 문자열 문자 사이사이에 특정한 문자열을 넣겠다.\n",
    "tmp = '|'.join(a)\n",
    "tmp"
   ]
  },
  {
   "cell_type": "code",
   "execution_count": null,
   "metadata": {},
   "outputs": [],
   "source": [
    "# 분해\n",
    "# 문자열을 특정 문자를 기준으로 쪼갠다(분해한다).\n",
    "tmp.split('|')"
   ]
  },
  {
   "cell_type": "code",
   "execution_count": null,
   "metadata": {},
   "outputs": [],
   "source": [
    "# 참고로 확인(조인, 분해 과정을 거쳐 자동 생성)\n",
    "list(a)"
   ]
  },
  {
   "cell_type": "code",
   "execution_count": null,
   "metadata": {},
   "outputs": [],
   "source": [
    "# 9. 공백 제거\n",
    "tmp = \"\"\"\t\t\t\t\n",
    "\t\t\t\t\t\n",
    "\t\t\t\t\t\n",
    "\t\t\t\t\t\n",
    "\t\t\t\t\t미국 USD\n",
    "\t\t\t\t\n",
    "\t\t\t\t\"\"\"\n",
    "tmp"
   ]
  },
  {
   "cell_type": "code",
   "execution_count": null,
   "metadata": {},
   "outputs": [],
   "source": [
    "# 앞, 뒤, 앞뒤 공백 제거는 함수에서 지원\n",
    "# 데이터 내부(사이)의 공백은 정규식으로 처리해야 제거 가능\n",
    "'%s' %(tmp.lstrip())"
   ]
  },
  {
   "cell_type": "code",
   "execution_count": 30,
   "metadata": {},
   "outputs": [
    {
     "data": {
      "text/plain": [
       "'https://www.google.com/search?q=vscode+%ED%95%9C%EA%B8%80+%EA%B9%A8%EC%A7%90&oq=vscode'"
      ]
     },
     "execution_count": 30,
     "metadata": {},
     "output_type": "execute_result"
    }
   ],
   "source": [
    "'%s' %(tmp.rstrip())"
   ]
  },
  {
   "cell_type": "code",
   "execution_count": 31,
   "metadata": {},
   "outputs": [
    {
     "data": {
      "text/plain": [
       "'https://www.google.com/search?q=vscode+%ED%95%9C%EA%B8%80+%EA%B9%A8%EC%A7%90&oq=vscode'"
      ]
     },
     "execution_count": 31,
     "metadata": {},
     "output_type": "execute_result"
    }
   ],
   "source": [
    "'%s' %(tmp.strip())"
   ]
  },
  {
   "cell_type": "code",
   "execution_count": 32,
   "metadata": {},
   "outputs": [
    {
     "ename": "IndexError",
     "evalue": "list index out of range",
     "output_type": "error",
     "traceback": [
      "\u001b[1;31m---------------------------------------------------------------------------\u001b[0m",
      "\u001b[1;31mIndexError\u001b[0m                                Traceback (most recent call last)",
      "\u001b[1;32m<ipython-input-32-89677b5c260d>\u001b[0m in \u001b[0;36m<module>\u001b[1;34m\u001b[0m\n\u001b[0;32m      1\u001b[0m \u001b[1;31m# USD만 가져오기\u001b[0m\u001b[1;33m\u001b[0m\u001b[1;33m\u001b[0m\u001b[1;33m\u001b[0m\u001b[0m\n\u001b[0;32m      2\u001b[0m \u001b[1;31m# 구분자가 공백이면 기본 분해값이다.(default로 비워도 된다)\u001b[0m\u001b[1;33m\u001b[0m\u001b[1;33m\u001b[0m\u001b[1;33m\u001b[0m\u001b[0m\n\u001b[1;32m----> 3\u001b[1;33m \u001b[1;34m'%s'\u001b[0m \u001b[1;33m%\u001b[0m\u001b[1;33m(\u001b[0m\u001b[0mtmp\u001b[0m\u001b[1;33m.\u001b[0m\u001b[0mstrip\u001b[0m\u001b[1;33m(\u001b[0m\u001b[1;33m)\u001b[0m\u001b[1;33m)\u001b[0m\u001b[1;33m.\u001b[0m\u001b[0msplit\u001b[0m\u001b[1;33m(\u001b[0m\u001b[1;33m)\u001b[0m\u001b[1;33m[\u001b[0m\u001b[1;36m1\u001b[0m\u001b[1;33m]\u001b[0m\u001b[1;33m\u001b[0m\u001b[1;33m\u001b[0m\u001b[0m\n\u001b[0m\u001b[0;32m      4\u001b[0m \u001b[0mtmp\u001b[0m\u001b[1;33m.\u001b[0m\u001b[0mstrip\u001b[0m\u001b[1;33m(\u001b[0m\u001b[1;33m)\u001b[0m\u001b[1;33m.\u001b[0m\u001b[0msplit\u001b[0m\u001b[1;33m(\u001b[0m\u001b[1;33m)\u001b[0m\u001b[1;33m[\u001b[0m\u001b[1;33m-\u001b[0m\u001b[1;36m1\u001b[0m\u001b[1;33m]\u001b[0m\u001b[1;33m\u001b[0m\u001b[1;33m\u001b[0m\u001b[0m\n\u001b[0;32m      5\u001b[0m \u001b[1;31m# 인덱스는 데이터에 따라 -1 or 1 을 사용한다. (전체 데이터의 정황적인 결과를 보고)\u001b[0m\u001b[1;33m\u001b[0m\u001b[1;33m\u001b[0m\u001b[1;33m\u001b[0m\u001b[0m\n",
      "\u001b[1;31mIndexError\u001b[0m: list index out of range"
     ]
    }
   ],
   "source": [
    "# USD만 가져오기\n",
    "# 구분자가 공백이면 기본 분해값이다.(default로 비워도 된다)\n",
    "'%s' %(tmp.strip()).split()[1]\n",
    "tmp.strip().split()[-1]\n",
    "# 인덱스는 데이터에 따라 -1 or 1 을 사용한다. (전체 데이터의 정황적인 결과를 보고)"
   ]
  },
  {
   "cell_type": "code",
   "execution_count": 33,
   "metadata": {},
   "outputs": [],
   "source": [
    "# 10. 문자열 대체"
   ]
  },
  {
   "cell_type": "code",
   "execution_count": 34,
   "metadata": {},
   "outputs": [
    {
     "data": {
      "text/plain": [
       "\"The Gascon campaign of 1345, part of the Hundred Years' War, \\nwas fought between August and November in English-controlled \\nGascony in south-west France. Henry, Earl of Derby, \\ncommanding an Anglo-Gascon force, met a large French force at Bergerac, east of \\nBordeaux, and decisively defeated it.\""
      ]
     },
     "execution_count": 34,
     "metadata": {},
     "output_type": "execute_result"
    }
   ],
   "source": [
    "a = '''The Gascon campaign of 1345, part of the Hundred Years' War, \n",
    "was fought between August and November in English-controlled \n",
    "Gascony in south-west France. Henry, Earl of Derby, \n",
    "commanding an Anglo-Gascon force, met a large French force at Bergerac, east of \n",
    "Bordeaux, and decisively defeated it.'''\n",
    "a"
   ]
  },
  {
   "cell_type": "code",
   "execution_count": 35,
   "metadata": {},
   "outputs": [
    {
     "data": {
      "text/plain": [
       "\"The Gascon campaign of 1345 part of the Hundred Years' War was fought between August and November in Englishcontrolled Gascony in southwest France Henry Earl of Derby commanding an AngloGascon force met a large French force at Bergerac east of Bordeaux and decisively defeated it\""
      ]
     },
     "execution_count": 35,
     "metadata": {},
     "output_type": "execute_result"
    }
   ],
   "source": [
    "# 특정 문자를 특정 문자로 대체\n",
    "# 좀 더 발전적인 표현은 정규식이다!!\n",
    "# 간단하게 특정문자를 대체할 경우 사용 -> 모든 문자열에 적용\n",
    "a.replace(',', '').replace('.', '').replace('\\n', '').replace('-', '')"
   ]
  },
  {
   "cell_type": "code",
   "execution_count": null,
   "metadata": {},
   "outputs": [],
   "source": []
  },
  {
   "cell_type": "code",
   "execution_count": 40,
   "metadata": {},
   "outputs": [],
   "source": [
    "# 11. 자리칸 배치 및 치환식"
   ]
  },
  {
   "cell_type": "code",
   "execution_count": 41,
   "metadata": {},
   "outputs": [
    {
     "data": {
      "text/plain": [
       "'[    abcdef]'"
      ]
     },
     "execution_count": 41,
     "metadata": {},
     "output_type": "execute_result"
    }
   ],
   "source": [
    "'[%10s]'%'abcdef'"
   ]
  },
  {
   "cell_type": "code",
   "execution_count": 42,
   "metadata": {},
   "outputs": [
    {
     "data": {
      "text/plain": [
       "'[abcdef    ]'"
      ]
     },
     "execution_count": 42,
     "metadata": {},
     "output_type": "execute_result"
    }
   ],
   "source": [
    "'[%-10s]'%'abcdef'"
   ]
  },
  {
   "cell_type": "code",
   "execution_count": 45,
   "metadata": {},
   "outputs": [
    {
     "data": {
      "text/plain": [
       "'[3.145679]'"
      ]
     },
     "execution_count": 45,
     "metadata": {},
     "output_type": "execute_result"
    }
   ],
   "source": [
    "# 소수점 6자리 나오고 반올림된다.\n",
    "'[%f]'%3.1456789"
   ]
  },
  {
   "cell_type": "code",
   "execution_count": 47,
   "metadata": {},
   "outputs": [
    {
     "data": {
      "text/plain": [
       "'[3.15]'"
      ]
     },
     "execution_count": 47,
     "metadata": {},
     "output_type": "execute_result"
    }
   ],
   "source": [
    "# 소수점만 2자리 -> 반올림된다.\n",
    "'[%0.2f]'%3.1456789"
   ]
  },
  {
   "cell_type": "code",
   "execution_count": 48,
   "metadata": {},
   "outputs": [
    {
     "data": {
      "text/plain": [
       "'[      3.15]'"
      ]
     },
     "execution_count": 48,
     "metadata": {},
     "output_type": "execute_result"
    }
   ],
   "source": [
    "'[%10.2f]'%3.1456789"
   ]
  },
  {
   "cell_type": "code",
   "execution_count": 49,
   "metadata": {},
   "outputs": [
    {
     "data": {
      "text/plain": [
       "'[3.15      ]'"
      ]
     },
     "execution_count": 49,
     "metadata": {},
     "output_type": "execute_result"
    }
   ],
   "source": [
    "'[%-10.2f]'%3.1456789"
   ]
  },
  {
   "cell_type": "code",
   "execution_count": 52,
   "metadata": {},
   "outputs": [
    {
     "data": {
      "text/plain": [
       "'[abcdef    ]'"
      ]
     },
     "execution_count": 52,
     "metadata": {},
     "output_type": "execute_result"
    }
   ],
   "source": [
    "'[%-10s]'%'abcdef'\n",
    "# 앞의 숫자는 전체 칸수를 지정"
   ]
  },
  {
   "cell_type": "code",
   "execution_count": 58,
   "metadata": {},
   "outputs": [
    {
     "data": {
      "text/plain": [
       "'123가         456'"
      ]
     },
     "execution_count": 58,
     "metadata": {},
     "output_type": "execute_result"
    }
   ],
   "source": [
    "# 10칸 내에 표현\n",
    "'123{0:<10}456'.format('가')  #default\n",
    "'123{0:10}456'.format('가')"
   ]
  },
  {
   "cell_type": "code",
   "execution_count": 57,
   "metadata": {},
   "outputs": [
    {
     "data": {
      "text/plain": [
       "'123         가456'"
      ]
     },
     "execution_count": 57,
     "metadata": {},
     "output_type": "execute_result"
    }
   ],
   "source": [
    "'123{0:>10}456'.format('가')"
   ]
  },
  {
   "cell_type": "code",
   "execution_count": 60,
   "metadata": {},
   "outputs": [
    {
     "data": {
      "text/plain": [
       "'123     가     456'"
      ]
     },
     "execution_count": 60,
     "metadata": {},
     "output_type": "execute_result"
    }
   ],
   "source": [
    "# 짝수 칸이면 앞쪽으로 치우치고\n",
    "# 홀수 칸이면 정중앙\n",
    "'123{0:^11}456'.format('가')"
   ]
  },
  {
   "cell_type": "code",
   "execution_count": 61,
   "metadata": {},
   "outputs": [
    {
     "data": {
      "text/plain": [
       "'123*****가*****456'"
      ]
     },
     "execution_count": 61,
     "metadata": {},
     "output_type": "execute_result"
    }
   ],
   "source": [
    "'123{0:*^11}456'.format('가')"
   ]
  }
 ],
 "metadata": {
  "kernelspec": {
   "display_name": "Python 3",
   "language": "python",
   "name": "python3"
  },
  "language_info": {
   "codemirror_mode": {
    "name": "ipython",
    "version": 3
   },
   "file_extension": ".py",
   "mimetype": "text/x-python",
   "name": "python",
   "nbconvert_exporter": "python",
   "pygments_lexer": "ipython3",
   "version": "3.7.4"
  }
 },
 "nbformat": 4,
 "nbformat_minor": 2
}
