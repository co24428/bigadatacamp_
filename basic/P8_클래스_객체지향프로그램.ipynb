{
 "cells": [
  {
   "cell_type": "markdown",
   "metadata": {},
   "source": [
    "## class, 객체\n",
    "\n",
    "- 용어 정리\n",
    "    - 개체 : 이 세상에 존재하는 모든 유형/무형(사고, 생각 등등)\n",
    "        - entity\n",
    "        - 전산에서 코드로 구현할 대상이 된다.\n",
    "    - class\n",
    "        - 사람이라는 유형을 전산으로 구현해보자\n",
    "        - 전산상에서는 이를 구현할 수 있는 기준, 용어가 필요\n",
    "        - 이를 클래스라고 정의한다.\n",
    "        - 클래스는 개체를 구현하는 방법(룰, 문법)\n",
    "        - 클래스를 작성한 코드를 구현하면 클래스가 **메모리**에 로드되는데,\n",
    "        - 이 때, 이를 **\"객체\"** 라고 부른다.\n",
    "    - 객체(Object) : \n",
    "        - 여러 개 생성할 수 있다.\n",
    "        - 그런 동일한 객체들은 동일한 특성을 가진다\n",
    "            - ex) 눈이 2개, 입이 1개 ... etc\n",
    "            - 특성 => 문법적으로 변수로 표현\n",
    "            - 멤버 변수\n",
    "        - 그런 동일한 객체들은 동일한 행동을 가진다\n",
    "            - ex) 밥을 먹는다, 달린다 ... etc\n",
    "            - 행동 => 문법적으로 함수로 표현\n",
    "            - 멤버 함수\n",
    "    - 객체를 중심으로(class를 중심으로) 코드가 작성되고, 관리되면\n",
    "    - **\"객체지향 프로그램(OOP)\"** 이라고 부른다.\n",
    "        - C++에서 처음 등장, 자바에서 발전, 이후는 대부부느이 언어가 지원\n",
    "        - 상속성\n",
    "            - 부모, 자식관계를 통해서, 상속을 받은 자식을 부모의 모든 기능을 그대로 사용 가능하고, 자식은 재정의하거나, 기능을 추가할 수 있다.\n",
    "            - **파이썬은 상속성만 신경쓴다.**\n",
    "        - 캡슐화\n",
    "            - 데이터를 내부로 숨기고, 정해진 함수를 통해서 데이터를 읽고, 쓰기\n",
    "        - 다형성\n",
    "        "
   ]
  },
  {
   "cell_type": "code",
   "execution_count": 1,
   "metadata": {},
   "outputs": [],
   "source": [
    "# 형식 : class 기술"
   ]
  },
  {
   "cell_type": "code",
   "execution_count": 2,
   "metadata": {},
   "outputs": [],
   "source": [
    "# 한 구성원을 일부 보여주면서 class를 정의\n",
    "class Person:\n",
    "    '''\n",
    "    멤버 변수\n",
    "    '''\n",
    "    name = \"홍길동\"\n",
    "    '''\n",
    "    멤버 함수\n",
    "    '''\n",
    "    def getName():\n",
    "        print('Person의 이름입니다.')\n",
    "    '''\n",
    "    생성자\n",
    "    '''"
   ]
  },
  {
   "cell_type": "code",
   "execution_count": null,
   "metadata": {},
   "outputs": [],
   "source": [
    "# 함수   -> 호출해야 존재하고\n",
    "# 클래스 -> 생성해야 존재한다 ( [인자 ...])"
   ]
  },
  {
   "cell_type": "code",
   "execution_count": 3,
   "metadata": {},
   "outputs": [
    {
     "data": {
      "text/plain": [
       "<__main__.Person at 0x1ce07642788>"
      ]
     },
     "execution_count": 3,
     "metadata": {},
     "output_type": "execute_result"
    }
   ],
   "source": [
    "p = Person()\n",
    "p"
   ]
  },
  {
   "cell_type": "code",
   "execution_count": 4,
   "metadata": {},
   "outputs": [],
   "source": [
    "# p라는 객체의 멤버들을 접근하고 싶으면 .(도트 연산자) 사용"
   ]
  },
  {
   "cell_type": "code",
   "execution_count": 5,
   "metadata": {},
   "outputs": [
    {
     "data": {
      "text/plain": [
       "'홍길동'"
      ]
     },
     "execution_count": 5,
     "metadata": {},
     "output_type": "execute_result"
    }
   ],
   "source": [
    "p.name"
   ]
  },
  {
   "cell_type": "code",
   "execution_count": 6,
   "metadata": {},
   "outputs": [
    {
     "ename": "TypeError",
     "evalue": "getName() takes 0 positional arguments but 1 was given",
     "output_type": "error",
     "traceback": [
      "\u001b[1;31m---------------------------------------------------------------------------\u001b[0m",
      "\u001b[1;31mTypeError\u001b[0m                                 Traceback (most recent call last)",
      "\u001b[1;32m<ipython-input-6-147f15d4dd1f>\u001b[0m in \u001b[0;36m<module>\u001b[1;34m\u001b[0m\n\u001b[1;32m----> 1\u001b[1;33m \u001b[0mp\u001b[0m\u001b[1;33m.\u001b[0m\u001b[0mgetName\u001b[0m\u001b[1;33m(\u001b[0m\u001b[1;33m)\u001b[0m\u001b[1;33m\u001b[0m\u001b[1;33m\u001b[0m\u001b[0m\n\u001b[0m",
      "\u001b[1;31mTypeError\u001b[0m: getName() takes 0 positional arguments but 1 was given"
     ]
    }
   ],
   "source": [
    "p.getName()"
   ]
  },
  {
   "cell_type": "markdown",
   "metadata": {},
   "source": [
    "- 클래스 내부에 존재하는 모든 함수의 1번 인자는\n",
    "- 클래스 자기 자신을 설명하는 키워드 => self로 세팅된다.\n",
    "- 타 언어에서는 this라고 표현한다."
   ]
  },
  {
   "cell_type": "code",
   "execution_count": 10,
   "metadata": {},
   "outputs": [],
   "source": [
    "class Person:\n",
    "    name = \"홍길동\"\n",
    "    def getName(self): # 첫번 째 인자는 무조건 self로\n",
    "        print('Person의 이름입니다.')\n",
    "        \n",
    "    '''\n",
    "    생성자\n",
    "    '''"
   ]
  },
  {
   "cell_type": "code",
   "execution_count": 11,
   "metadata": {},
   "outputs": [],
   "source": [
    "p = Person()"
   ]
  },
  {
   "cell_type": "code",
   "execution_count": 12,
   "metadata": {
    "scrolled": true
   },
   "outputs": [
    {
     "name": "stdout",
     "output_type": "stream",
     "text": [
      "Person의 이름입니다.\n"
     ]
    }
   ],
   "source": [
    "p.getName()"
   ]
  },
  {
   "cell_type": "markdown",
   "metadata": {},
   "source": [
    "- 생성자, constructor <=\n",
    "- 클래스를 보고 객체를 생성하는 실제적인 작업 진행\n",
    "- 기본 생성자는 생략 가능하다.\n",
    "- 생성자의 기본 역할 중에 하나는 멤버변수 초기화\n",
    "- 이름 : \\_\\_init__\n"
   ]
  },
  {
   "cell_type": "code",
   "execution_count": 13,
   "metadata": {},
   "outputs": [],
   "source": [
    "class Person:\n",
    "    name = \"홍길동\"\n",
    "    def getName(self):\n",
    "        print('Person의 이름입니다.')\n",
    "        \n",
    "    '''\n",
    "    생성자 : 객체를 생성, 멤버변수 초기화(옵션)\n",
    "    '''\n",
    "    def __init__(self): # 첫번 째 인자는 무조건 self로\n",
    "        print('객체 생성')"
   ]
  },
  {
   "cell_type": "code",
   "execution_count": 14,
   "metadata": {},
   "outputs": [
    {
     "name": "stdout",
     "output_type": "stream",
     "text": [
      "객체 생성\n"
     ]
    },
    {
     "data": {
      "text/plain": [
       "<__main__.Person at 0x1ce07e84888>"
      ]
     },
     "execution_count": 14,
     "metadata": {},
     "output_type": "execute_result"
    }
   ],
   "source": [
    "Person()"
   ]
  },
  {
   "cell_type": "code",
   "execution_count": 25,
   "metadata": {},
   "outputs": [],
   "source": [
    "# 멤버 변수 초기화\n",
    "class Person:\n",
    "    name = None\n",
    "    def getName(self):\n",
    "        print('Person의 이름입니다.')\n",
    "    def __init__(self, name=\"기본값\"): # 첫번 째 인자는 무조건 self로\n",
    "        print('객체 생성')\n",
    "        # 클래스 내부에서 멤버들을 사용할 경우\n",
    "        # self.변수, self.함수\n",
    "        self.name = name"
   ]
  },
  {
   "cell_type": "code",
   "execution_count": 34,
   "metadata": {},
   "outputs": [
    {
     "name": "stdout",
     "output_type": "stream",
     "text": [
      "객체 생성\n",
      "객체 생성\n"
     ]
    }
   ],
   "source": [
    "p = Person(\"홍길동\")\n",
    "q = Person() # 생성자 파라미터에 default값 안주면 에러 발생"
   ]
  },
  {
   "cell_type": "code",
   "execution_count": 35,
   "metadata": {},
   "outputs": [
    {
     "name": "stdout",
     "output_type": "stream",
     "text": [
      "홍길동 기본값\n"
     ]
    }
   ],
   "source": [
    "print(p.name,q.name)"
   ]
  },
  {
   "cell_type": "code",
   "execution_count": null,
   "metadata": {},
   "outputs": [],
   "source": [
    "# 초기화 => 최초, 맨 처음에 값을 세팅하는 행위\n",
    "# 초기화 => 변수를 사용하기 전에 초기값을 넣는 행위\n",
    "a = 10\n",
    "a =None"
   ]
  },
  {
   "cell_type": "code",
   "execution_count": 36,
   "metadata": {},
   "outputs": [],
   "source": [
    "# 멤버 변수 초기화\n",
    "class Person:\n",
    "    name = None\n",
    "    def getName(self):\n",
    "        print('Person의 이름은 {}입니다.'.format(self.name))\n",
    "    def __init__(self, name=\"기본값\"): # 첫번 째 인자는 무조건 self로\n",
    "        print('객체 생성')\n",
    "        # 클래스 내부에서 멤버들을 사용할 경우\n",
    "        # self.변수, self.함수\n",
    "        self.name = name"
   ]
  },
  {
   "cell_type": "code",
   "execution_count": 37,
   "metadata": {},
   "outputs": [
    {
     "name": "stdout",
     "output_type": "stream",
     "text": [
      "객체 생성\n"
     ]
    }
   ],
   "source": [
    "p=Person(\"홍길동\")"
   ]
  },
  {
   "cell_type": "code",
   "execution_count": 38,
   "metadata": {
    "scrolled": true
   },
   "outputs": [
    {
     "name": "stdout",
     "output_type": "stream",
     "text": [
      "Person의 이름은 홍길동입니다.\n"
     ]
    }
   ],
   "source": [
    "p.getName()"
   ]
  },
  {
   "cell_type": "code",
   "execution_count": 72,
   "metadata": {},
   "outputs": [],
   "source": [
    "class Person:\n",
    "    # 이미 멤버변수 초기화는 수행되었다.\n",
    "    name = None\n",
    "    age = 25\n",
    "    weight = 300\n",
    "    def getName(self):\n",
    "        print('Person의 이름은 {}입니다.'.format(self.name))\n",
    "    def __init__(self, name, age, weight):\n",
    "        print('객체 생성')\n",
    "        if name:\n",
    "            self.name = name\n",
    "        if age:\n",
    "            self.age = age\n",
    "        if weight:\n",
    "            self.weight = weight"
   ]
  },
  {
   "cell_type": "code",
   "execution_count": 73,
   "metadata": {},
   "outputs": [
    {
     "name": "stdout",
     "output_type": "stream",
     "text": [
      "객체 생성\n",
      "객체 생성\n",
      "객체 생성\n"
     ]
    }
   ],
   "source": [
    "p = Person(\"asd\",0,0)\n",
    "q = Person(\"asd\",20,70)\n",
    "q1 = Person(\"asdsadsad\",120,170)"
   ]
  },
  {
   "cell_type": "code",
   "execution_count": 74,
   "metadata": {},
   "outputs": [
    {
     "name": "stdout",
     "output_type": "stream",
     "text": [
      "170 70\n"
     ]
    }
   ],
   "source": [
    "print(q1.weight,q.weight)"
   ]
  },
  {
   "cell_type": "markdown",
   "metadata": {},
   "source": [
    "### 상속\n",
    "\n",
    "- A라는 클래스를 상속받은 클래스가 B이다. (명제)\n",
    "- A는 부모, B는 자식, 자식은 여러 개일 수 있다.\n",
    "- 자식은 부모의 것을 그대로 물려받고, 그것을 개선 및 추가할 수 있다.\n",
    "- 다음 문구를 확인 :\n",
    "- 객체 지향 프로그램에서 부모, 자식 관계를 설명하는 명제  \n",
    "    A has a B => 참  \n",
    "    B is a A => 참  \n",
    " \n",
    "- **자식은 부모의 것을 그대로 물려받고, 그것을 개선(재정의:overriding) 및 추가할 수 있다.**"
   ]
  },
  {
   "cell_type": "code",
   "execution_count": 54,
   "metadata": {},
   "outputs": [],
   "source": [
    "# 모든 클래스의 슈퍼클래스는 Object\n",
    "# 이것은 생략 가능하다.\n",
    "# 특정 클래스를 상속 => 클래스명(부모클래스명)\n",
    "class Xman(Person):\n",
    "    pass\n",
    "    "
   ]
  },
  {
   "cell_type": "code",
   "execution_count": 57,
   "metadata": {},
   "outputs": [
    {
     "name": "stdout",
     "output_type": "stream",
     "text": [
      "객체 생성\n"
     ]
    }
   ],
   "source": [
    "x = Xman(1,2,3)"
   ]
  },
  {
   "cell_type": "code",
   "execution_count": 58,
   "metadata": {},
   "outputs": [
    {
     "data": {
      "text/plain": [
       "1"
      ]
     },
     "execution_count": 58,
     "metadata": {},
     "output_type": "execute_result"
    }
   ],
   "source": [
    "x.name"
   ]
  },
  {
   "cell_type": "code",
   "execution_count": 59,
   "metadata": {
    "scrolled": true
   },
   "outputs": [
    {
     "name": "stdout",
     "output_type": "stream",
     "text": [
      "Person의 이름은 1입니다.\n"
     ]
    }
   ],
   "source": [
    "x.getName()"
   ]
  },
  {
   "cell_type": "code",
   "execution_count": 62,
   "metadata": {},
   "outputs": [],
   "source": [
    "# 모든 클래스의 슈퍼클래스는 Object\n",
    "# 이것은 생략 가능하다.\n",
    "# 특정 클래스를 상속 => 클래스명(부모클래스명)\n",
    "class Xman(Person):\n",
    "    def eat(self):\n",
    "        print(\"나는 점심을 5분만에 먹을 수 있다.\")\n",
    "    "
   ]
  },
  {
   "cell_type": "code",
   "execution_count": 63,
   "metadata": {},
   "outputs": [
    {
     "name": "stdout",
     "output_type": "stream",
     "text": [
      "객체 생성\n",
      "나는 점심을 5분만에 먹을 수 있다.\n"
     ]
    }
   ],
   "source": [
    "x = Xman(1,2,3)\n",
    "x.eat()"
   ]
  },
  {
   "cell_type": "markdown",
   "metadata": {},
   "source": [
    "- Enemy 클래스 생성\n",
    "- Enemy 클래스\n",
    "    - SPEED, HP, EXP, LEVEL, COLOR, x, y 등 속성이 있다.\n",
    "    - move, attack, damage 등의 행동을 가지고 있다.\n",
    "    - 이런 클래스를 구현하시오\n",
    "    - 전제하지 않는 것들은 가정하시오"
   ]
  },
  {
   "cell_type": "code",
   "execution_count": 95,
   "metadata": {},
   "outputs": [],
   "source": [
    "class Enemy:\n",
    "    speed = None\n",
    "    hp = None\n",
    "    exp = 0\n",
    "    level = 1\n",
    "    color = None\n",
    "    x = 0\n",
    "    y = 0\n",
    "    \n",
    "    \n",
    "    def move(self, x, y):\n",
    "        self.x += x\n",
    "        self.y += y\n",
    "    def cur_xy(self):\n",
    "        print(\"x : {}, y : {}\".format(self.x,self.y))\n",
    "    \n",
    "    def attack(self, atk):\n",
    "        print(\"attacked {} damages\".format(atk))\n",
    "    \n",
    "    def damage(self, dmg):\n",
    "        self.hp -= dmg\n",
    "        print(\"Total HP : {}(hp-{})\".format(self.hp, dmg))\n",
    "    \n",
    "    def __init__(self, speed=10, hp=100, color=\"black\"):\n",
    "        self.speed = speed\n",
    "        self.hp = hp\n",
    "        self.color = color\n",
    "        sel"
   ]
  },
  {
   "cell_type": "code",
   "execution_count": 96,
   "metadata": {},
   "outputs": [],
   "source": [
    "e1 = Enemy(5,150,\"white\")\n",
    "e2 = Enemy(12,90)"
   ]
  },
  {
   "cell_type": "code",
   "execution_count": 97,
   "metadata": {},
   "outputs": [
    {
     "name": "stdout",
     "output_type": "stream",
     "text": [
      "x : 0, y : 0\n"
     ]
    }
   ],
   "source": [
    "e1.cur_xy()"
   ]
  },
  {
   "cell_type": "code",
   "execution_count": 98,
   "metadata": {},
   "outputs": [
    {
     "name": "stdout",
     "output_type": "stream",
     "text": [
      "x : 15, y : -20\n"
     ]
    }
   ],
   "source": [
    "e1.move(15,-20)\n",
    "e1.cur_xy()"
   ]
  },
  {
   "cell_type": "code",
   "execution_count": 99,
   "metadata": {},
   "outputs": [
    {
     "name": "stdout",
     "output_type": "stream",
     "text": [
      "Total HP : 60(hp-30)\n"
     ]
    }
   ],
   "source": [
    "e2.damage(30)"
   ]
  },
  {
   "cell_type": "markdown",
   "metadata": {},
   "source": [
    "**===================================================**"
   ]
  },
  {
   "cell_type": "markdown",
   "metadata": {},
   "source": [
    "- Enemy 클래스 생성\n",
    "- Enemy 클래스\n",
    "    - SPEED, HP, EXP, LEVEL, COLOR, x, y 등 속성이 있다.\n",
    "    - move, attack, damage 등의 행동을 가지고 있다.\n",
    "    - 이런 클래스를 구현하시오\n",
    "    - 전제하지 않는 것들은 가정하시오\n",
    "    \n",
    "    - 적을 100개를 생성하시오\n",
    "    \n",
    "    - 적을 10x10으로 배치하는데, 적의 크기는 10x10 이다.\n",
    "    - 공간의 크기가 가로 200, 세로 600 이다.\n",
    "    - 적을 100개 생성하는데 ,좌표는 다르게 부여한다.\n",
    "    - 가로로 10개, 세로로 10개씩 배치한다.\n",
    "    - 좌표계는 1/4분면이다."
   ]
  },
  {
   "cell_type": "code",
   "execution_count": 120,
   "metadata": {},
   "outputs": [],
   "source": [
    "enemies = list()"
   ]
  },
  {
   "cell_type": "markdown",
   "metadata": {},
   "source": [
    "### 단순히 100개만 생성"
   ]
  },
  {
   "cell_type": "code",
   "execution_count": 149,
   "metadata": {},
   "outputs": [],
   "source": [
    "class Enemy:\n",
    "    speed = None\n",
    "    hp = None\n",
    "    exp = 0\n",
    "    level = 1\n",
    "    color = None\n",
    "    x = 0\n",
    "    y = 0\n",
    "    \n",
    "    def move(self, x, y):\n",
    "        pass\n",
    "    def attack(self, atk):\n",
    "        pass\n",
    "    \n",
    "    def damage(self, dmg):\n",
    "        pass\n",
    "    \n",
    "#     def __init__(self, x, y):\n",
    "#         self.x = x\n",
    "#         self.y = y"
   ]
  },
  {
   "cell_type": "code",
   "execution_count": 151,
   "metadata": {},
   "outputs": [],
   "source": [
    "for i in range(100):\n",
    "    enemies.append(Enemy())"
   ]
  },
  {
   "cell_type": "code",
   "execution_count": null,
   "metadata": {
    "scrolled": true
   },
   "outputs": [],
   "source": [
    "enemies"
   ]
  },
  {
   "cell_type": "code",
   "execution_count": 153,
   "metadata": {},
   "outputs": [],
   "source": [
    "# 리스트 비우기 코드\n",
    "for en in enemies:\n",
    "    del en\n",
    "enemies.clear()"
   ]
  },
  {
   "cell_type": "markdown",
   "metadata": {},
   "source": [
    "### 좌표를 부여하며 생성"
   ]
  },
  {
   "cell_type": "code",
   "execution_count": 156,
   "metadata": {
    "scrolled": false
   },
   "outputs": [],
   "source": [
    "class EnemyEX(Enemy):\n",
    "    def __init__(self, x, y):\n",
    "        self.x = x\n",
    "        self.y = y"
   ]
  },
  {
   "cell_type": "markdown",
   "metadata": {},
   "source": [
    "- 방식 1 ( 본인이 짠 코드 )"
   ]
  },
  {
   "cell_type": "code",
   "execution_count": 158,
   "metadata": {},
   "outputs": [],
   "source": [
    "x = -10\n",
    "for i in range(10):\n",
    "    x += 10\n",
    "    y=-10\n",
    "    for j in range(10):\n",
    "        y += 10\n",
    "        enemies.append(EnemyEX(x,y))"
   ]
  },
  {
   "cell_type": "code",
   "execution_count": 159,
   "metadata": {
    "scrolled": true
   },
   "outputs": [
    {
     "data": {
      "text/plain": [
       "100"
      ]
     },
     "execution_count": 159,
     "metadata": {},
     "output_type": "execute_result"
    }
   ],
   "source": [
    "len(enemies)"
   ]
  },
  {
   "cell_type": "code",
   "execution_count": 160,
   "metadata": {
    "scrolled": true
   },
   "outputs": [
    {
     "name": "stdout",
     "output_type": "stream",
     "text": [
      "0 0\n",
      "0 10\n",
      "0 20\n",
      "0 30\n",
      "0 40\n",
      "0 50\n",
      "0 60\n",
      "0 70\n",
      "0 80\n",
      "0 90\n",
      "10 0\n",
      "10 10\n",
      "10 20\n",
      "10 30\n",
      "10 40\n",
      "10 50\n",
      "10 60\n",
      "10 70\n",
      "10 80\n",
      "10 90\n",
      "20 0\n",
      "20 10\n",
      "20 20\n",
      "20 30\n",
      "20 40\n",
      "20 50\n",
      "20 60\n",
      "20 70\n",
      "20 80\n",
      "20 90\n",
      "30 0\n",
      "30 10\n",
      "30 20\n",
      "30 30\n",
      "30 40\n",
      "30 50\n",
      "30 60\n",
      "30 70\n",
      "30 80\n",
      "30 90\n",
      "40 0\n",
      "40 10\n",
      "40 20\n",
      "40 30\n",
      "40 40\n",
      "40 50\n",
      "40 60\n",
      "40 70\n",
      "40 80\n",
      "40 90\n",
      "50 0\n",
      "50 10\n",
      "50 20\n",
      "50 30\n",
      "50 40\n",
      "50 50\n",
      "50 60\n",
      "50 70\n",
      "50 80\n",
      "50 90\n",
      "60 0\n",
      "60 10\n",
      "60 20\n",
      "60 30\n",
      "60 40\n",
      "60 50\n",
      "60 60\n",
      "60 70\n",
      "60 80\n",
      "60 90\n",
      "70 0\n",
      "70 10\n",
      "70 20\n",
      "70 30\n",
      "70 40\n",
      "70 50\n",
      "70 60\n",
      "70 70\n",
      "70 80\n",
      "70 90\n",
      "80 0\n",
      "80 10\n",
      "80 20\n",
      "80 30\n",
      "80 40\n",
      "80 50\n",
      "80 60\n",
      "80 70\n",
      "80 80\n",
      "80 90\n",
      "90 0\n",
      "90 10\n",
      "90 20\n",
      "90 30\n",
      "90 40\n",
      "90 50\n",
      "90 60\n",
      "90 70\n",
      "90 80\n",
      "90 90\n"
     ]
    }
   ],
   "source": [
    "for en in enemies:\n",
    "    print(en.x, en.y)"
   ]
  },
  {
   "cell_type": "code",
   "execution_count": 163,
   "metadata": {},
   "outputs": [],
   "source": [
    "# 리스트 비우기 코드\n",
    "for en in enemies:\n",
    "    del en\n",
    "enemies.clear()"
   ]
  },
  {
   "cell_type": "markdown",
   "metadata": {},
   "source": [
    "- 방식 2 ( 강사님이 짠 코드 )"
   ]
  },
  {
   "cell_type": "code",
   "execution_count": 164,
   "metadata": {
    "scrolled": false
   },
   "outputs": [
    {
     "data": {
      "text/plain": [
       "100"
      ]
     },
     "execution_count": 164,
     "metadata": {},
     "output_type": "execute_result"
    }
   ],
   "source": [
    "# 적 비행기의 최초 출현 y좌표\n",
    "std_y_start = 150\n",
    "# 적 비행기의 높이\n",
    "enemy_h = 10\n",
    "# 적 비행기의 최초 출현 x좌표\n",
    "std_x_start = 100\n",
    "# 적 비행기의 너비\n",
    "enemy_w = 10\n",
    "\n",
    "for y in range(10): # y좌표\n",
    "    for x in range(10): # x 좌표\n",
    "        tx = std_x_start+x*enemy_w\n",
    "        ty = std_y_start+y*enemy_h\n",
    "        enemies.append(EnemyEX(tx,ty))\n",
    "        \n",
    "len(enemies)"
   ]
  },
  {
   "cell_type": "code",
   "execution_count": 166,
   "metadata": {
    "scrolled": true
   },
   "outputs": [
    {
     "name": "stdout",
     "output_type": "stream",
     "text": [
      "100 150\n",
      "110 150\n",
      "120 150\n",
      "130 150\n",
      "140 150\n",
      "150 150\n",
      "160 150\n",
      "170 150\n",
      "180 150\n",
      "190 150\n",
      "100 160\n",
      "110 160\n",
      "120 160\n",
      "130 160\n",
      "140 160\n",
      "150 160\n",
      "160 160\n",
      "170 160\n",
      "180 160\n",
      "190 160\n",
      "100 170\n",
      "110 170\n",
      "120 170\n",
      "130 170\n",
      "140 170\n",
      "150 170\n",
      "160 170\n",
      "170 170\n",
      "180 170\n",
      "190 170\n",
      "100 180\n",
      "110 180\n",
      "120 180\n",
      "130 180\n",
      "140 180\n",
      "150 180\n",
      "160 180\n",
      "170 180\n",
      "180 180\n",
      "190 180\n",
      "100 190\n",
      "110 190\n",
      "120 190\n",
      "130 190\n",
      "140 190\n",
      "150 190\n",
      "160 190\n",
      "170 190\n",
      "180 190\n",
      "190 190\n",
      "100 200\n",
      "110 200\n",
      "120 200\n",
      "130 200\n",
      "140 200\n",
      "150 200\n",
      "160 200\n",
      "170 200\n",
      "180 200\n",
      "190 200\n",
      "100 210\n",
      "110 210\n",
      "120 210\n",
      "130 210\n",
      "140 210\n",
      "150 210\n",
      "160 210\n",
      "170 210\n",
      "180 210\n",
      "190 210\n",
      "100 220\n",
      "110 220\n",
      "120 220\n",
      "130 220\n",
      "140 220\n",
      "150 220\n",
      "160 220\n",
      "170 220\n",
      "180 220\n",
      "190 220\n",
      "100 230\n",
      "110 230\n",
      "120 230\n",
      "130 230\n",
      "140 230\n",
      "150 230\n",
      "160 230\n",
      "170 230\n",
      "180 230\n",
      "190 230\n",
      "100 240\n",
      "110 240\n",
      "120 240\n",
      "130 240\n",
      "140 240\n",
      "150 240\n",
      "160 240\n",
      "170 240\n",
      "180 240\n",
      "190 240\n"
     ]
    }
   ],
   "source": [
    "for en in enemies:\n",
    "    print(en.x, en.y)"
   ]
  },
  {
   "cell_type": "code",
   "execution_count": null,
   "metadata": {},
   "outputs": [],
   "source": []
  },
  {
   "cell_type": "code",
   "execution_count": null,
   "metadata": {},
   "outputs": [],
   "source": []
  },
  {
   "cell_type": "code",
   "execution_count": null,
   "metadata": {},
   "outputs": [],
   "source": []
  },
  {
   "cell_type": "code",
   "execution_count": null,
   "metadata": {},
   "outputs": [],
   "source": []
  },
  {
   "cell_type": "code",
   "execution_count": null,
   "metadata": {},
   "outputs": [],
   "source": []
  },
  {
   "cell_type": "code",
   "execution_count": null,
   "metadata": {},
   "outputs": [],
   "source": []
  },
  {
   "cell_type": "code",
   "execution_count": null,
   "metadata": {},
   "outputs": [],
   "source": []
  }
 ],
 "metadata": {
  "kernelspec": {
   "display_name": "Python 3",
   "language": "python",
   "name": "python3"
  },
  "language_info": {
   "codemirror_mode": {
    "name": "ipython",
    "version": 3
   },
   "file_extension": ".py",
   "mimetype": "text/x-python",
   "name": "python",
   "nbconvert_exporter": "python",
   "pygments_lexer": "ipython3",
   "version": "3.7.4"
  }
 },
 "nbformat": 4,
 "nbformat_minor": 2
}
