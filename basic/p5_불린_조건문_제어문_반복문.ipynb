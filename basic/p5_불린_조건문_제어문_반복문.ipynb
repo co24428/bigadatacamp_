{
 "cells": [
  {
   "cell_type": "markdown",
   "metadata": {},
   "source": [
    "### 흐름제어\n",
    "\n",
    "- 코드의 흐름을 변경하려면(분기, 반복 등)\n",
    "- 조건을 체크 ㅡ> 참, 거짓에 의해 (판전) 흐름을 변경\n",
    "- 판정 => 결론은 불린(True/False)\n",
    "- 판정이 작성된 코드를 조건식\n",
    "\n",
    "- 조건문, 반복문 제어문 식\n",
    "    - 조건식 결론 => 참이냐 거짓이냐?\n",
    "        - **False 상황**: 0, 0.0, [], {}, (), None(값이 없다), 기타 조건문의 결과(비교 etc)\n",
    "    - 조건식을 가지고 상황따라 움직이는 방식 : 조건문\n",
    "        - if\n",
    "    - 반복문 : 반복작업\n",
    "        - for, while"
   ]
  },
  {
   "cell_type": "markdown",
   "metadata": {},
   "source": [
    "#### 조건식 결론 첫번째 케이스"
   ]
  },
  {
   "cell_type": "code",
   "execution_count": 1,
   "metadata": {},
   "outputs": [
    {
     "data": {
      "text/plain": [
       "(True, False, True, False, False, True)"
      ]
     },
     "execution_count": 1,
     "metadata": {},
     "output_type": "execute_result"
    }
   ],
   "source": [
    "1600 > 1500, 1600 < 1500, 1600 >= 1500, 1600 <= 1500, 1600 == 1500, 1600 != 1500"
   ]
  },
  {
   "cell_type": "markdown",
   "metadata": {},
   "source": [
    "### if문"
   ]
  },
  {
   "cell_type": "code",
   "execution_count": 1,
   "metadata": {},
   "outputs": [],
   "source": [
    "# 요구사항에서 조건 상황이 몇개인지 체크하여 구현\n",
    "# if\n",
    "# if ~ else\n",
    "# if ~ elif\n",
    "# if ~ elif     ~ elif ~ ...\n",
    "# if ~ elif ... ~ else"
   ]
  },
  {
   "cell_type": "code",
   "execution_count": 2,
   "metadata": {},
   "outputs": [],
   "source": [
    "# 1. 커피 값을 입력받아서 1500원 이상이면 거스름돈을 줘라\n",
    "# 내용은 \"거스름돈(받은 금액-1500)은 XX원입니다.\"\""
   ]
  },
  {
   "cell_type": "code",
   "execution_count": 3,
   "metadata": {},
   "outputs": [
    {
     "name": "stdout",
     "output_type": "stream",
     "text": [
      "커피 값을 주세요\n"
     ]
    },
    {
     "ename": "ValueError",
     "evalue": "invalid literal for int() with base 10: ''",
     "output_type": "error",
     "traceback": [
      "\u001b[1;31m---------------------------------------------------------------------------\u001b[0m",
      "\u001b[1;31mValueError\u001b[0m                                Traceback (most recent call last)",
      "\u001b[1;32m<ipython-input-3-decc81247018>\u001b[0m in \u001b[0;36m<module>\u001b[1;34m\u001b[0m\n\u001b[0;32m      2\u001b[0m \u001b[1;31m# 정수값 수치로 잘 넣는다고 전제\u001b[0m\u001b[1;33m\u001b[0m\u001b[1;33m\u001b[0m\u001b[1;33m\u001b[0m\u001b[0m\n\u001b[0;32m      3\u001b[0m \u001b[1;31m# 값의 유효성을 체크하지 않겠다.\u001b[0m\u001b[1;33m\u001b[0m\u001b[1;33m\u001b[0m\u001b[1;33m\u001b[0m\u001b[0m\n\u001b[1;32m----> 4\u001b[1;33m \u001b[0mcoffe_price\u001b[0m \u001b[1;33m=\u001b[0m \u001b[0mint\u001b[0m\u001b[1;33m(\u001b[0m\u001b[0minput\u001b[0m\u001b[1;33m(\u001b[0m\u001b[1;34m'커피 값을 주세요'\u001b[0m\u001b[1;33m)\u001b[0m\u001b[1;33m)\u001b[0m\u001b[1;33m\u001b[0m\u001b[1;33m\u001b[0m\u001b[0m\n\u001b[0m\u001b[0;32m      5\u001b[0m \u001b[0mcoffe_price\u001b[0m\u001b[1;33m,\u001b[0m \u001b[0mtype\u001b[0m\u001b[1;33m(\u001b[0m\u001b[0mcoffe_price\u001b[0m\u001b[1;33m)\u001b[0m\u001b[1;33m\u001b[0m\u001b[1;33m\u001b[0m\u001b[0m\n",
      "\u001b[1;31mValueError\u001b[0m: invalid literal for int() with base 10: ''"
     ]
    }
   ],
   "source": [
    "# 1. 커피 값을 입력받아서\n",
    "# 정수값 수치로 잘 넣는다고 전제\n",
    "# 값의 유효성을 체크하지 않겠다.\n",
    "coffe_price = int(input('커피 값을 주세요'))\n",
    "coffe_price, type(coffe_price)"
   ]
  },
  {
   "cell_type": "code",
   "execution_count": 4,
   "metadata": {},
   "outputs": [
    {
     "ename": "NameError",
     "evalue": "name 'coffe_price' is not defined",
     "output_type": "error",
     "traceback": [
      "\u001b[1;31m---------------------------------------------------------------------------\u001b[0m",
      "\u001b[1;31mNameError\u001b[0m                                 Traceback (most recent call last)",
      "\u001b[1;32m<ipython-input-4-ea65d182c702>\u001b[0m in \u001b[0;36m<module>\u001b[1;34m\u001b[0m\n\u001b[0;32m      1\u001b[0m \u001b[1;31m# 에러 발생 -> TypeError: '>' not supported between instances of 'str' and 'int'\u001b[0m\u001b[1;33m\u001b[0m\u001b[1;33m\u001b[0m\u001b[1;33m\u001b[0m\u001b[0m\n\u001b[0;32m      2\u001b[0m \u001b[1;31m# 형변환을 해주어야 한다.\u001b[0m\u001b[1;33m\u001b[0m\u001b[1;33m\u001b[0m\u001b[1;33m\u001b[0m\u001b[0m\n\u001b[1;32m----> 3\u001b[1;33m \u001b[0mcoffe_price\u001b[0m \u001b[1;33m>\u001b[0m \u001b[1;36m1500\u001b[0m\u001b[1;33m\u001b[0m\u001b[1;33m\u001b[0m\u001b[0m\n\u001b[0m",
      "\u001b[1;31mNameError\u001b[0m: name 'coffe_price' is not defined"
     ]
    }
   ],
   "source": [
    "# 에러 발생 -> TypeError: '>' not supported between instances of 'str' and 'int'\n",
    "# 형변환을 해주어야 한다.\n",
    "coffe_price > 1500"
   ]
  },
  {
   "cell_type": "code",
   "execution_count": 5,
   "metadata": {},
   "outputs": [
    {
     "ename": "NameError",
     "evalue": "name 'coffe_price' is not defined",
     "output_type": "error",
     "traceback": [
      "\u001b[1;31m---------------------------------------------------------------------------\u001b[0m",
      "\u001b[1;31mNameError\u001b[0m                                 Traceback (most recent call last)",
      "\u001b[1;32m<ipython-input-5-6fef1666fee4>\u001b[0m in \u001b[0;36m<module>\u001b[1;34m\u001b[0m\n\u001b[0;32m      5\u001b[0m \u001b[1;31m#      코드블럭 => 들여쓰기 후 진행(세로줄이 바뀐다.)\u001b[0m\u001b[1;33m\u001b[0m\u001b[1;33m\u001b[0m\u001b[1;33m\u001b[0m\u001b[0m\n\u001b[0;32m      6\u001b[0m \u001b[1;31m#      그 조건이 만족될 때만 수행하는 코드\u001b[0m\u001b[1;33m\u001b[0m\u001b[1;33m\u001b[0m\u001b[1;33m\u001b[0m\u001b[0m\n\u001b[1;32m----> 7\u001b[1;33m \u001b[1;32mif\u001b[0m \u001b[0mcoffe_price\u001b[0m \u001b[1;33m>\u001b[0m \u001b[1;36m1500\u001b[0m\u001b[1;33m:\u001b[0m\u001b[1;33m\u001b[0m\u001b[1;33m\u001b[0m\u001b[0m\n\u001b[0m\u001b[0;32m      8\u001b[0m     \u001b[1;32mpass\u001b[0m \u001b[1;31m# 아무 것도 하지않음 ( 구조 잡을 때, 아무 것도 안할 때 )\u001b[0m\u001b[1;33m\u001b[0m\u001b[1;33m\u001b[0m\u001b[0m\n",
      "\u001b[1;31mNameError\u001b[0m: name 'coffe_price' is not defined"
     ]
    }
   ],
   "source": [
    "# 2. 1500원 이상이면\n",
    "# 문법 => if 조건식:\n",
    "# >, <, >=, <=, ==, !=, not(! 안됨)(부정 :  False 체크할 때, 잡을 때, 부정적 상황을 체크할 때)\n",
    "#                                           and, or\n",
    "# : => 코드블럭이 시작된다.\n",
    "#      코드블럭 => 들여쓰기 후 진행(세로줄이 바뀐다.)\n",
    "#      그 조건이 만족될 때만 수행하는 코드\n",
    "if coffe_price > 1500:\n",
    "    pass # 아무 것도 하지않음 ( 구조 잡을 때, 아무 것도 안할 때 )\n"
   ]
  },
  {
   "cell_type": "code",
   "execution_count": 6,
   "metadata": {},
   "outputs": [
    {
     "ename": "NameError",
     "evalue": "name 'coffe_price' is not defined",
     "output_type": "error",
     "traceback": [
      "\u001b[1;31m---------------------------------------------------------------------------\u001b[0m",
      "\u001b[1;31mNameError\u001b[0m                                 Traceback (most recent call last)",
      "\u001b[1;32m<ipython-input-6-c534d82f931e>\u001b[0m in \u001b[0;36m<module>\u001b[1;34m\u001b[0m\n\u001b[0;32m      1\u001b[0m \u001b[1;31m# 3. 거스름돈은 OOO원입니다.\u001b[0m\u001b[1;33m\u001b[0m\u001b[1;33m\u001b[0m\u001b[1;33m\u001b[0m\u001b[0m\n\u001b[1;32m----> 2\u001b[1;33m \u001b[1;32mif\u001b[0m \u001b[0mcoffe_price\u001b[0m \u001b[1;33m>\u001b[0m \u001b[1;36m1500\u001b[0m\u001b[1;33m:\u001b[0m\u001b[1;33m\u001b[0m\u001b[1;33m\u001b[0m\u001b[0m\n\u001b[0m\u001b[0;32m      3\u001b[0m     \u001b[0mtmp\u001b[0m \u001b[1;33m=\u001b[0m \u001b[1;34m\"거스름돈은 {}원입니다.\"\u001b[0m\u001b[1;33m.\u001b[0m\u001b[0mformat\u001b[0m\u001b[1;33m(\u001b[0m\u001b[0mcoffe_price\u001b[0m\u001b[1;33m-\u001b[0m\u001b[1;36m1500\u001b[0m\u001b[1;33m)\u001b[0m\u001b[1;33m\u001b[0m\u001b[1;33m\u001b[0m\u001b[0m\n\u001b[0;32m      4\u001b[0m     \u001b[0mprint\u001b[0m\u001b[1;33m(\u001b[0m\u001b[0mtmp\u001b[0m\u001b[1;33m)\u001b[0m\u001b[1;33m\u001b[0m\u001b[1;33m\u001b[0m\u001b[0m\n\u001b[0;32m      5\u001b[0m     \u001b[1;32mpass\u001b[0m\u001b[1;33m\u001b[0m\u001b[1;33m\u001b[0m\u001b[0m\n",
      "\u001b[1;31mNameError\u001b[0m: name 'coffe_price' is not defined"
     ]
    }
   ],
   "source": [
    "# 3. 거스름돈은 OOO원입니다.\n",
    "if coffe_price > 1500:\n",
    "    tmp = \"거스름돈은 {}원입니다.\".format(coffe_price-1500)\n",
    "    print(tmp)\n",
    "    pass"
   ]
  },
  {
   "cell_type": "markdown",
   "metadata": {},
   "source": [
    "#### 통합코드 1"
   ]
  },
  {
   "cell_type": "code",
   "execution_count": 7,
   "metadata": {},
   "outputs": [
    {
     "name": "stdout",
     "output_type": "stream",
     "text": [
      "커피 값을 주세요\n"
     ]
    },
    {
     "ename": "ValueError",
     "evalue": "invalid literal for int() with base 10: ''",
     "output_type": "error",
     "traceback": [
      "\u001b[1;31m---------------------------------------------------------------------------\u001b[0m",
      "\u001b[1;31mValueError\u001b[0m                                Traceback (most recent call last)",
      "\u001b[1;32m<ipython-input-7-10bb58f2bb3c>\u001b[0m in \u001b[0;36m<module>\u001b[1;34m\u001b[0m\n\u001b[0;32m      1\u001b[0m \u001b[1;31m# 무한 루프 ~\u001b[0m\u001b[1;33m\u001b[0m\u001b[1;33m\u001b[0m\u001b[1;33m\u001b[0m\u001b[0m\n\u001b[0;32m      2\u001b[0m \u001b[1;31m# while True:\u001b[0m\u001b[1;33m\u001b[0m\u001b[1;33m\u001b[0m\u001b[1;33m\u001b[0m\u001b[0m\n\u001b[1;32m----> 3\u001b[1;33m \u001b[0mcoffe_price\u001b[0m \u001b[1;33m=\u001b[0m \u001b[0mint\u001b[0m\u001b[1;33m(\u001b[0m\u001b[0minput\u001b[0m\u001b[1;33m(\u001b[0m\u001b[1;34m'커피 값을 주세요'\u001b[0m\u001b[1;33m)\u001b[0m\u001b[1;33m)\u001b[0m\u001b[1;33m\u001b[0m\u001b[1;33m\u001b[0m\u001b[0m\n\u001b[0m\u001b[0;32m      4\u001b[0m \u001b[1;32mif\u001b[0m \u001b[0mcoffe_price\u001b[0m \u001b[1;33m>\u001b[0m \u001b[1;36m1500\u001b[0m\u001b[1;33m:\u001b[0m\u001b[1;33m\u001b[0m\u001b[1;33m\u001b[0m\u001b[0m\n\u001b[0;32m      5\u001b[0m     \u001b[0mtmp\u001b[0m \u001b[1;33m=\u001b[0m \u001b[1;34m\"거스름돈은 {}원입니다.\"\u001b[0m\u001b[1;33m.\u001b[0m\u001b[0mformat\u001b[0m\u001b[1;33m(\u001b[0m\u001b[0mcoffe_price\u001b[0m\u001b[1;33m-\u001b[0m\u001b[1;36m1500\u001b[0m\u001b[1;33m)\u001b[0m\u001b[1;33m\u001b[0m\u001b[1;33m\u001b[0m\u001b[0m\n",
      "\u001b[1;31mValueError\u001b[0m: invalid literal for int() with base 10: ''"
     ]
    }
   ],
   "source": [
    "# 무한 루프 ~\n",
    "# while True:\n",
    "coffe_price = int(input('커피 값을 주세요'))\n",
    "if coffe_price > 1500:\n",
    "    tmp = \"거스름돈은 {}원입니다.\".format(coffe_price-1500)\n",
    "    print(tmp)\n",
    "    pass"
   ]
  },
  {
   "cell_type": "code",
   "execution_count": 8,
   "metadata": {},
   "outputs": [
    {
     "data": {
      "text/plain": [
       "'\\n# 들여쓰기 : 코드블럭\\n# 코드블럭 내에 존재하는 코드 => 수행문 => statements\\nif 조건식:\\n    코드블럭 내 코드 : statements\\nelif 조건식:\\n    코드블럭 내 코드 : statements\\nelse:\\n    코드블럭 내 코드 : statements\\n'"
      ]
     },
     "execution_count": 8,
     "metadata": {},
     "output_type": "execute_result"
    }
   ],
   "source": [
    "'''\n",
    "# 들여쓰기 : 코드블럭\n",
    "# 코드블럭 내에 존재하는 코드 => 수행문 => statements\n",
    "if 조건식:\n",
    "    코드블럭 내 코드 : statements\n",
    "elif 조건식:\n",
    "    코드블럭 내 코드 : statements\n",
    "else:\n",
    "    코드블럭 내 코드 : statements\n",
    "'''"
   ]
  },
  {
   "cell_type": "markdown",
   "metadata": {},
   "source": [
    "#### 통합코드 2"
   ]
  },
  {
   "cell_type": "markdown",
   "metadata": {},
   "source": [
    "1. 요구사항 분석 후, 조건 갯수 파악\n",
    "1. if ~ elif ... ~ else와 사이사이 pass를 통해 틀을 잡는다.\n",
    "1. 조건부터 삽입한다. - 조건의 순서는 빈도 순(인사이트 필요 : 최적화)\n",
    "1. 나머지 pass부분을 매꿔준다.\n",
    "1. 요구 조건 외에 **특별한 출력문구** 등은 최대한 지양한다,"
   ]
  },
  {
   "cell_type": "code",
   "execution_count": 9,
   "metadata": {},
   "outputs": [
    {
     "name": "stdout",
     "output_type": "stream",
     "text": [
      "커피 값을 주세요 : 500\n",
      "1000원이 부족합니다.\n"
     ]
    }
   ],
   "source": [
    "coffe_price = int(input('커피 값을 주세요 : '))\n",
    "if coffe_price > 1500:\n",
    "    message = \"거스름돈은 {}원입니다.\".format(coffe_price-1500)\n",
    "    print(message)\n",
    "elif coffe_price == 1500:\n",
    "    message = \"커피 여기있습니다.\"\n",
    "    print(message)\n",
    "else:\n",
    "    message = \"{}원이 부족합니다.\".format(1500-coffe_price)\n",
    "    print(message)"
   ]
  },
  {
   "cell_type": "markdown",
   "metadata": {},
   "source": [
    "#### 조건식 결론 두번째 케이스"
   ]
  },
  {
   "cell_type": "code",
   "execution_count": 2,
   "metadata": {
    "scrolled": false
   },
   "outputs": [
    {
     "name": "stdout",
     "output_type": "stream",
     "text": [
      "밥먹어라\n"
     ]
    }
   ],
   "source": [
    "isRunning = False\n",
    "\n",
    "# 부정 상황을 체크할 때\n",
    "# 달리지 않는다면 밥먹어라, 라는 문구를 출력\n",
    "if not isRunning:\n",
    "    print(\"밥먹어라\")"
   ]
  },
  {
   "cell_type": "markdown",
   "metadata": {},
   "source": [
    "#### 조건식 결론 세번째 케이스"
   ]
  },
  {
   "cell_type": "code",
   "execution_count": 5,
   "metadata": {
    "scrolled": true
   },
   "outputs": [
    {
     "data": {
      "text/plain": [
       "(True, False)"
      ]
     },
     "execution_count": 5,
     "metadata": {},
     "output_type": "execute_result"
    }
   ],
   "source": [
    "# 비트 연산\n",
    "\n",
    "# and -> 둘 다 참이어야 참이다 => 두 조건 모두 만족해야 한다.\n",
    "# 하나라도 거짓이면 거짓이다. ( 타언어에서는 A && B )\n",
    "True and True, True and False"
   ]
  },
  {
   "cell_type": "code",
   "execution_count": 8,
   "metadata": {},
   "outputs": [
    {
     "data": {
      "text/plain": [
       "(True, True)"
      ]
     },
     "execution_count": 8,
     "metadata": {},
     "output_type": "execute_result"
    }
   ],
   "source": [
    "# or -> 한 개만 참이어도 참이다 ( 타언어에서는 A || B )\n",
    "True or True, True or False"
   ]
  },
  {
   "cell_type": "markdown",
   "metadata": {},
   "source": [
    "#### 삼항 연산자 ( 표현이 간결해진다.)\n",
    "\n",
    "- 파이썬은 없다\n",
    "- 타언어 => 변수 = 조건식 ? 참의 경우 : 거짓의 경우;\n",
    "- 상황은 2개"
   ]
  },
  {
   "cell_type": "code",
   "execution_count": 13,
   "metadata": {},
   "outputs": [
    {
     "data": {
      "text/plain": [
       "'10900원 부족'"
      ]
     },
     "execution_count": 13,
     "metadata": {},
     "output_type": "execute_result"
    }
   ],
   "source": [
    "a = 1500\n",
    "b = 1600\n",
    "msg = b >= a and '거스름돈 {cost}원입니다.'.format(cost=b-a) or '%s원 부족'%(a-b)\n",
    "msg"
   ]
  },
  {
   "cell_type": "code",
   "execution_count": 16,
   "metadata": {},
   "outputs": [
    {
     "data": {
      "text/plain": [
       "'거스름돈 100원입니다.'"
      ]
     },
     "execution_count": 16,
     "metadata": {},
     "output_type": "execute_result"
    }
   ],
   "source": [
    "a = 1500\n",
    "b = 1600\n",
    "msg = '거스름돈 {cost}원입니다.'.format(cost=b-a) if b >= a else '%s원 부족'%(a-b)\n",
    "msg"
   ]
  },
  {
   "cell_type": "code",
   "execution_count": 26,
   "metadata": {},
   "outputs": [
    {
     "data": {
      "text/plain": [
       "True"
      ]
     },
     "execution_count": 26,
     "metadata": {},
     "output_type": "execute_result"
    }
   ],
   "source": [
    "a = True\n",
    "b = False\n",
    "b and a or a\n",
    "a and a or a"
   ]
  },
  {
   "cell_type": "markdown",
   "metadata": {},
   "source": [
    "### 반복문\n",
    "\n",
    "- 특정한 작업을 반복해서 수행한다 => 구구단\n",
    "- for   : 지정된 횟수를 반복한다. 5번 반복, 10번 반복 \n",
    "- while : 0~무한대, 반복을 않할수도, 무한대로(무한루프) 가능\n",
    "    - 언제 끝날지 모르겟다"
   ]
  },
  {
   "cell_type": "code",
   "execution_count": 50,
   "metadata": {},
   "outputs": [
    {
     "data": {
      "text/plain": [
       "[1, 2, 3, 4, 5]"
      ]
     },
     "execution_count": 50,
     "metadata": {},
     "output_type": "execute_result"
    }
   ],
   "source": [
    "# while\n",
    "# 재료 : 데이터 덩어리 <- 연속 데이터 타입\n",
    "a = [1,2,3,4,5]\n",
    "a"
   ]
  },
  {
   "cell_type": "code",
   "execution_count": 51,
   "metadata": {},
   "outputs": [
    {
     "name": "stdout",
     "output_type": "stream",
     "text": [
      "위에서 조건체크하고 참이면 이리로 내려온다\n",
      "[0]현재 맴버수  5\n",
      "5\n",
      "[1]현재 맴버수  4\n",
      "--------------------\n",
      "위에서 조건체크하고 참이면 이리로 내려온다\n",
      "[0]현재 맴버수  4\n",
      "4\n",
      "[1]현재 맴버수  3\n",
      "--------------------\n",
      "위에서 조건체크하고 참이면 이리로 내려온다\n",
      "[0]현재 맴버수  3\n",
      "3\n",
      "[1]현재 맴버수  2\n",
      "--------------------\n",
      "위에서 조건체크하고 참이면 이리로 내려온다\n",
      "[0]현재 맴버수  2\n",
      "2\n",
      "[1]현재 맴버수  1\n",
      "--------------------\n",
      "위에서 조건체크하고 참이면 이리로 내려온다\n",
      "[0]현재 맴버수  1\n",
      "1\n",
      "[1]현재 맴버수  0\n",
      "--------------------\n"
     ]
    }
   ],
   "source": [
    "\n",
    "\n",
    "'''\n",
    "while 조건:\n",
    "    # statements (수행문) ...\n",
    "'''\n",
    "\n",
    "# a의 맴버가 없을때까지 반복해서, \n",
    "# a의 맴버수가 0보다 크다면, 반복작업을 수행해라\n",
    "while len(a) > 0:\n",
    "    print('위에서 조건체크하고 참이면 이리로 내려온다')\n",
    "    print('[0]현재 맴버수 ', len(a))\n",
    "    print( a.pop() )\n",
    "    print('[1]현재 맴버수 ', len(a))\n",
    "    print('-'*20)\n",
    "    pass"
   ]
  },
  {
   "cell_type": "code",
   "execution_count": 53,
   "metadata": {},
   "outputs": [],
   "source": [
    "# 타입값 자체를 조건식에 사용하면 0,0.0,[],{},()상황이면 다 False\n",
    "while a:\n",
    "    print('위에서 조건체크하고 참이면 이리로 내려온다')\n",
    "    print('[0]현재 맴버수 ', len(a))\n",
    "    print( a.pop() )\n",
    "    print('[1]현재 맴버수 ', len(a))\n",
    "    print('-'*20)\n",
    "    pass"
   ]
  },
  {
   "cell_type": "code",
   "execution_count": 54,
   "metadata": {},
   "outputs": [
    {
     "name": "stdout",
     "output_type": "stream",
     "text": [
      "5\n",
      "4\n",
      "3\n",
      "2\n",
      "1\n"
     ]
    }
   ],
   "source": [
    "# 수행문이 한줄이라면, 옆으로 쓸수 있다\n",
    "a = [1,2,3,4,5]\n",
    "while a:print( a.pop() )"
   ]
  },
  {
   "cell_type": "code",
   "execution_count": 55,
   "metadata": {},
   "outputs": [
    {
     "name": "stdout",
     "output_type": "stream",
     "text": [
      "5\n",
      "4\n",
      "3\n",
      "2\n",
      "1\n",
      "중간에 중단 없이 정상적으로 잘 반복종료했다\n"
     ]
    }
   ],
   "source": [
    "# 반복문이 정상적으로 모두 수행하고 종료됬음을 알고 싶다면?\n",
    "# 여기서는 5번 모두 반복했다 이것을 알고 싶다면\n",
    "a = [1,2,3,4,5]\n",
    "while a:\n",
    "    print( a.pop() )\n",
    "else: # 정상적으로 모두 반복했다라는 것을 감지\n",
    "    print( '중간에 중단 없이 정상적으로 잘 반복종료했다' )"
   ]
  },
  {
   "cell_type": "markdown",
   "metadata": {},
   "source": [
    "#### 흐름제어 \n",
    "\n",
    "- break : if문과 같이 사용되거나, 단독 사용가능 \n",
    "    - 가장 가까운 반복문(while,for)을 빠져나간다\n",
    "    - while or for하고만 반응한다\n",
    "- continue : if문과 같이 사용되거나, 단독 사용가능\n",
    "    - 가장 가까운 반복문으로 점프\n",
    "    - continue 이하 코드는 생략하고 바로 조건식으로 점프\n",
    "    - while or for하고만 반응한다"
   ]
  },
  {
   "cell_type": "code",
   "execution_count": 56,
   "metadata": {},
   "outputs": [
    {
     "name": "stdout",
     "output_type": "stream",
     "text": [
      "5\n",
      "5\n",
      "4\n",
      "3\n",
      "3\n",
      "2\n",
      "1\n",
      "1\n",
      "중간에 중단 없이 정상적으로 잘 반복종료했다\n"
     ]
    }
   ],
   "source": [
    "'''\n",
    "[조건체크]: a의 맴버가 존재하는가?\n",
    "    - [수행]a의 맨뒤에서 값 하나 추출하여 tmp에 담는다\n",
    "    - [수행]tmp를 출력한다 \n",
    "    - [조건체크] tmp가 짝수인가\n",
    "        - [판단결과]참이면\n",
    "            - [수행]맨 처음 조건으로 이동\n",
    "        - [판단결과]거짓이면\n",
    "            - [수행]tmp 출력\n",
    "            - [조건체크] a의 맴버수가 1인가?\n",
    "                - [판단결과]참이면\n",
    "                    - [수행]break로 반복문 탈출\n",
    "                - [판단결과]거짓이면\n",
    "                    - [수행]맨 처음 조건으로 이동\n",
    "    \n",
    "'''\n",
    "a = [1,2,3,4,5]\n",
    "while a:\n",
    "    tmp = a.pop()\n",
    "    print( tmp )\n",
    "    if tmp % 2 == 0:# 짝수면\n",
    "        continue\n",
    "    print( tmp )\n",
    "    if len(a) == 1:\n",
    "        break\n",
    "else:\n",
    "    print( '중간에 중단 없이 정상적으로 잘 반복종료했다' )"
   ]
  },
  {
   "cell_type": "code",
   "execution_count": 57,
   "metadata": {},
   "outputs": [
    {
     "name": "stdout",
     "output_type": "stream",
     "text": [
      "5\n",
      "4\n",
      "4\n",
      "3\n",
      "2\n",
      "2\n"
     ]
    }
   ],
   "source": [
    "a = [1,2,3,4,5]\n",
    "while a:\n",
    "    tmp = a.pop()\n",
    "    print( tmp )\n",
    "    if tmp % 2 == 1:# 홀수면\n",
    "        continue\n",
    "    print( tmp )\n",
    "    if len(a) == 1:\n",
    "        break\n",
    "else:\n",
    "    print( '중간에 중단 없이 정상적으로 잘 반복종료했다' )"
   ]
  },
  {
   "cell_type": "markdown",
   "metadata": {},
   "source": [
    "### for"
   ]
  },
  {
   "cell_type": "code",
   "execution_count": null,
   "metadata": {},
   "outputs": [],
   "source": [
    "'''\n",
    "# for ~ each 방식 or for ~ in 방식\n",
    "for 데이터한개(맴버) in 연속데이터타입(시퀀스타입):\n",
    "    수행문\n",
    "'''"
   ]
  },
  {
   "cell_type": "code",
   "execution_count": null,
   "metadata": {},
   "outputs": [],
   "source": [
    "a = [1,2,3,4,5]\n",
    "for n in a:\n",
    "    print( n )"
   ]
  },
  {
   "cell_type": "code",
   "execution_count": null,
   "metadata": {},
   "outputs": [],
   "source": [
    "# 데이터의 형태에 따라 받아주는 변수의 개수, 형태는 조정\n",
    "a = [(1,2),(3,4),(5,6)]\n",
    "for n,m in a:\n",
    "    print( n, m )"
   ]
  },
  {
   "cell_type": "code",
   "execution_count": null,
   "metadata": {},
   "outputs": [],
   "source": [
    "a = [ \n",
    "    {\n",
    "        'code':'USD',\n",
    "        'price':1180\n",
    "    },\n",
    "    {\n",
    "        'code':'EUR',\n",
    "        'price':1430\n",
    "    },    \n",
    "]\n",
    "a"
   ]
  },
  {
   "cell_type": "code",
   "execution_count": null,
   "metadata": {},
   "outputs": [],
   "source": [
    "# 딕셔너리를 for으로 돌리면 키가 나온다\n",
    "# 좀더 안정적 => 딕셔너리.get(키)\n",
    "for key in a[0]:\n",
    "    print( key, '값출력->', a[0][key], a[0].get(key) )"
   ]
  },
  {
   "cell_type": "code",
   "execution_count": null,
   "metadata": {},
   "outputs": [],
   "source": [
    "# 딕셔너리.item() => (키,값), ...\n",
    "for key, value in a[0].items():\n",
    "    print( key, value )"
   ]
  },
  {
   "cell_type": "code",
   "execution_count": null,
   "metadata": {},
   "outputs": [],
   "source": [
    "# 딕셔너리에서 인덱스도 필요하다\n",
    "# 여러개의 연속데이터 타입을(사이즈가 동일) 접근해서 처리한다면\n",
    "# 10개짜리 리스트와, 딕셔너리를 같은 for문에서 같은 순서로 처리한다면\n",
    "# enumerate() => 인덱스 부여\n",
    "for n in enumerate(a[0]):\n",
    "    print( n )"
   ]
  },
  {
   "cell_type": "code",
   "execution_count": null,
   "metadata": {},
   "outputs": [],
   "source": [
    "# 연속수 -> range()  -> numpy에서는 arange()\n",
    "# range( 시작인덱스, 끝인덱스, step)\n",
    "# range( 시작인덱스, 끝인덱스)\n",
    "# range( 끝인덱스)\n",
    "# 어떤 라이브러리던지 range라는 단어다 붙여있으면 연속적인 수치, 날짜\n",
    "# 등을 만드는 기능을 가지고 있다\n",
    "# 시작인덱스 <= x < 끝인덱스\n",
    "for n in range(1, 5):\n",
    "    print(n)"
   ]
  },
  {
   "cell_type": "code",
   "execution_count": null,
   "metadata": {},
   "outputs": [],
   "source": [
    "# 0 <= x < 끝인덱스\n",
    "for n in range(5):\n",
    "    print(n)"
   ]
  },
  {
   "cell_type": "code",
   "execution_count": null,
   "metadata": {},
   "outputs": [],
   "source": [
    "for n in range(2):\n",
    "    for m in range(2):\n",
    "        # 참 : 1, 거짓 : 0\n",
    "        # ^ : xor \n",
    "        print( n, m, 'bit연산->', n and m, n or m, n ^ m )"
   ]
  },
  {
   "cell_type": "code",
   "execution_count": null,
   "metadata": {},
   "outputs": [],
   "source": [
    "# [실습]\n",
    "# 3~7단까지 구구단을 출력하시오 \n",
    "# 출력형식은 3 x 1 = 3 .... 7 x 9 = 63, 한줄에 하나씩 출력"
   ]
  },
  {
   "cell_type": "code",
   "execution_count": null,
   "metadata": {},
   "outputs": [],
   "source": [
    "# 출력 결과의 앞자리는 3~7까지 연속적인데, 9번식반복하여 출현한다\n",
    "# 출력 결과 두번째 자리는\n",
    "'''\n",
    "결과물\n",
    "3 x 1 = 3 \n",
    "...\n",
    "3 x 9 = 27 \n",
    "...\n",
    "4 x 1 = 4 \n",
    "...\n",
    "4 x 9 = 36\n",
    "...\n",
    "5 x 1 = 5 \n",
    "...\n",
    "6 x 1 = 6 \n",
    "...\n",
    "7 x 9 = 63\n",
    "'''"
   ]
  },
  {
   "cell_type": "code",
   "execution_count": null,
   "metadata": {},
   "outputs": [],
   "source": [
    "for i in range(3,8):\n",
    "    for j in range(1,10):\n",
    "        #포맷팅에서 하나에 자릿수 걸려면 전체에 인덱스를 걸어줘야 한다.\n",
    "        # msg = \"{} X {} = {2:<2}\".format(i, j, i*j)   -> 불가능\n",
    "        print(\"{0} X {1} = {2:<2}\".format(i, j, i*j))"
   ]
  },
  {
   "cell_type": "markdown",
   "metadata": {},
   "source": [
    "#### XXX 내포\n",
    "- 결과를 중심으로 코드를 펼친다는 관점에서\n",
    "- 연속데이터 타입 안에서 조건문, 반복문 등을 활용하여 간결하게\n",
    "- 데이터를 구성할 수 있다.\n",
    "- 리스트 내포, 딕셔너리 내포 등등 ..."
   ]
  },
  {
   "cell_type": "code",
   "execution_count": 32,
   "metadata": {},
   "outputs": [],
   "source": [
    "# 3~7단까지 \"3 x 1 = 3\"식으로 계산하여 계산하여 리스트로 담으시오"
   ]
  },
  {
   "cell_type": "code",
   "execution_count": 45,
   "metadata": {},
   "outputs": [
    {
     "name": "stdout",
     "output_type": "stream",
     "text": [
      "['3 X 1 = 3 ', '3 X 2 = 6 ', '3 X 3 = 9 ', '3 X 4 = 12', '3 X 5 = 15', '3 X 6 = 18', '3 X 7 = 21', '3 X 8 = 24', '3 X 9 = 27', '4 X 1 = 4 ', '4 X 2 = 8 ', '4 X 3 = 12', '4 X 4 = 16', '4 X 5 = 20', '4 X 6 = 24', '4 X 7 = 28', '4 X 8 = 32', '4 X 9 = 36', '5 X 1 = 5 ', '5 X 2 = 10', '5 X 3 = 15', '5 X 4 = 20', '5 X 5 = 25', '5 X 6 = 30', '5 X 7 = 35', '5 X 8 = 40', '5 X 9 = 45', '6 X 1 = 6 ', '6 X 2 = 12', '6 X 3 = 18', '6 X 4 = 24', '6 X 5 = 30', '6 X 6 = 36', '6 X 7 = 42', '6 X 8 = 48', '6 X 9 = 54', '7 X 1 = 7 ', '7 X 2 = 14', '7 X 3 = 21', '7 X 4 = 28', '7 X 5 = 35', '7 X 6 = 42', '7 X 7 = 49', '7 X 8 = 56', '7 X 9 = 63']\n"
     ]
    }
   ],
   "source": [
    "results = list()\n",
    "\n",
    "for i in range(3,8):\n",
    "    for j in range(1,10):\n",
    "        msg = \"{0} X {1} = {2:<2}\".format(i, j, i*j)  \n",
    "        results.append(msg)\n",
    "print(results)"
   ]
  },
  {
   "cell_type": "code",
   "execution_count": null,
   "metadata": {},
   "outputs": [],
   "source": [
    "[ '%s X %s = %2s'%(i,j,i*j)\n",
    " for i in range(3,8) for j in range(1,10)]"
   ]
  },
  {
   "cell_type": "code",
   "execution_count": 1,
   "metadata": {},
   "outputs": [],
   "source": [
    "x = []"
   ]
  },
  {
   "cell_type": "code",
   "execution_count": 7,
   "metadata": {
    "scrolled": true
   },
   "outputs": [],
   "source": [
    "x= [ i+1 for i in range(7)]"
   ]
  },
  {
   "cell_type": "code",
   "execution_count": 8,
   "metadata": {},
   "outputs": [
    {
     "name": "stdout",
     "output_type": "stream",
     "text": [
      "[1, 2, 3, 4, 5, 6, 7]\n"
     ]
    }
   ],
   "source": [
    "print(x)"
   ]
  },
  {
   "cell_type": "code",
   "execution_count": null,
   "metadata": {},
   "outputs": [],
   "source": [
    "[ i*j\n",
    " for i in range(3,8) for j in range(1,10)]"
   ]
  },
  {
   "cell_type": "code",
   "execution_count": 58,
   "metadata": {},
   "outputs": [
    {
     "name": "stdout",
     "output_type": "stream",
     "text": [
      "['3 ', '6 ', '9 ', '12', '15', '18', '21', '24', '27', '4 ', '8 ', '12', '16', '20', '24', '28', '32', '36', '6 ', '12', '18', '24', '30', '36', '42', '48', '54', '7 ', '14', '21', '28', '35', '42', '49', '56', '63'] 36\n"
     ]
    }
   ],
   "source": [
    "results = list()\n",
    "\n",
    "for i in range(3,8):\n",
    "    if(i == 5):\n",
    "        continue\n",
    "    for j in range(1,10):\n",
    "        msg = \"{0:<2}\".format(i*j)  \n",
    "        results.append(msg)\n",
    "print(results, len(results))"
   ]
  },
  {
   "cell_type": "code",
   "execution_count": null,
   "metadata": {},
   "outputs": [],
   "source": [
    "# 5단만 빼고 출력하라"
   ]
  },
  {
   "cell_type": "code",
   "execution_count": null,
   "metadata": {},
   "outputs": [],
   "source": [
    "# else는 굳이 꽉꽉 안채워도 된다?\n",
    "results = list()\n",
    "\n",
    "for i in range(3,8):\n",
    "    if(i == 5):\n",
    "        continue\n",
    "    for j in range(1,10):\n",
    "        msg = \"{0:<2}\".format(i*j)  \n",
    "        results.append(msg)\n",
    "print(results, len(results))"
   ]
  },
  {
   "cell_type": "code",
   "execution_count": 48,
   "metadata": {
    "scrolled": true
   },
   "outputs": [
    {
     "name": "stdout",
     "output_type": "stream",
     "text": [
      "['3 ', '6 ', '9 ', '12', '15', '18', '21', '24', '27', '4 ', '8 ', '12', '16', '20', '24', '28', '32', '36', '6 ', '12', '18', '24', '30', '36', '42', '48', '54', '7 ', '14', '21', '28', '35', '42', '49', '56', '63'] 36\n"
     ]
    }
   ],
   "source": [
    "results = list()\n",
    "\n",
    "for i in range(3,8):\n",
    "    if(i != 5):\n",
    "        for j in range(1,10):\n",
    "            msg = \"{0:<2}\".format(i*j)  \n",
    "            results.append(msg)\n",
    "print(results, len(results))"
   ]
  },
  {
   "cell_type": "code",
   "execution_count": 66,
   "metadata": {
    "scrolled": true
   },
   "outputs": [
    {
     "name": "stdout",
     "output_type": "stream",
     "text": [
      "[3, 6, 9, 12, 15, 18, 21, 24, 27, 4, 8, 12, 16, 20, 24, 28, 32, 36, 6, 12, 18, 24, 30, 36, 42, 48, 54, 7, 14, 21, 28, 35, 42, 49, 56, 63]\n"
     ]
    }
   ],
   "source": [
    "# 리스트 내포는 풀어쓴 거를 : 빼고 배치만 해줘라\n",
    "# 리스트 내포에서는 continue, break 사용 불가!\n",
    "print([i*j for i in range(3,8) if(i != 5) for j in range(1,10)])"
   ]
  },
  {
   "cell_type": "markdown",
   "metadata": {},
   "source": [
    "#### 옵션\n",
    "- 문자열에서 정수 변환이 가능한지 체크"
   ]
  },
  {
   "cell_type": "code",
   "execution_count": 6,
   "metadata": {
    "scrolled": true
   },
   "outputs": [
    {
     "name": "stdout",
     "output_type": "stream",
     "text": [
      "1\n",
      "True False True\n",
      "True True True\n",
      "------------------------------\n",
      "1.1\n",
      "False False True\n",
      "False False False\n",
      "------------------------------\n",
      "a\n",
      "True True True\n",
      "False False False\n",
      "------------------------------\n"
     ]
    }
   ],
   "source": [
    "for a in ['1', '1.1', 'a']:\n",
    "    print(a)\n",
    "    print(a.isalnum(), a.isalpha(), a.isascii())\n",
    "    print(a.isdecimal(), a.isdigit(), a.isnumeric())\n",
    "    print('-'*30)"
   ]
  },
  {
   "cell_type": "code",
   "execution_count": null,
   "metadata": {},
   "outputs": [],
   "source": [
    "a = '1'"
   ]
  },
  {
   "cell_type": "code",
   "execution_count": 5,
   "metadata": {
    "scrolled": true
   },
   "outputs": [
    {
     "ename": "AttributeError",
     "evalue": "'list' object has no attribute 'isalnum'",
     "output_type": "error",
     "traceback": [
      "\u001b[1;31m---------------------------------------------------------------------------\u001b[0m",
      "\u001b[1;31mAttributeError\u001b[0m                            Traceback (most recent call last)",
      "\u001b[1;32m<ipython-input-5-00e0cadf3492>\u001b[0m in \u001b[0;36m<module>\u001b[1;34m\u001b[0m\n\u001b[1;32m----> 1\u001b[1;33m \u001b[0ma\u001b[0m\u001b[1;33m.\u001b[0m\u001b[0misalnum\u001b[0m\u001b[1;33m(\u001b[0m\u001b[1;33m)\u001b[0m\u001b[1;33m,\u001b[0m \u001b[0ma\u001b[0m\u001b[1;33m.\u001b[0m\u001b[0misalpha\u001b[0m\u001b[1;33m(\u001b[0m\u001b[1;33m)\u001b[0m\u001b[1;33m,\u001b[0m \u001b[0ma\u001b[0m\u001b[1;33m.\u001b[0m\u001b[0misascii\u001b[0m\u001b[1;33m(\u001b[0m\u001b[1;33m)\u001b[0m\u001b[1;33m\u001b[0m\u001b[1;33m\u001b[0m\u001b[0m\n\u001b[0m",
      "\u001b[1;31mAttributeError\u001b[0m: 'list' object has no attribute 'isalnum'"
     ]
    }
   ],
   "source": [
    "a.isalnum(), a.isalpha(), a.isascii()"
   ]
  },
  {
   "cell_type": "code",
   "execution_count": 3,
   "metadata": {},
   "outputs": [
    {
     "data": {
      "text/plain": [
       "(True, True, True)"
      ]
     },
     "execution_count": 3,
     "metadata": {},
     "output_type": "execute_result"
    }
   ],
   "source": [
    "a.isdecimal(), a.isdigit(), a.isnumeric()"
   ]
  },
  {
   "cell_type": "code",
   "execution_count": null,
   "metadata": {},
   "outputs": [],
   "source": []
  },
  {
   "cell_type": "code",
   "execution_count": null,
   "metadata": {},
   "outputs": [],
   "source": []
  },
  {
   "cell_type": "code",
   "execution_count": null,
   "metadata": {},
   "outputs": [],
   "source": []
  },
  {
   "cell_type": "code",
   "execution_count": null,
   "metadata": {},
   "outputs": [],
   "source": []
  },
  {
   "cell_type": "code",
   "execution_count": null,
   "metadata": {},
   "outputs": [],
   "source": []
  },
  {
   "cell_type": "code",
   "execution_count": null,
   "metadata": {},
   "outputs": [],
   "source": []
  },
  {
   "cell_type": "code",
   "execution_count": null,
   "metadata": {},
   "outputs": [],
   "source": []
  },
  {
   "cell_type": "code",
   "execution_count": null,
   "metadata": {},
   "outputs": [],
   "source": []
  },
  {
   "cell_type": "code",
   "execution_count": null,
   "metadata": {},
   "outputs": [],
   "source": []
  },
  {
   "cell_type": "code",
   "execution_count": null,
   "metadata": {},
   "outputs": [],
   "source": []
  },
  {
   "cell_type": "code",
   "execution_count": null,
   "metadata": {},
   "outputs": [],
   "source": []
  },
  {
   "cell_type": "code",
   "execution_count": null,
   "metadata": {},
   "outputs": [],
   "source": []
  },
  {
   "cell_type": "code",
   "execution_count": null,
   "metadata": {},
   "outputs": [],
   "source": []
  },
  {
   "cell_type": "code",
   "execution_count": null,
   "metadata": {},
   "outputs": [],
   "source": []
  },
  {
   "cell_type": "code",
   "execution_count": null,
   "metadata": {},
   "outputs": [],
   "source": []
  },
  {
   "cell_type": "code",
   "execution_count": null,
   "metadata": {},
   "outputs": [],
   "source": []
  },
  {
   "cell_type": "code",
   "execution_count": null,
   "metadata": {},
   "outputs": [],
   "source": []
  }
 ],
 "metadata": {
  "kernelspec": {
   "display_name": "Python 3",
   "language": "python",
   "name": "python3"
  },
  "language_info": {
   "codemirror_mode": {
    "name": "ipython",
    "version": 3
   },
   "file_extension": ".py",
   "mimetype": "text/x-python",
   "name": "python",
   "nbconvert_exporter": "python",
   "pygments_lexer": "ipython3",
   "version": "3.7.4"
  }
 },
 "nbformat": 4,
 "nbformat_minor": 2
}
