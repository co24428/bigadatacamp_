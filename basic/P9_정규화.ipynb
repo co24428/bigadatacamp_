{
 "cells": [
  {
   "cell_type": "markdown",
   "metadata": {},
   "source": [
    "### 정규식\n",
    "\n",
    "- 정규 표현식\n",
    "- Regular Expression\n",
    "- 복잡한 문자열을 처리할 때 사용하는 기법\n",
    "    - 문자열에서 원하는 데이터만 추출, 가공, 삭제  \n",
    "    => 전처리 / 정제"
   ]
  },
  {
   "cell_type": "markdown",
   "metadata": {},
   "source": [
    "### 맛보기"
   ]
  },
  {
   "cell_type": "code",
   "execution_count": 1,
   "metadata": {},
   "outputs": [],
   "source": [
    "# 1. 모듈 가져오기\n",
    "import re"
   ]
  },
  {
   "cell_type": "code",
   "execution_count": 2,
   "metadata": {},
   "outputs": [
    {
     "data": {
      "text/plain": [
       "'\\nBTS (Korean: 방탄소년단; RR: Bangt'"
      ]
     },
     "execution_count": 2,
     "metadata": {},
     "output_type": "execute_result"
    }
   ],
   "source": [
    "test_txt = '''\n",
    "BTS (Korean: 방탄소년단; RR: Bangtan Sonyeondan), also known as the Bangtan Boys, is a seven-member South Korean boy band formed in Seoul in 2013. The septet co-writes and produces much of their output. Originally a hip hop group, their musical style has evolved to include a wide range of genres. Their lyrics, often focused on personal and social commentary, touch on the themes of mental health, troubles of school-age youth, loss, the journey towards loving oneself, and individualism. Their work features references to literature and psychological concepts and includes an alternative universe storyline. The group have staged several world tours.\n",
    "\n",
    "The group initially formed as teenagers under Big Hit Entertainment and released their debut single album, 2 Cool 4 Skool (2013). Subsequent work such as their first U.S. Billboard 200 entries The Most Beautiful Moment in Life, Part 2 (2015), The Most Beautiful Moment in Life: Young Forever (2016), and Wings (2016) helped establish BTS' reputation as a socially conscious group. Wings became BTS' first album to sell one million copies in South Korea. By 2017, BTS crossed into the international music market, leading the Korean Wave into the United States and breaking numerous sales records, becoming the first Korean group to receive a certification from the Recording Industry Association of America (RIAA) for their single \"Mic Drop\". The band is the first Korean act to top the Billboard 200 with their studio album Love Yourself: Tear (2018) and have since hit the top of the U.S. charts with their albums Love Yourself: Answer (2018) and Map of the Soul: Persona (2019), making BTS the first group since the Beatles to earn three number one albums in less than a year. Love Yourself: Answer also broke South Korea's Gaon Album Chart's all-time monthly record previously set by Love Yourself: Tear and became the first Korean album certified Gold in the United States.\n",
    "\n",
    "'''\n",
    "test_txt[:30]"
   ]
  },
  {
   "cell_type": "code",
   "execution_count": 3,
   "metadata": {},
   "outputs": [],
   "source": [
    "# 원문에서 한글 제거\n",
    "# 한글 초성 + 중성 + 종성 => euc-kr, 16bit => 조합형 코드\n",
    "# 한글 가,갸,거,겨, ...   => utf-8 ,  8bit => 완성형 코드\n",
    "# 완성형 기준 => ㄱ -> ㅣ -> 가 -> 힣\n",
    "hangul = re.compile( '[ㄱ-ㅣ가-힣]+' )\n",
    "alpha = re.compile('[a-zA-Z]+')"
   ]
  },
  {
   "cell_type": "code",
   "execution_count": 4,
   "metadata": {},
   "outputs": [
    {
     "data": {
      "text/plain": [
       "'\\nBTS (Korean: ; RR: Bangtan Sonyeondan), also known as the Bangtan Boys, is a seven-member South Kor'"
      ]
     },
     "execution_count": 4,
     "metadata": {},
     "output_type": "execute_result"
    }
   ],
   "source": [
    "# 한글을 ''으로 대체해라 -> 제거해라\n",
    "hangul.sub( '', test_txt )[:100]"
   ]
  },
  {
   "cell_type": "code",
   "execution_count": 5,
   "metadata": {},
   "outputs": [
    {
     "data": {
      "text/plain": [
       "'\\n (: 방탄소년단; :  ),      ,   -         2013.   -      .     ,            .  ,       ,       ,   - , , '"
      ]
     },
     "execution_count": 5,
     "metadata": {},
     "output_type": "execute_result"
    }
   ],
   "source": [
    "# 영어을 ''으로 대체해라 -> 제거해라\n",
    "alpha.sub( '', test_txt )[:100]"
   ]
  },
  {
   "cell_type": "markdown",
   "metadata": {},
   "source": [
    "**===============================================**"
   ]
  },
  {
   "cell_type": "markdown",
   "metadata": {},
   "source": [
    "- 메타문자 (meta characters)\n",
    "    - 일반 표현 : | . ^ $ * + ? {} () [] ...\n",
    "    - 이스케이프 표현 : \\d \\D \\s \\S \\w \\W \\b \\B ...\n",
    "\n",
    "- 함수\n",
    "    - match()\n",
    "    - search()\n",
    "    - findall()\n",
    "    - finditer()\n",
    "    - sub()\n",
    "\n",
    "- 그룹핑\n",
    "- 전방탐색\n",
    "    - 긍정형 전방 탐색\n",
    "    - 부정형 전방 탐색\n",
    "\n",
    "- 컴파일 옵션"
   ]
  },
  {
   "cell_type": "markdown",
   "metadata": {},
   "source": [
    "1. 데이터를 보고 <= 통찰\n",
    "1. 정제 및 추출을 할 수 있는 표현식을 구현한 후 <= 정규식 구현\n",
    "1. 함수를 써서 데이터를 획득한다. <= 최종 추출"
   ]
  },
  {
   "cell_type": "markdown",
   "metadata": {},
   "source": [
    "## 메타문자 (meta characters)\n",
    "\n",
    "- 일반 표현 : | . ^ $ * + ? {} () [] ..."
   ]
  },
  {
   "cell_type": "markdown",
   "metadata": {},
   "source": [
    "- |\n",
    "    - 의미: or"
   ]
  },
  {
   "cell_type": "code",
   "execution_count": 6,
   "metadata": {},
   "outputs": [],
   "source": [
    "import re"
   ]
  },
  {
   "cell_type": "code",
   "execution_count": 7,
   "metadata": {},
   "outputs": [
    {
     "name": "stdout",
     "output_type": "stream",
     "text": [
      "1. 매치된다\n",
      "2. 매치된다\n",
      "3. 매치된다\n"
     ]
    }
   ],
   "source": [
    "# re.match( 정규식 , 데이터 ) => True/False\n",
    "# -> 특정 패턴이 데이터에 적용이 되었는지를 검사\n",
    "if re.match( 'a|b|c' , 'a' ): print(\"1. 매치된다\") # 된다\n",
    "if re.match( 'a|b|c' , 'b' ): print(\"2. 매치된다\") # 된다\n",
    "if re.match( 'a|b|c' , 'c' ): print(\"3. 매치된다\") # 된다"
   ]
  },
  {
   "cell_type": "code",
   "execution_count": 8,
   "metadata": {},
   "outputs": [
    {
     "name": "stdout",
     "output_type": "stream",
     "text": [
      "5. 매치된다\n"
     ]
    }
   ],
   "source": [
    "if re.match( 'a|b|c' , 's' ): print(\"4. 매치된다\")  # 안된다\n",
    "# 한개라도 일치하면 , 참\n",
    "if re.match( 'a|b|c' , 'as' ): print(\"5. 매치된다\") # 된다\n",
    "#  a or b or c 중에 하나가 가장 먼저 시작한다.(첫글자) -> 거짓\n",
    "if re.match( 'a|b|c' , 'sa' ): print(\"6. 매치된다\") # 안된다"
   ]
  },
  {
   "cell_type": "markdown",
   "metadata": {},
   "source": [
    "- **[]**\n",
    "    - 의미 : 문자 클래스\n",
    "    - [와 ] 것 사이에는 어떤 문자도 들어갈 수 있다.\n",
    "    - []는 문자 한개를 의미한다\n",
    "    - match(시작단어), search(전체 중 일치되는 단어)를 사용할 경우 1개만 일치해도 참"
   ]
  },
  {
   "cell_type": "code",
   "execution_count": 9,
   "metadata": {},
   "outputs": [
    {
     "name": "stdout",
     "output_type": "stream",
     "text": [
      "1. 매치된다\n",
      "3. 매치된다\n",
      "4. 매치된다\n"
     ]
    }
   ],
   "source": [
    "# 문자열은 a,b,c 중에 하나가 시작문자여야 한다.\n",
    "if re.match( '[abc]' , 'a' ): print(\"1. 매치된다\") # 된다\n",
    "if re.match( '[abc]' , 'efz' ): print(\"2. 매치된다\") # 안된다\n",
    "if re.match( '[abc]' , 'abd' ): print(\"3. 매치된다\") # 된다\n",
    "if re.match( '[abc]' , 'b22' ): print(\"4. 매치된다\") # 된다"
   ]
  },
  {
   "cell_type": "code",
   "execution_count": 10,
   "metadata": {},
   "outputs": [
    {
     "name": "stdout",
     "output_type": "stream",
     "text": [
      "1. 매치된다\n",
      "3. 매치된다\n",
      "4. 매치된다\n",
      "5. 매치된다\n"
     ]
    }
   ],
   "source": [
    "# 문자열은 a,b,c 중에 하나가 포함되어야 한다.\n",
    "if re.search( '[abc]' , 'a' ): print(\"1. 매치된다\") # 된다\n",
    "if re.search( '[abc]' , 'efz' ): print(\"2. 매치된다\") # 안된다\n",
    "if re.search( '[abc]' , 'abd' ): print(\"3. 매치된다\") # 된다\n",
    "if re.search( '[abc]' , 'b22' ): print(\"4. 매치된다\") # 된다\n",
    "if re.search( '[abc]' , '22b' ): print(\"5. 매치된다\") # 된다"
   ]
  },
  {
   "cell_type": "markdown",
   "metadata": {},
   "source": [
    "- **-**\n",
    "    - 의미 : [] 문자 클래스 안에 두개의 문자 사이에 표현하면\n",
    "    - from ~ to : 어디서부터 어디까지 범위를 표현"
   ]
  },
  {
   "cell_type": "code",
   "execution_count": 11,
   "metadata": {},
   "outputs": [
    {
     "name": "stdout",
     "output_type": "stream",
     "text": [
      "1. 매치된다\n",
      "2. 매치된다\n"
     ]
    }
   ],
   "source": [
    "if re.match( '[0123456789]' , '1' ): print(\"1. 매치된다\") # 된다\n",
    "if re.match( '[0-9]' , '1' ): print(\"2. 매치된다\") # 된다"
   ]
  },
  {
   "cell_type": "code",
   "execution_count": 12,
   "metadata": {},
   "outputs": [
    {
     "name": "stdout",
     "output_type": "stream",
     "text": [
      "4. 매치된다\n"
     ]
    }
   ],
   "source": [
    "if re.match( '[a-zA-Z]' , '1' ): print(\"3. 매치된다\") # 안된다\n",
    "if re.match( '[a-zA-Z]' , 'B' ): print(\"4. 매치된다\") # 된다"
   ]
  },
  {
   "cell_type": "code",
   "execution_count": 13,
   "metadata": {},
   "outputs": [
    {
     "name": "stdout",
     "output_type": "stream",
     "text": [
      "6. 매치된다\n"
     ]
    }
   ],
   "source": [
    "if re.match( '[0-9a-z]' , 'Bb' ): print(\"5. 매치된다\") # 안된다\n",
    "if re.search( '[0-9a-z]' , 'Bb' ): print(\"6. 매치된다\") # 된다"
   ]
  },
  {
   "cell_type": "code",
   "execution_count": 14,
   "metadata": {},
   "outputs": [
    {
     "name": "stdout",
     "output_type": "stream",
     "text": [
      "7. 매치된다\n"
     ]
    }
   ],
   "source": [
    "# 한글 완성형 코드, utf-8\n",
    "if re.match( '[ㄱ-힣]' , '가나다asd' ): print(\"7. 매치된다\") # 된다"
   ]
  },
  {
   "cell_type": "markdown",
   "metadata": {},
   "source": [
    "- **.**\n",
    "    - 의미 : dot(.) 줄바꿈 기호 \\n를 제외하고 모든 문자에 매치  \n",
    "      => [] 문자클래스가 아닌곳에서 해당\n",
    "    - 문자 클래스 내부에서 . => . 그 자체"
   ]
  },
  {
   "cell_type": "code",
   "execution_count": 15,
   "metadata": {
    "scrolled": true
   },
   "outputs": [
    {
     "name": "stdout",
     "output_type": "stream",
     "text": [
      "1. 매치된다\n",
      "2. 매치된다\n",
      "4. 매치된다\n",
      "5. 매치된다\n",
      "6. 매치된다\n",
      "7. 매치된다\n",
      "10. 매치된다\n"
     ]
    }
   ],
   "source": [
    "if re.match( '[a.b]' , 'a' ): print(\"1. 매치된다\") # 된다\n",
    "if re.match( '[a.b]' , 'b' ): print(\"2. 매치된다\") # 된다\n",
    "if re.match( '[a.b]' , 'c' ): print(\"3. 매치된다\") # 안된다\n",
    "    \n",
    "if re.match( '[a.b]' , 'ab' ): print(\"4. 매치된다\") # 된다\n",
    "if re.match( '[a.b]' , 'a1b' ): print(\"5. 매치된다\") # 된다\n",
    "if re.match( '[a.b]' , 'abc' ): print(\"6. 매치된다\") # 된다\n",
    "if re.match( '[a.b]' , 'bcd' ): print(\"7. 매치된다\") # 된다\n",
    "if re.match( '[a.b]' , 'cab' ): print(\"8. 매치된다\") # 안된다\n",
    "if re.match( '[a.b]' , 'cab' ): print(\"9. 매치된다\") # 안된다\n",
    "    \n",
    "if re.match( '[a.b]' , '.ab' ): print(\"10. 매치된다\") # 된다"
   ]
  },
  {
   "cell_type": "code",
   "execution_count": 16,
   "metadata": {},
   "outputs": [
    {
     "name": "stdout",
     "output_type": "stream",
     "text": [
      "3. 매치된다\n",
      "4. 매치된다\n"
     ]
    }
   ],
   "source": [
    "# a문자b 라는 형태로 출발해야 통과\n",
    "if re.match( 'a.b' , 'a' ): print(\"1. 매치된다\") # 안된다\n",
    "if re.match( 'a.b' , 'abc' ): print(\"2. 매치된다\") # 안된다\n",
    "if re.match( 'a.b' , 'a1b' ): print(\"3. 매치된다\") # 된다\n",
    "if re.match( 'a.b' , 'a5be' ): print(\"4. 매치된다\") # 된다\n",
    "if re.match( 'a.b' , 'sa5be' ): print(\"4. 매치된다\") # 안된다"
   ]
  },
  {
   "cell_type": "markdown",
   "metadata": {},
   "source": [
    "- **^**\n",
    "    - 의미 :  \n",
    "        일반문자열 => 문자열의 맨 처음과 일치함을 의미  \n",
    "        문자 클래스 내 => 배제, 해당 문자 배제  \n",
    "        re.MULTILINE => 각 라인의 처음과 일치함을 조사  \n",
    "<br>\n",
    "- **\\$**\n",
    "    - 의미 : 문자열의 맨끝과 일치  \n",
    "<br>\n",
    "- **\\***\n",
    "    - 의미 : *을 붙인 바로 앞문자 0~무한대  \n",
    "<br>\n",
    "- **+**\n",
    "    - 의미 : +을 붙인 바로 앞문자 1~무한대\n",
    "    - 문자열 클래스 내부에서 기술하면\n",
    "        - 단순 +가 될수도 있고, 반복의 의미를 가질수도 있다. (주변값을 고려해서 해석)"
   ]
  },
  {
   "cell_type": "code",
   "execution_count": 17,
   "metadata": {
    "scrolled": true
   },
   "outputs": [
    {
     "name": "stdout",
     "output_type": "stream",
     "text": [
      "1. 매치된다\n"
     ]
    }
   ],
   "source": [
    "# 숫자나 .으로 시작하고 끝난다.\n",
    "if re.match( '^[0-9\\.]$', '1' ): print(\"1. 매치된다\") # 된다"
   ]
  },
  {
   "cell_type": "code",
   "execution_count": 18,
   "metadata": {},
   "outputs": [
    {
     "name": "stdout",
     "output_type": "stream",
     "text": [
      "1. 매치된다\n"
     ]
    }
   ],
   "source": [
    "if re.match( '^[0-9\\.]$', '.' ): print(\"1. 매치된다\") # 된다"
   ]
  },
  {
   "cell_type": "code",
   "execution_count": 19,
   "metadata": {},
   "outputs": [],
   "source": [
    "# 문자열은 1개, 문자 클래스는 1개만을 의미한다. => 문자의 수량에서 False\n",
    "#                                               => 해결방안 : * or +\n",
    "if re.match( '^[0-9\\.]$', '11' ): print(\"1. 매치된다\") # 안된다\n",
    "if re.match( '^[0-9\\.]$', '1.' ): print(\"2. 매치된다\") # 안된다    \n",
    "if re.match( '^[0-9\\.]$', '.1' ): print(\"3. 매치된다\") # 안된다\n",
    "if re.match( '^[0-9\\.]$', '..' ): print(\"4. 매치된다\") # 안된다"
   ]
  },
  {
   "cell_type": "code",
   "execution_count": 20,
   "metadata": {
    "scrolled": true
   },
   "outputs": [
    {
     "name": "stdout",
     "output_type": "stream",
     "text": [
      "1. 매치된다\n",
      "2. 매치된다\n",
      "3. 매치된다\n",
      "4. 매치된다\n"
     ]
    }
   ],
   "source": [
    "if re.match( '^[0-9\\.]+$', '11' ): print(\"1. 매치된다\") # 된다\n",
    "if re.match( '^[0-9\\.]+$', '1.' ): print(\"2. 매치된다\") # 된다    \n",
    "if re.match( '^[0-9\\.]*$', '.1' ): print(\"3. 매치된다\") # 된다\n",
    "if re.match( '^[0-9\\.]*$', '..' ): print(\"4. 매치된다\") # 된다"
   ]
  },
  {
   "cell_type": "code",
   "execution_count": 21,
   "metadata": {},
   "outputs": [
    {
     "name": "stdout",
     "output_type": "stream",
     "text": [
      "2. 매치된다\n"
     ]
    }
   ],
   "source": [
    "# 정규식의 패턴이 늘어감에 따라 match 종합적인 조건을 따지게 된다.\n",
    "# 시작문자 and 끝문자 and 문자수 and 문자 성분\n",
    "if re.match( '^[0-9\\.]+$', '1sad1' ): print(\"1. 매치된다\") # 안된다, 숫자와 .만 허용\n",
    "if re.match( '^[0-9\\.]+$', '17213.23' ): print(\"2. 매치된다\") # 된다"
   ]
  },
  {
   "cell_type": "code",
   "execution_count": 126,
   "metadata": {},
   "outputs": [
    {
     "name": "stdout",
     "output_type": "stream",
     "text": [
      "2. 매치된다\n",
      "3. 매치된다\n",
      "4. 매치된다\n"
     ]
    }
   ],
   "source": [
    "# [^]\n",
    "# [^0-9] => 시작문자에, 숫자만 안된다.\n",
    "if re.match( '[^0-9]', '1' ): print(\"1. 매치된다\") # 안된다\n",
    "if re.match( '[^0-9]', '가' ): print(\"2. 매치된다\") # 된다\n",
    "if re.match( '[^0-9]', 'a' ): print(\"3. 매치된다\") # 된다\n",
    "if re.match( '[^0-9]', 'ba' ): print(\"4. 매치된다\") # 된다"
   ]
  },
  {
   "cell_type": "code",
   "execution_count": 127,
   "metadata": {
    "scrolled": true
   },
   "outputs": [
    {
     "data": {
      "text/plain": [
       "'류현진 짱짱짱 (32)이 입단식 및 메디컬 체크를 위해 캐나다로 향한다.\\n\\n류현진 23일(한국시간) 미국 현지에서 \"류현진 토론토와 4년 8000만 달러에 FA 계약을 맺었다\"는 보도가 나왔다. 옵트아웃 조항은 없고 일부 구단 상대 트레이드 거부권이 포함돼 있는 조건이다. 류현진은 박찬호(2001년 5년 7100만 달러)를 넘어 한국인 투수 메이저리거 최고 금액을 기록했다.\\n\\n2013년 포스팅시스템을 통해 LA 다저스와 6년 3600만 달러 계약을 맺고 메이저리그에 진출한 류현진은 부상으로 경기에 나서지 못한 2015년을 제외하고 6시즌 동안 126경기에 나와 54승33패 평균자책점 2.98을 기록했다. \\n\\n박찬호 가 29경기 14승5패 평균자책점 2.32로 호투하며 메이저리그 전체 평균자책점 최저 1위에 올랐다. 내셔널리그 사이영상 투표에서도 제이콥 디그롬(뉴욕 메츠)에 이어 2위를 차지하는 등 위상을 높인 뒤 올 겨울 FA 자격을 얻었다. 류현진은 가장 적극적이었던 토론토로 향한다.\\n\\n류현진 최고다 에이전트에 따르면 류현진은 메디컬 체크와 입단식에 참석하기 위해 류현진 크리스마스 25일 캐나다 토론토로 떠난다. 다만 출국일에는 공식 기자회견 없이 조용히 떠난 뒤 모든 행사를 마치고 귀국길에 공식 인터뷰에 임할 예정이라는 전언. \\n\\n박찬호 크리스마스를 앞두고 8000만 달러라는 대형 계약 \\'선물\\'을 안은 류현진은 아내 배지현 씨의 딸 출산까지 앞두고 있어 앞으로 책임감이 무거워졌다. 신중하게 FA 계약을 체결한 류현진이 앞으로 토론토에서 어떤 경기력을 보여줄지 기대를 모은다.\\n\\n'"
      ]
     },
     "execution_count": 127,
     "metadata": {},
     "output_type": "execute_result"
    }
   ],
   "source": [
    "data = '''류현진 짱짱짱 (32)이 입단식 및 메디컬 체크를 위해 캐나다로 향한다.\n",
    "\n",
    "류현진 23일(한국시간) 미국 현지에서 \"류현진 토론토와 4년 8000만 달러에 FA 계약을 맺었다\"는 보도가 나왔다. 옵트아웃 조항은 없고 일부 구단 상대 트레이드 거부권이 포함돼 있는 조건이다. 류현진은 박찬호(2001년 5년 7100만 달러)를 넘어 한국인 투수 메이저리거 최고 금액을 기록했다.\n",
    "\n",
    "2013년 포스팅시스템을 통해 LA 다저스와 6년 3600만 달러 계약을 맺고 메이저리그에 진출한 류현진은 부상으로 경기에 나서지 못한 2015년을 제외하고 6시즌 동안 126경기에 나와 54승33패 평균자책점 2.98을 기록했다. \n",
    "\n",
    "박찬호 가 29경기 14승5패 평균자책점 2.32로 호투하며 메이저리그 전체 평균자책점 최저 1위에 올랐다. 내셔널리그 사이영상 투표에서도 제이콥 디그롬(뉴욕 메츠)에 이어 2위를 차지하는 등 위상을 높인 뒤 올 겨울 FA 자격을 얻었다. 류현진은 가장 적극적이었던 토론토로 향한다.\n",
    "\n",
    "류현진 최고다 에이전트에 따르면 류현진은 메디컬 체크와 입단식에 참석하기 위해 류현진 크리스마스 25일 캐나다 토론토로 떠난다. 다만 출국일에는 공식 기자회견 없이 조용히 떠난 뒤 모든 행사를 마치고 귀국길에 공식 인터뷰에 임할 예정이라는 전언. \n",
    "\n",
    "박찬호 크리스마스를 앞두고 8000만 달러라는 대형 계약 '선물'을 안은 류현진은 아내 배지현 씨의 딸 출산까지 앞두고 있어 앞으로 책임감이 무거워졌다. 신중하게 FA 계약을 체결한 류현진이 앞으로 토론토에서 어떤 경기력을 보여줄지 기대를 모은다.\n",
    "\n",
    "'''\n",
    "data\n",
    "# 특정 단어가 시작문자로 여러 줄에 걸쳐서 등장한다. \"\"\\n\\n\""
   ]
  },
  {
   "cell_type": "code",
   "execution_count": 128,
   "metadata": {},
   "outputs": [],
   "source": [
    "# 정규식을 컴파일하고 \n",
    "# 이를 이용하여 데이터를 처리한다.\n",
    "# \\s : white space (공백, 탭, ...)\n",
    "# \\w : 한 단어 (+나 *을 통해 늘릴 수 있다.)\n",
    "# 류현진으로 시작하고 한칸 띄우고 단어 한 단어까지로 시작하는 문자열\n",
    "p = re.compile('^류현진\\s\\w')\n",
    "\n",
    "# 류현진으로 시작하고 한칸 띄우고 단어 한 단어 \"덩어리\"까지로 시작하는 문자열\n",
    "p2 = re.compile('^류현진\\s\\w+')"
   ]
  },
  {
   "cell_type": "code",
   "execution_count": 129,
   "metadata": {},
   "outputs": [
    {
     "name": "stdout",
     "output_type": "stream",
     "text": [
      "['류현진 짱']\n",
      "['류현진 짱짱짱']\n"
     ]
    }
   ],
   "source": [
    "# 한번 밖에 안나온다  => 멀티라인 미지원\n",
    "# 문자열 전체의 처음만\n",
    "print(p.findall(data))\n",
    "print(p2.findall(data))"
   ]
  },
  {
   "cell_type": "code",
   "execution_count": 139,
   "metadata": {},
   "outputs": [
    {
     "name": "stdout",
     "output_type": "stream",
     "text": [
      "['류현진 짱', '류현진 2', '류현진 최']\n",
      "['류현진 짱짱짱', '류현진 23일', '류현진 최고다']\n"
     ]
    }
   ],
   "source": [
    "# 멀티라인 지원\n",
    "# 문자열 전체가 아닌 각 줄의 처음이라는 의미를 갖게 된다. \n",
    "p = re.compile('^류현진\\s\\w', re.MULTILINE)\n",
    "p2 = re.compile('^류현진\\s\\w+', re.MULTILINE)\n",
    "\n",
    "print(p.findall(data))\n",
    "print(p2.findall(data))"
   ]
  },
  {
   "cell_type": "code",
   "execution_count": 142,
   "metadata": {},
   "outputs": [
    {
     "name": "stdout",
     "output_type": "stream",
     "text": [
      "['류현진 짱', '류현진 2', '류현진 토', '류현진 최', '류현진 크']\n",
      "['류현진 짱짱짱', '류현진 23일', '류현진 토론토와', '류현진 최고다', '류현진 크리스마스']\n"
     ]
    }
   ],
   "source": [
    "# 시작 마크 없앰 => 문자열 전체에서 탐색 후 수집 => MULTILINE이 의미가 없어진다.\n",
    "p = re.compile('류현진\\s\\w', re.MULTILINE)\n",
    "p2 = re.compile('류현진\\s\\w+', re.MULTILINE)\n",
    "\n",
    "print(p.findall(data))\n",
    "print(p2.findall(data))"
   ]
  },
  {
   "cell_type": "code",
   "execution_count": 145,
   "metadata": {},
   "outputs": [
    {
     "name": "stdout",
     "output_type": "stream",
     "text": [
      "['python one', 'python two', 'python\\npython']\n"
     ]
    }
   ],
   "source": [
    "p = re.compile(\"python\\s\\w+\")\n",
    "\n",
    "data = \"\"\"python one\n",
    "life is too short\n",
    "python two\n",
    "you need python\n",
    "python three\"\"\"\n",
    "\n",
    "print(p.findall(data))"
   ]
  },
  {
   "cell_type": "code",
   "execution_count": 132,
   "metadata": {},
   "outputs": [
    {
     "name": "stdout",
     "output_type": "stream",
     "text": [
      "3. 매치된다\n"
     ]
    }
   ],
   "source": [
    "# $ : 문자열 끝 패턴\n",
    "# 시작 문자 숫자 1~무한 and a-z 1~무한 이어지고 and 끝은 a-z\n",
    "if re.match( \"^[0-9]+[a-z]+$\", '1' ): print(\"1. 매치된다\") # 안된다\n",
    "if re.match( \"^[0-9]+[a-z]+$\", '11' ): print(\"2. 매치된다\") # 안된다\n",
    "if re.match( \"^[0-9]+[a-z]+$\", '11111a' ): print(\"3. 매치된다\") # 된다\n",
    "if re.match( \"^[0-9]+[a-z]+$\", '111111A' ): print(\"4. 매치된다\") # 안된다"
   ]
  },
  {
   "cell_type": "code",
   "execution_count": 133,
   "metadata": {},
   "outputs": [
    {
     "name": "stdout",
     "output_type": "stream",
     "text": [
      "1. 매치된다\n",
      "2. 매치된다\n",
      "3. 매치된다\n"
     ]
    }
   ],
   "source": [
    "# 반복 - * => 0~무한\n",
    "if re.match( \"bus*an\", 'buan' ): print(\"1. 매치된다\") # 된다\n",
    "if re.match( \"bus*an\", 'busan' ): print(\"2. 매치된다\") # 된다\n",
    "if re.match( \"bus*an\", 'bussan' ): print(\"3. 매치된다\") # 된다"
   ]
  },
  {
   "cell_type": "code",
   "execution_count": 30,
   "metadata": {},
   "outputs": [
    {
     "name": "stdout",
     "output_type": "stream",
     "text": [
      "2. 매치된다\n",
      "3. 매치된다\n"
     ]
    }
   ],
   "source": [
    "# 반복 - + => 1~무한\n",
    "if re.match( \"bus+an\", 'buan' ): print(\"1. 매치된다\") # 안된다\n",
    "if re.match( \"bus+an\", 'busan' ): print(\"2. 매치된다\") # 된다\n",
    "if re.match( \"bus+an\", 'bussan' ): print(\"3. 매치된다\") # 된다"
   ]
  },
  {
   "cell_type": "markdown",
   "metadata": {},
   "source": [
    "- {}\n",
    "    - 반복 횟수 지정\n",
    "    - {2} 2번 반복\n",
    "    - {2, 3} 2부터 3번까지 반복\n",
    "- ?\n",
    "    - {0,1}\n",
    "    - 0번 가능, 1번 가능\n",
    "    - 안나오던지, 나오면 1번만 나오던지"
   ]
  },
  {
   "cell_type": "code",
   "execution_count": 31,
   "metadata": {
    "scrolled": true
   },
   "outputs": [
    {
     "name": "stdout",
     "output_type": "stream",
     "text": [
      "3. 매치된다\n"
     ]
    }
   ],
   "source": [
    "if re.match( \"bus{2}an\", 'buan' ): print(\"1. 매치된다\") # 안된다\n",
    "if re.match( \"bus{2}an\", 'busan' ): print(\"2. 매치된다\") # 안된다\n",
    "if re.match( \"bus{2}an\", 'bussan' ): print(\"3. 매치된다\") # 된다"
   ]
  },
  {
   "cell_type": "code",
   "execution_count": 32,
   "metadata": {},
   "outputs": [
    {
     "name": "stdout",
     "output_type": "stream",
     "text": [
      "1. 매치된다\n",
      "2. 매치된다\n",
      "3. 매치된다\n",
      "4. 매치된다\n"
     ]
    }
   ],
   "source": [
    "# 문자 클래스 안에서는 본질적인 의미가 없어진다. 그냥 문자로 본다.\n",
    "# b, u, s, {, ,2, }, a, n => 이것들 중 1개가 시작이면 된다.\n",
    "if re.match( \"[bus{2}an]\", 'buan' ): print(\"1. 매치된다\") # 된다\n",
    "if re.match( \"[bus{2}an]\", '{buan' ): print(\"2. 매치된다\") # 된다\n",
    "if re.match( \"[bus{2}an]\", '}buan' ): print(\"3. 매치된다\") # 된다\n",
    "if re.match( \"[bus{2}an]\", '2buan' ): print(\"4. 매치된다\") # 된다\n",
    "if re.match( \"[bus{2}an]\", '1buan' ): print(\"5. 매치된다\") # 안된다"
   ]
  },
  {
   "cell_type": "code",
   "execution_count": 33,
   "metadata": {},
   "outputs": [
    {
     "name": "stdout",
     "output_type": "stream",
     "text": [
      "3. 매치된다\n",
      "4. 매치된다\n"
     ]
    }
   ],
   "source": [
    "if re.match( \"bus{2,3}an\", 'buan' ): print(\"1. 매치된다\") # 안된다\n",
    "if re.match( \"bus{2,3}an\", 'busan' ): print(\"2. 매치된다\") # 안된다\n",
    "if re.match( \"bus{2,3}an\", 'bussan' ): print(\"3. 매치된다\") # 된다\n",
    "if re.match( \"bus{2,3}an\", 'busssan' ): print(\"4. 매치된다\") # 된다\n",
    "if re.match( \"bus{2,3}an\", 'bussssan' ): print(\"5. 매치된다\") # 안된다\n",
    "if re.match( \"bus{2,3}an\", 'busssssan' ): print(\"6. 매치된다\") # 안된다"
   ]
  },
  {
   "cell_type": "code",
   "execution_count": 34,
   "metadata": {},
   "outputs": [
    {
     "name": "stdout",
     "output_type": "stream",
     "text": [
      "1. 매치된다\n",
      "2. 매치된다\n"
     ]
    }
   ],
   "source": [
    "# ? => 0 or 1\n",
    "if re.match( \"bus?an\", 'buan' ): print(\"1. 매치된다\") # 된다\n",
    "if re.match( \"bus?an\", 'busan' ): print(\"2. 매치된다\") # 된다\n",
    "if re.match( \"bus?an\", 'bussan' ): print(\"3. 매치된다\") # 안된다"
   ]
  },
  {
   "cell_type": "code",
   "execution_count": 35,
   "metadata": {},
   "outputs": [],
   "source": [
    "# 핸드폰 전화번호 정규식\n",
    "# 010-숫자4자-숫자4자\n",
    "# ^(시작), $(끝) 설정 무조건\n",
    "\n",
    "hp = re.compile('^010-[0-9][0-9][0-9][0-9]-[0-9][0-9][0-9][0-9]$', re.MULTILINE)\n",
    "\n",
    "hp2 = re.compile('^010-[0-9]{4}-[0-9]{4}$', re.MULTILINE)"
   ]
  },
  {
   "cell_type": "code",
   "execution_count": 36,
   "metadata": {
    "scrolled": true
   },
   "outputs": [
    {
     "name": "stdout",
     "output_type": "stream",
     "text": [
      "1. 매치된다\n"
     ]
    }
   ],
   "source": [
    "if re.match( hp, '010-1222-1212' ): print(\"1. 매치된다\") # 된다"
   ]
  },
  {
   "cell_type": "code",
   "execution_count": 37,
   "metadata": {
    "scrolled": true
   },
   "outputs": [
    {
     "name": "stdout",
     "output_type": "stream",
     "text": [
      "1. 매치된다\n"
     ]
    }
   ],
   "source": [
    "if re.match( hp2, '010-1222-1212' ): print(\"1. 매치된다\") # 된다"
   ]
  },
  {
   "cell_type": "code",
   "execution_count": 38,
   "metadata": {},
   "outputs": [
    {
     "data": {
      "text/plain": [
       "'\\n010-1212-12123\\n010-23232-2323\\n010-1215-7442\\n010-1312-2354\\n'"
      ]
     },
     "execution_count": 38,
     "metadata": {},
     "output_type": "execute_result"
    }
   ],
   "source": [
    "hp_data = '''\n",
    "010-1212-12123\n",
    "010-23232-2323\n",
    "010-1215-7442\n",
    "010-1312-2354\n",
    "'''\n",
    "hp_data"
   ]
  },
  {
   "cell_type": "code",
   "execution_count": 39,
   "metadata": {
    "scrolled": false
   },
   "outputs": [
    {
     "data": {
      "text/plain": [
       "['010-1215-7442', '010-1312-2354']"
      ]
     },
     "execution_count": 39,
     "metadata": {},
     "output_type": "execute_result"
    }
   ],
   "source": [
    "hp2.findall(hp_data)"
   ]
  },
  {
   "cell_type": "code",
   "execution_count": 40,
   "metadata": {},
   "outputs": [],
   "source": [
    "# 이메일"
   ]
  },
  {
   "cell_type": "code",
   "execution_count": 41,
   "metadata": {},
   "outputs": [],
   "source": [
    "email = re.compile(\"[a-zA-Z0-9]{5,15}@[a-z]+[.]com\")"
   ]
  },
  {
   "cell_type": "code",
   "execution_count": 42,
   "metadata": {},
   "outputs": [],
   "source": [
    "email_data = '''\n",
    "python@mail.example.com\n",
    "ihwan1236@gmail.com\n",
    "python+kr@example.com\n",
    "python-dojang@example.co.kr\n",
    "python.dojang@e-xample.com\n",
    "ihwan1236@gmail.com\n",
    "@example.com\n",
    "python@example\n",
    "python@example-com\n",
    "ihwan1236@gmail.com\n",
    "'''"
   ]
  },
  {
   "cell_type": "code",
   "execution_count": 43,
   "metadata": {
    "scrolled": true
   },
   "outputs": [
    {
     "data": {
      "text/plain": [
       "['ihwan1236@gmail.com', 'ihwan1236@gmail.com', 'ihwan1236@gmail.com']"
      ]
     },
     "execution_count": 43,
     "metadata": {},
     "output_type": "execute_result"
    }
   ],
   "source": [
    "email.findall(email_data)"
   ]
  },
  {
   "cell_type": "markdown",
   "metadata": {},
   "source": [
    "### 메타문자 > 이스케이프\n",
    "\n",
    "- \\d <-> \\D\n",
    "- \\s <-> \\S\n",
    "- \\w <-> \\W\n",
    "- \\b <-> \\B\n",
    "- 기타\n",
    "    - 문자 클래스에서 특수문자, 화이트스페이스 등을 표현할 때\n",
    "    - . => \\ . 이런 식으로 표현할 수 있다."
   ]
  },
  {
   "cell_type": "code",
   "execution_count": 44,
   "metadata": {},
   "outputs": [
    {
     "name": "stdout",
     "output_type": "stream",
     "text": [
      "1. 매치된다\n"
     ]
    }
   ],
   "source": [
    "# \\d : 숫자 => [0-9]\n",
    "if re.match( \"[\\d]\", '1' ): print(\"1. 매치된다\") # 된다\n",
    "if re.match( \"[\\d]\", 'a' ): print(\"2. 매치된다\") # 안된다"
   ]
  },
  {
   "cell_type": "code",
   "execution_count": 45,
   "metadata": {
    "scrolled": true
   },
   "outputs": [
    {
     "name": "stdout",
     "output_type": "stream",
     "text": [
      "2. 매치된다\n"
     ]
    }
   ],
   "source": [
    "# \\D : 숫자말고 나머지 => [^0-9]\n",
    "if re.match( \"[\\D]\", '1' ): print(\"1. 매치된다\") # 안된다\n",
    "if re.match( \"[\\D]\", 'a' ): print(\"2. 매치된다\") # 된다"
   ]
  },
  {
   "cell_type": "code",
   "execution_count": 46,
   "metadata": {},
   "outputs": [
    {
     "name": "stdout",
     "output_type": "stream",
     "text": [
      "1. 매치된다\n"
     ]
    }
   ],
   "source": [
    "# \\s -> whitespace : \\t, \\n, \\r, \\f, \\v, ...\n",
    "# 수평탭, 개행, 캐리지리턴, 폼 피드, 수직탭\n",
    "# 공백처럼 보이면서 문자열 상에 정보를 제공 문자\n",
    "if re.match( \"[\\s]\", ' \\t\\n\\r\\f\\v' ): print(\"1. 매치된다\") # 된다\n",
    "if re.match( \"[\\s]\", 'a \\t\\n\\r\\f\\v' ): print(\"2. 매치된다\") # 안된다"
   ]
  },
  {
   "cell_type": "code",
   "execution_count": 47,
   "metadata": {},
   "outputs": [
    {
     "name": "stdout",
     "output_type": "stream",
     "text": [
      "2. 매치된다\n"
     ]
    }
   ],
   "source": [
    "# \\S : whitespace가 아닌 문자\n",
    "if re.match( \"[\\S]\", ' \\t\\n\\r\\f\\v' ): print(\"1. 매치된다\") # 안된다\n",
    "if re.match( \"[\\S]\", 'a \\t\\n\\r\\f\\v' ): print(\"2. 매치된다\") # 된다"
   ]
  },
  {
   "cell_type": "code",
   "execution_count": 48,
   "metadata": {},
   "outputs": [
    {
     "name": "stdout",
     "output_type": "stream",
     "text": [
      "1. 매치된다\n",
      "2. 매치된다\n",
      "3. 매치된다\n"
     ]
    }
   ],
   "source": [
    "# \\w -> 문자, 숫자와 매치 : [a-zA-Z0-9ㄱ-힣], 언어면 다 OK\n",
    "if re.match( \"[\\w]\", 'a0' ): print(\"1. 매치된다\") # 된다\n",
    "if re.match( \"[\\w]\", '값' ): print(\"2. 매치된다\") # 된다\n",
    "if re.match( \"[\\w]\", '12' ): print(\"3. 매치된다\") # 된다"
   ]
  },
  {
   "cell_type": "code",
   "execution_count": 49,
   "metadata": {},
   "outputs": [
    {
     "name": "stdout",
     "output_type": "stream",
     "text": [
      "2. 매치된다\n"
     ]
    }
   ],
   "source": [
    "# \\W -> 문자, 숫자가 아닌 문자와 매치 : 특수문자, 이스케이프 문자\n",
    "# [^a-zA-Z0-9ㄱ-힣]\n",
    "if re.match( \"[\\W]\", 'a0' ): print(\"1. 매치된다\") # 안된다 \n",
    "if re.match( \"[\\W]\", '\\t' ): print(\"2. 매치된다\") # 된다\n",
    "if re.match( \"[\\W]\", '12' ): print(\"3. 매치된다\") # 안된다"
   ]
  },
  {
   "cell_type": "code",
   "execution_count": 50,
   "metadata": {},
   "outputs": [
    {
     "name": "stdout",
     "output_type": "stream",
     "text": [
      "ABC가나다\t]\n",
      "라\n"
     ]
    }
   ],
   "source": [
    "# 일반 문자열은 인용부호 (ex, 줄바꿈, ...)는 해석되서 처리된다.\n",
    "a = 'ABC가나다\\t]\\n라'\n",
    "print(a)"
   ]
  },
  {
   "cell_type": "code",
   "execution_count": 51,
   "metadata": {},
   "outputs": [
    {
     "name": "stdout",
     "output_type": "stream",
     "text": [
      "ABC가나다\\t]\\n라 <class 'str'>\n"
     ]
    }
   ],
   "source": [
    "# 만약 데이터 그대로 받고싶다면\n",
    "# Raw String\n",
    "# 이스케이프 문자가 적용되지 않는다.\n",
    "a = r'ABC가나다\\t]\\n라'\n",
    "print(a, type(a))"
   ]
  },
  {
   "cell_type": "code",
   "execution_count": 52,
   "metadata": {},
   "outputs": [],
   "source": [
    "# \\b 단어구분자 (word boundary)\n",
    "# 일반 단어는 화이트스페이스로 구분\n",
    "# \\b는 일반 단어에서 백키로 인식한다. 이 자체를 그대로 인식\n",
    "# 하기 위해서 raw string\n",
    "p = re.compile(r'\\bclass\\b')\n"
   ]
  },
  {
   "cell_type": "code",
   "execution_count": 53,
   "metadata": {},
   "outputs": [
    {
     "name": "stdout",
     "output_type": "stream",
     "text": [
      "<re.Match object; span=(3, 8), match='class'> class\n"
     ]
    }
   ],
   "source": [
    "m = p.search('no class at 1234')\n",
    "print (m, m.group())"
   ]
  },
  {
   "cell_type": "code",
   "execution_count": 54,
   "metadata": {},
   "outputs": [
    {
     "name": "stdout",
     "output_type": "stream",
     "text": [
      "None\n"
     ]
    }
   ],
   "source": [
    "m = p.search('no classifier at 1234')\n",
    "print (m)"
   ]
  },
  {
   "cell_type": "markdown",
   "metadata": {},
   "source": [
    "### 함수\n",
    "\n",
    "- match()\n",
    "    - 문자열의 처음부터 정규식과 매칭되는지 조사 \n",
    "    \n",
    "- search()\n",
    "    - 문자열 전체를 검색하여 매칭되는지 조사\n",
    "    \n",
    "- findall()\n",
    "    - 정규식에 매칭되는 모든 문자열을 리스트로 리턴\n",
    "    \n",
    "- finditer()\n",
    "    - 정규식에 매칭되는 모든 문자열을 iterator로 리턴\n",
    "    \n",
    "- sub()\n",
    "    - 규칙과 매칭되는 부분을 다른 문자로 변경"
   ]
  },
  {
   "cell_type": "code",
   "execution_count": 55,
   "metadata": {},
   "outputs": [],
   "source": [
    "# 숫자가 나오고 1~무한대로 반복될 수 있다.\n",
    "p = re.compile('[0-9]+')"
   ]
  },
  {
   "cell_type": "code",
   "execution_count": 56,
   "metadata": {},
   "outputs": [
    {
     "name": "stdout",
     "output_type": "stream",
     "text": [
      "None\n"
     ]
    }
   ],
   "source": [
    "# 매칭되는 것이 없다 -> \"None\" => 조건문으로 가면 False로 처리\n",
    "r = p.match('abcd5')\n",
    "print(r)"
   ]
  },
  {
   "cell_type": "code",
   "execution_count": 57,
   "metadata": {},
   "outputs": [
    {
     "name": "stdout",
     "output_type": "stream",
     "text": [
      "22  일치되는 데이터가 나온다\n"
     ]
    }
   ],
   "source": [
    "# 매치되는 것이 출력된다.\n",
    "'''\n",
    "<re.Match object; span=(0, 1), match='22'>\n",
    "'''\n",
    "r = p.match('22abcd5')\n",
    "if r:\n",
    "    print(r.group(), ' 일치되는 데이터가 나온다')\n",
    "else:\n",
    "    print(\"일치되는 데이터가 없다.\")\n",
    "# .group => 일치되는 데이터를 뽑아준다."
   ]
  },
  {
   "cell_type": "markdown",
   "metadata": {},
   "source": [
    "#### 이렇게도 할 수 있다 - 복잡"
   ]
  },
  {
   "cell_type": "code",
   "execution_count": 58,
   "metadata": {},
   "outputs": [
    {
     "name": "stdout",
     "output_type": "stream",
     "text": [
      "['i', 'a', 'm', 'a', 'u', 'm', 'a', 'n']\n"
     ]
    }
   ],
   "source": [
    "data = 'i am a Human. 2020 가나다라마바사 !@#$'\n",
    "# 소문자만 찾아서 소문자 글자 리스트로 리턴해라\n",
    "a = re.compile(\"[a-z]+\")\n",
    "print( list(\"\".join(a.findall(data))) )"
   ]
  },
  {
   "cell_type": "markdown",
   "metadata": {},
   "source": [
    "#### 강사님 ver"
   ]
  },
  {
   "cell_type": "code",
   "execution_count": 59,
   "metadata": {},
   "outputs": [],
   "source": [
    "p = re.compile(\"[a-z]+\")"
   ]
  },
  {
   "cell_type": "code",
   "execution_count": 60,
   "metadata": {},
   "outputs": [
    {
     "data": {
      "text/plain": [
       "<re.Match object; span=(0, 1), match='i'>"
      ]
     },
     "execution_count": 60,
     "metadata": {},
     "output_type": "execute_result"
    }
   ],
   "source": [
    "r =p.match(data)\n",
    "r"
   ]
  },
  {
   "cell_type": "code",
   "execution_count": 61,
   "metadata": {},
   "outputs": [
    {
     "data": {
      "text/plain": [
       "['i', 'am', 'a', 'uman']"
      ]
     },
     "execution_count": 61,
     "metadata": {},
     "output_type": "execute_result"
    }
   ],
   "source": [
    "p.findall(data)"
   ]
  },
  {
   "cell_type": "code",
   "execution_count": 62,
   "metadata": {},
   "outputs": [],
   "source": [
    "data = 'i am a HuMan. 2020 가나다라마바사 !@#$'"
   ]
  },
  {
   "cell_type": "code",
   "execution_count": 63,
   "metadata": {},
   "outputs": [
    {
     "data": {
      "text/plain": [
       "['i', 'am', 'a', 'u', 'an']"
      ]
     },
     "execution_count": 63,
     "metadata": {},
     "output_type": "execute_result"
    }
   ],
   "source": [
    "p.findall(data)\n",
    "# 소문자 사이에 다른 문자있어도 구분한다."
   ]
  },
  {
   "cell_type": "code",
   "execution_count": 64,
   "metadata": {},
   "outputs": [
    {
     "name": "stdout",
     "output_type": "stream",
     "text": [
      "i 0 1 (0, 1)\n",
      "am 2 4 (2, 4)\n",
      "a 5 6 (5, 6)\n",
      "u 8 9 (8, 9)\n",
      "an 10 12 (10, 12)\n"
     ]
    }
   ],
   "source": [
    "# finditer => 상세정보까지 볼 수 있다.\n",
    "r = p.finditer(data)\n",
    "for n in r:\n",
    "    print(n.group(), n.start(), n.end(), n.span())"
   ]
  },
  {
   "cell_type": "code",
   "execution_count": 65,
   "metadata": {},
   "outputs": [],
   "source": [
    "# 매칭되는 부분을 다른 문자로 변경\n",
    "p = re.compile('(blue|red|white)')"
   ]
  },
  {
   "cell_type": "code",
   "execution_count": 66,
   "metadata": {},
   "outputs": [
    {
     "data": {
      "text/plain": [
       "'색상 케이크 그리고 색상 와인을 가지고 집에 가세요'"
      ]
     },
     "execution_count": 66,
     "metadata": {},
     "output_type": "execute_result"
    }
   ],
   "source": [
    "# 문자열 대체\n",
    "p.sub('색상', 'white 케이크 그리고 red 와인을 가지고 집에 가세요')\n",
    "# '색상 케이크 그리고 색상 와인을 가지고 집에 가세요'"
   ]
  },
  {
   "cell_type": "code",
   "execution_count": 67,
   "metadata": {},
   "outputs": [
    {
     "data": {
      "text/plain": [
       "' 케이크 그리고  와인을 가지고 집에 가세요'"
      ]
     },
     "execution_count": 67,
     "metadata": {},
     "output_type": "execute_result"
    }
   ],
   "source": [
    "p.sub('', 'white 케이크 그리고 red 와인을 가지고 집에 가세요')\n",
    "# ' 케이크 그리고  와인을 가지고 집에 가세요'"
   ]
  },
  {
   "cell_type": "code",
   "execution_count": 68,
   "metadata": {},
   "outputs": [
    {
     "data": {
      "text/plain": [
       "1929"
      ]
     },
     "execution_count": 68,
     "metadata": {},
     "output_type": "execute_result"
    }
   ],
   "source": [
    "test_txt = '''\n",
    "BTS (Korean: 방탄소년단; RR: Bangtan Sonyeondan), also known as the Bangtan Boys, is a seven-member South Korean boy band formed in Seoul in 2013. The septet co-writes and produces much of their output. Originally a hip hop group, their musical style has evolved to include a wide range of genres. Their lyrics, often focused on personal and social commentary, touch on the themes of mental health, troubles of school-age youth, loss, the journey towards loving oneself, and individualism. Their work features references to literature and psychological concepts and includes an alternative universe storyline. The group have staged several world tours.\n",
    "\n",
    "The group initially formed as teenagers under Big Hit Entertainment and released their debut single album, 2 Cool 4 Skool (2013). Subsequent work such as their first U.S. Billboard 200 entries The Most Beautiful Moment in Life, Part 2 (2015), The Most Beautiful Moment in Life: Young Forever (2016), and Wings (2016) helped establish BTS' reputation as a socially conscious group. Wings became BTS' first album to sell one million copies in South Korea. By 2017, BTS crossed into the international music market, leading the Korean Wave into the United States and breaking numerous sales records, becoming the first Korean group to receive a certification from the Recording Industry Association of America (RIAA) for their single \"Mic Drop\". The band is the first Korean act to top the Billboard 200 with their studio album Love Yourself: Tear (2018) and have since hit the top of the U.S. charts with their albums Love Yourself: Answer (2018) and Map of the Soul: Persona (2019), making BTS the first group since the Beatles to earn three number one albums in less than a year. Love Yourself: Answer also broke South Korea's Gaon Album Chart's all-time monthly record previously set by Love Yourself: Tear and became the first Korean album certified Gold in the United States.\n",
    "\n",
    "'''\n",
    "len(test_txt)"
   ]
  },
  {
   "cell_type": "code",
   "execution_count": 150,
   "metadata": {},
   "outputs": [
    {
     "data": {
      "text/plain": [
       "'BTS(KoreanRRBangtanSonyeondan)alsoknownastheBangtanBoysisaseven-memberSouthKoreanboybandformedinSeoulin.Theseptetco-writesandproducesmuchoftheiroutput.Originallyahiphopgrouptheirmusicalstylehasevolvedtoincludeawiderangeofgenres.Theirlyricsoftenfocusedonpersonalandsocialcommentarytouchonthethemesofmentalhealthtroublesofschool-ageyouthlossthejourneytowardslovingoneselfandindividualism.Theirworkfeaturesreferencestoliteratureandpsychologicalconceptsandincludesanalternativeuniversestoryline.Thegrouph'"
      ]
     },
     "execution_count": 150,
     "metadata": {},
     "output_type": "execute_result"
    }
   ],
   "source": [
    "# 한글\n",
    "han = re.compile('[ㄱ-힣]+')\n",
    "\n",
    "# 제거할 문자 추가\n",
    "han = re.compile('[ㄱ-힣\\n;:0-9,]+')\n",
    "\n",
    "# 보기 좋게 특수문자 앞에 \\ 추가\n",
    "han = re.compile('[ㄱ-힣\\n\\;\\:0-9\\,]+')\n",
    "\"\"\"\n",
    "컴파일 '' 사이에 ' '(띄워쓰기)를 넣어도 인식한다.\n",
    "즉 띄워쓰기가 다 사라지게 된다.\n",
    "함부로 하지말 것\n",
    "\"\"\"\n",
    "\n",
    "# ====================\n",
    "# 한글을 ''로 대체해라\n",
    "han.sub('', test_txt)[:500]"
   ]
  },
  {
   "cell_type": "code",
   "execution_count": 152,
   "metadata": {},
   "outputs": [
    {
     "data": {
      "text/plain": [
       "'\\nBTS (Korean  RR Bangtan Sonyeondan), also known as the Bangtan Boys, is a seven-member South Korean boy band formed in Seoul in 2013. The septet co-writes and produces much of their output. Originally a hip hop group, their musical style has evolved to include a wide range of genres. Their lyrics, often focused on personal and social commentary, touch on the themes of mental health, troubles of school-age youth, loss, the journey towards loving oneself, and individualism. Their work features re'"
      ]
     },
     "execution_count": 152,
     "metadata": {},
     "output_type": "execute_result"
    }
   ],
   "source": [
    "# ascii를 이용하여 특수문자의 값의 범위를 활용하려 제거 가능\n",
    "# 비 영어권은 유니코드 혹은 완성형코드의 수치값 범위를 활용하여 제거한다.\n",
    "\n",
    "# 언어권 유니코드는 \\u값(16진수)-\\u값(16진수)\n",
    "# 16진수로 특수문자 범위표시 \\x값(16진수)-\\x값(16진수)\n",
    "example = re.compile('[ㄱ-힣\\x3A-\\x3F]')\n",
    "example.sub('', test_txt)[:500]"
   ]
  },
  {
   "cell_type": "markdown",
   "metadata": {},
   "source": [
    "### 그룹핑\n",
    "\n",
    "- 그룹을 만들어주는 메타문자 ()"
   ]
  },
  {
   "cell_type": "code",
   "execution_count": 71,
   "metadata": {},
   "outputs": [],
   "source": [
    "p = re.compile( '(123)+' )"
   ]
  },
  {
   "cell_type": "code",
   "execution_count": 72,
   "metadata": {},
   "outputs": [
    {
     "data": {
      "text/plain": [
       "<re.Match object; span=(0, 12), match='123123123123'>"
      ]
     },
     "execution_count": 72,
     "metadata": {},
     "output_type": "execute_result"
    }
   ],
   "source": [
    "m = p.search('123123123123 123123 check?')\n",
    "m"
   ]
  },
  {
   "cell_type": "code",
   "execution_count": 73,
   "metadata": {},
   "outputs": [
    {
     "data": {
      "text/plain": [
       "('123123123123', '123123123123', '123')"
      ]
     },
     "execution_count": 73,
     "metadata": {},
     "output_type": "execute_result"
    }
   ],
   "source": [
    "m.group(), m.group(0), m.group(1)"
   ]
  },
  {
   "cell_type": "markdown",
   "metadata": {},
   "source": [
    "- m.group(0)\n",
    "    - 매칭된 모든 문자열\n",
    "- m.group(1)\n",
    "    - 첫번째 그룹의 문자열\n",
    "- m.group(2)\n",
    "    - 두번째 그룹의 문자열\n",
    "- m.group(n)\n",
    "    - n번째 그룹의 문자열"
   ]
  },
  {
   "cell_type": "markdown",
   "metadata": {},
   "source": [
    "**==============================**"
   ]
  },
  {
   "cell_type": "code",
   "execution_count": 74,
   "metadata": {},
   "outputs": [],
   "source": [
    "# 이 표현대로 문자열을 표현한다면?\n",
    "# 이스케이프가 많이 나오면 r(raw)로 보자\n",
    "p =  re.compile(r'\\w+\\s+\\d+[-]\\d+[-]\\d+')"
   ]
  },
  {
   "cell_type": "code",
   "execution_count": 75,
   "metadata": {},
   "outputs": [],
   "source": [
    "m = p.search('부산대역 010-1212-2323')"
   ]
  },
  {
   "cell_type": "code",
   "execution_count": 76,
   "metadata": {},
   "outputs": [
    {
     "data": {
      "text/plain": [
       "'부산대역 010-1212-2323'"
      ]
     },
     "execution_count": 76,
     "metadata": {},
     "output_type": "execute_result"
    }
   ],
   "source": [
    "m.group()"
   ]
  },
  {
   "cell_type": "code",
   "execution_count": 77,
   "metadata": {
    "scrolled": true
   },
   "outputs": [
    {
     "data": {
      "text/plain": [
       "'부산대역 010-1212-2323'"
      ]
     },
     "execution_count": 77,
     "metadata": {},
     "output_type": "execute_result"
    }
   ],
   "source": [
    "m.group(0)"
   ]
  },
  {
   "cell_type": "code",
   "execution_count": 78,
   "metadata": {},
   "outputs": [],
   "source": [
    "m = p.search('부산대역 010-1212-2323 asdsad')"
   ]
  },
  {
   "cell_type": "code",
   "execution_count": 79,
   "metadata": {},
   "outputs": [
    {
     "data": {
      "text/plain": [
       "'부산대역 010-1212-2323'"
      ]
     },
     "execution_count": 79,
     "metadata": {},
     "output_type": "execute_result"
    }
   ],
   "source": [
    "m.group() # 해당하는 만큼 가져온다."
   ]
  },
  {
   "cell_type": "code",
   "execution_count": 80,
   "metadata": {},
   "outputs": [
    {
     "data": {
      "text/plain": [
       "()"
      ]
     },
     "execution_count": 80,
     "metadata": {},
     "output_type": "execute_result"
    }
   ],
   "source": [
    "m.groups() # -> ()\n",
    "# 그룹이 없다 -> 정규식에 그룹화 표현이 없다."
   ]
  },
  {
   "cell_type": "code",
   "execution_count": 81,
   "metadata": {},
   "outputs": [
    {
     "data": {
      "text/plain": [
       "'1212'"
      ]
     },
     "execution_count": 81,
     "metadata": {},
     "output_type": "execute_result"
    }
   ],
   "source": [
    "# 정규식 자체가 그룹화 되지 않음\n",
    "# 세부 정보를 취할 수 없다.\n",
    "\n",
    "# 전화번호의 중간을 획득\n",
    "m.group().split()[1].split('-')[1]"
   ]
  },
  {
   "cell_type": "code",
   "execution_count": 82,
   "metadata": {},
   "outputs": [],
   "source": [
    "# 그룹화를 쓰면 상세정보를 그룹별로 취할 수 있다.\n",
    "# 데이터를 획득하기가 용이하다."
   ]
  },
  {
   "cell_type": "code",
   "execution_count": 83,
   "metadata": {},
   "outputs": [],
   "source": [
    "p =  re.compile(r'(\\w+)\\s+(\\d+[-]\\d+[-]\\d+)')\n",
    "m = p.search('부산대역 010-1212-2323')"
   ]
  },
  {
   "cell_type": "code",
   "execution_count": 84,
   "metadata": {},
   "outputs": [
    {
     "data": {
      "text/plain": [
       "(('부산대역', '010-1212-2323'), '부산대역', '010-1212-2323')"
      ]
     },
     "execution_count": 84,
     "metadata": {},
     "output_type": "execute_result"
    }
   ],
   "source": [
    "# 이미 뽑을 때 split 되어있다.\n",
    "m.groups(), m.group(1), m.group(2)"
   ]
  },
  {
   "cell_type": "code",
   "execution_count": 85,
   "metadata": {},
   "outputs": [
    {
     "name": "stdout",
     "output_type": "stream",
     "text": [
      "부산대역\n",
      "010-1212-2323\n"
     ]
    }
   ],
   "source": [
    "for n in range(1, len(m.groups())+1):\n",
    "    print(m.group(n))"
   ]
  },
  {
   "cell_type": "code",
   "execution_count": 86,
   "metadata": {},
   "outputs": [],
   "source": [
    "p =  re.compile(r'(\\w+)\\s+(\\d+[-]\\d+[-]\\d+)')\n",
    "m = p.search('부산대역 010-1212-2323 부산대역2 011-1212-2323') \n",
    "# 뒤에는 안나온다.\n",
    "# 2323과 부산대역2 사이의 \\s 때문에"
   ]
  },
  {
   "cell_type": "code",
   "execution_count": 87,
   "metadata": {},
   "outputs": [
    {
     "data": {
      "text/plain": [
       "('부산대역', '010-1212-2323')"
      ]
     },
     "execution_count": 87,
     "metadata": {},
     "output_type": "execute_result"
    }
   ],
   "source": [
    "# 이미 뽑을 때 split 되어있다.\n",
    "m.groups()"
   ]
  },
  {
   "cell_type": "code",
   "execution_count": 88,
   "metadata": {},
   "outputs": [],
   "source": [
    "# 전화번호 상세 정보가 그룹화 되어 있지 않다.\n",
    "# 그룹 안에 그룹화 처리를 하면 자동 분류가 된다.\n",
    "\n",
    "p =  re.compile(r'(\\w+)\\s+((\\d+)[-](\\d+)[-](\\d+))')\n",
    "m = p.search('부산대역 010-1212-2323')"
   ]
  },
  {
   "cell_type": "code",
   "execution_count": 89,
   "metadata": {},
   "outputs": [
    {
     "data": {
      "text/plain": [
       "(('부산대역', '010-1212-2323', '010', '1212', '2323'), '부산대역', '010-1212-2323')"
      ]
     },
     "execution_count": 89,
     "metadata": {},
     "output_type": "execute_result"
    }
   ],
   "source": [
    "# 이미 뽑을 때 split 되어있다.\n",
    "m.groups(), m.group(1), m.group(2)"
   ]
  },
  {
   "cell_type": "code",
   "execution_count": 90,
   "metadata": {
    "scrolled": true
   },
   "outputs": [
    {
     "name": "stdout",
     "output_type": "stream",
     "text": [
      "부산대역\n",
      "010-1212-2323\n",
      "010\n",
      "1212\n",
      "2323\n"
     ]
    }
   ],
   "source": [
    "for n in range(1, len(m.groups())+1):\n",
    "    print(m.group(n))"
   ]
  },
  {
   "cell_type": "markdown",
   "metadata": {},
   "source": [
    "#### 그룹핑된 문자열의 재참조\n",
    "\n",
    "- 그룹핑 : 첫번째 그룹, 두번째 그룹, 세번째 그룹, ...\n",
    "- \\1, \\2, \\3, ..."
   ]
  },
  {
   "cell_type": "code",
   "execution_count": 91,
   "metadata": {},
   "outputs": [],
   "source": [
    "# 자기 참조는 정규식 형태도 일치하면서, 값도 일치하는 경우\n",
    "p = re.compile( r'(\\b\\w+)\\s+\\1' ) # \\1 1번 그룹핑이랑 같은 그룹핑, 값도 같아야 한다!!\n",
    "m = p.search('python numpy pandas pandas scipy tensorflow')"
   ]
  },
  {
   "cell_type": "code",
   "execution_count": 92,
   "metadata": {},
   "outputs": [
    {
     "data": {
      "text/plain": [
       "'pandas pandas'"
      ]
     },
     "execution_count": 92,
     "metadata": {},
     "output_type": "execute_result"
    }
   ],
   "source": [
    "m.group()"
   ]
  },
  {
   "cell_type": "code",
   "execution_count": 93,
   "metadata": {
    "scrolled": false
   },
   "outputs": [
    {
     "data": {
      "text/plain": [
       "('pandas',)"
      ]
     },
     "execution_count": 93,
     "metadata": {},
     "output_type": "execute_result"
    }
   ],
   "source": [
    "m.groups()"
   ]
  },
  {
   "cell_type": "code",
   "execution_count": 114,
   "metadata": {},
   "outputs": [],
   "source": [
    "p = re.compile( r'(\\b\\w+)(\\s+\\b\\w+)+' )\n",
    "m = p.search('python numpy pandas pandas scipy tensorflow')"
   ]
  },
  {
   "cell_type": "code",
   "execution_count": 115,
   "metadata": {},
   "outputs": [
    {
     "data": {
      "text/plain": [
       "'python numpy pandas pandas scipy tensorflow'"
      ]
     },
     "execution_count": 115,
     "metadata": {},
     "output_type": "execute_result"
    }
   ],
   "source": [
    "m.group()"
   ]
  },
  {
   "cell_type": "code",
   "execution_count": 121,
   "metadata": {
    "scrolled": true
   },
   "outputs": [
    {
     "data": {
      "text/plain": [
       "('python', ' tensorflow')"
      ]
     },
     "execution_count": 121,
     "metadata": {},
     "output_type": "execute_result"
    }
   ],
   "source": [
    "m.groups()"
   ]
  },
  {
   "cell_type": "markdown",
   "metadata": {},
   "source": [
    "####  그룹핑된 문자열 네이밍 처리"
   ]
  },
  {
   "cell_type": "code",
   "execution_count": 94,
   "metadata": {},
   "outputs": [],
   "source": [
    "# (?P<이름>정규식)\n",
    "p =  re.compile(r'(?P<name>\\w+)\\s+((\\d+)[-](\\d+)[-](\\d+))')\n",
    "m = p.search('부산대역 010-1212-2323 부산대역2 011-1212-2323') "
   ]
  },
  {
   "cell_type": "code",
   "execution_count": 95,
   "metadata": {},
   "outputs": [
    {
     "data": {
      "text/plain": [
       "('부산대역', '010-1212-2323', '010', '1212', '2323')"
      ]
     },
     "execution_count": 95,
     "metadata": {},
     "output_type": "execute_result"
    }
   ],
   "source": [
    "m.groups()"
   ]
  },
  {
   "cell_type": "code",
   "execution_count": 96,
   "metadata": {},
   "outputs": [
    {
     "data": {
      "text/plain": [
       "('부산대역', '부산대역')"
      ]
     },
     "execution_count": 96,
     "metadata": {},
     "output_type": "execute_result"
    }
   ],
   "source": [
    "# 이름을 부여하면 순서를 몰라도 된다.\n",
    "m.group(1), m.group('name')"
   ]
  },
  {
   "cell_type": "markdown",
   "metadata": {},
   "source": [
    "#### 자기참조 그룹의 이름으로 자기참조를 수행하는 방법"
   ]
  },
  {
   "cell_type": "code",
   "execution_count": 122,
   "metadata": {},
   "outputs": [],
   "source": [
    "# (?P=이름)\n",
    "p = re.compile( r'(?P<BS>\\b\\w+)\\s+(?P=BS)' )\n",
    "m = p.search('python numpy pandas pandas scipy tensorflow')"
   ]
  },
  {
   "cell_type": "code",
   "execution_count": 123,
   "metadata": {
    "scrolled": true
   },
   "outputs": [
    {
     "data": {
      "text/plain": [
       "<re.Match object; span=(13, 26), match='pandas pandas'>"
      ]
     },
     "execution_count": 123,
     "metadata": {},
     "output_type": "execute_result"
    }
   ],
   "source": [
    "m"
   ]
  },
  {
   "cell_type": "markdown",
   "metadata": {},
   "source": [
    "**===============================================**"
   ]
  },
  {
   "cell_type": "code",
   "execution_count": 192,
   "metadata": {},
   "outputs": [],
   "source": [
    "exam_data= \"\"\"\n",
    "park 010-9999-9988\n",
    "kim 010-9909-7789\n",
    "lee 010-8789-7768\n",
    "\"\"\""
   ]
  },
  {
   "cell_type": "code",
   "execution_count": 193,
   "metadata": {},
   "outputs": [],
   "source": [
    "p =  re.compile(r'(\\w+)\\s+((\\d+)[-](\\d+)[-](\\d+))')\n",
    "exam_p = re.compile(r\"(\\w+)\\s+(\\d+)[-](\\d+)[-](\\d+)\")"
   ]
  },
  {
   "cell_type": "code",
   "execution_count": 211,
   "metadata": {
    "scrolled": true
   },
   "outputs": [],
   "source": [
    "# m = p.search(\"부산대 010-1212-2323\")\n",
    "m = exam_p.search(exam_data)"
   ]
  },
  {
   "cell_type": "code",
   "execution_count": 212,
   "metadata": {
    "scrolled": true
   },
   "outputs": [
    {
     "data": {
      "text/plain": [
       "(('park', '010', '9999', '9988'), 'park', '010')"
      ]
     },
     "execution_count": 212,
     "metadata": {},
     "output_type": "execute_result"
    }
   ],
   "source": [
    "m.groups(), m.group(1), m.group(2)"
   ]
  },
  {
   "cell_type": "code",
   "execution_count": 210,
   "metadata": {},
   "outputs": [
    {
     "name": "stdout",
     "output_type": "stream",
     "text": [
      "park\n",
      "010\n",
      "9999\n",
      "9988\n"
     ]
    }
   ],
   "source": [
    "for n in range(1, len(m.groups())+1):\n",
    "    print(m.group(n))"
   ]
  },
  {
   "cell_type": "code",
   "execution_count": 213,
   "metadata": {},
   "outputs": [
    {
     "name": "stdout",
     "output_type": "stream",
     "text": [
      "\n",
      "park 010-9999-####\n",
      "kim 010-9909-####\n",
      "lee 010-8789-####\n",
      "\n"
     ]
    }
   ],
   "source": [
    "s = \"\"\"\n",
    "park 010-9999-9988\n",
    "kim 010-9909-7789\n",
    "lee 010-8789-7768\n",
    "\"\"\"\n",
    "\n",
    "pat = re.compile(\"(\\d{3}[-]\\d{4})[-]\\d{4}\")\n",
    "result = pat.sub(\"\\g<1>-####\", s)\n",
    "\n",
    "print(result)"
   ]
  },
  {
   "cell_type": "code",
   "execution_count": null,
   "metadata": {},
   "outputs": [],
   "source": []
  }
 ],
 "metadata": {
  "kernelspec": {
   "display_name": "Python 3",
   "language": "python",
   "name": "python3"
  },
  "language_info": {
   "codemirror_mode": {
    "name": "ipython",
    "version": 3
   },
   "file_extension": ".py",
   "mimetype": "text/x-python",
   "name": "python",
   "nbconvert_exporter": "python",
   "pygments_lexer": "ipython3",
   "version": "3.7.4"
  }
 },
 "nbformat": 4,
 "nbformat_minor": 2
}
