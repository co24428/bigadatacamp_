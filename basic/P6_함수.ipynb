{
 "cells": [
  {
   "cell_type": "markdown",
   "metadata": {},
   "source": [
    "## 함수\n",
    "\n",
    "- 함수\n",
    "    - 종류\n",
    "        - 커스텀함수(사용자정의함수)\n",
    "            - 개발자의 필요에 의해 정의된 함수\n",
    "        - 내장함수\n",
    "            - 별도의 추가 코드없이 바로 사용가능한 함수\n",
    "            - type(), len(), str(), list() ...\n",
    "            - 파이썬이 설치되어 있으면 바로 사용가능(전역적)\n",
    "        - 외장함수(라이브러리 상에 존재하는 함수)\n",
    "            - 별도의 모듈을 코드에 추가하고 나서 모듈을 통해 사용가능한 함수( 소속.함수명() )\n",
    "            - import time >> time.sleep(1)\n",
    "        - 람다함수\n",
    "            - 가장 빠른 함수\n",
    "            - 수행문이 1개이다.\n",
    "            - 특정 함수의 인자로 사용, 휘발성, 코드가 지나가면 사라진다.\n",
    "            - 연속 데이터 타입들의 멤버들을 하나씩 건들면서 뭔가 작업을 하고 대체, 필터링할 때 주로 사용\n",
    "            - 대체   : 파이썬 내장함수 map(), DataFrame의 apply()\n",
    "            - 필터링 : 파이썬 내장함수 filter(), DataFrame의 apply()\n",
    "            - lambda x:x+1\n",
    "        - 클로저\n",
    "            - 함수 안에 함수 있다. (흔하지는 않다)\n",
    "    - 프로그램\n",
    "        - 함수 지향적 프로그램\n",
    "    - 특징\n",
    "        - 함수 본질, 장점\n",
    "            - 재활용성을 높여서 코드를 다이어트하고 ,품질을 높인다.\n",
    "            - 생산성이 향상 => 빠르게 제작 => 기업은 수익 증가확율\n",
    "            - 다음 프로젝트 때는 기존 구축된 함수 모듈이 존재하므로 그만큼 더 생산성 향상\n",
    "            - 반복된 코드를 함수로 만들어서 사용성을 높인다. 복잡성을 줄인다.\n",
    "            - 유지보수를 용이하게 구현\n",
    "            - 입력 대비 출력이라는 기본 기능을 수행\n",
    "        - 스타일\n",
    "            - 코드 중에 반복되는 구간이 있으면 -> 함수\n",
    "            - 로직을 구현 => 일반화 연습 => 함수화\n",
    "            - 한번만 나오지만, 코드가 복잡해서 함수화하는 경우도 있다. => 작업 단위를 구분하기 위해\n",
    "        - 용어: C계열 - 함수 / Java계열 - 메쏘드"
   ]
  },
  {
   "cell_type": "markdown",
   "metadata": {},
   "source": [
    "### 1. 사용자 정의 함수"
   ]
  },
  {
   "cell_type": "markdown",
   "metadata": {},
   "source": [
    "#### 1-1. 기본형"
   ]
  },
  {
   "cell_type": "code",
   "execution_count": 1,
   "metadata": {},
   "outputs": [],
   "source": [
    "'''\n",
    "- 기본 형태\n",
    "- [] 생략가능하다는 표현\n",
    "def 함수명( [인자(매개변수)명, ...] ):\n",
    "    statements ...\n",
    "    [return[값, ...]]\n",
    "'''"
   ]
  },
  {
   "cell_type": "code",
   "execution_count": 2,
   "metadata": {},
   "outputs": [],
   "source": [
    "# 더하기 함수\n",
    "# 함수명 : sum\n",
    "# 입력 : x, y\n",
    "# 출력 : 입력값을 더한 결과\n",
    "\n",
    "# 함수의 인자는 타입을 기술하지 않는다 -> 타입추론\n",
    "def sum(x,y):\n",
    "    return x+y"
   ]
  },
  {
   "cell_type": "code",
   "execution_count": 3,
   "metadata": {
    "scrolled": true
   },
   "outputs": [],
   "source": [
    "# 함수의 사용은 함수의 호출을 통해서 진행\n",
    "# 호출 : 함수명( [인자값, ...] )\n",
    "# call by value : 호출하고 결과를 받는다.\n",
    "result = sum(12,22)\n",
    "result\n"
   ]
  },
  {
   "cell_type": "code",
   "execution_count": 4,
   "metadata": {},
   "outputs": [],
   "source": [
    "def sum2(x, y):\n",
    "    print(x+y)"
   ]
  },
  {
   "cell_type": "code",
   "execution_count": 5,
   "metadata": {},
   "outputs": [
    {
     "name": "stdout",
     "output_type": "stream",
     "text": [
      "4\n",
      "None\n"
     ]
    }
   ],
   "source": [
    "result = sum2(1,3)\n",
    "print(result)"
   ]
  },
  {
   "cell_type": "code",
   "execution_count": 6,
   "metadata": {},
   "outputs": [
    {
     "name": "stdout",
     "output_type": "stream",
     "text": [
      "None\n"
     ]
    }
   ],
   "source": [
    "# 함수의 호츌의 결과가 None이면 내부에서 return 표현을 생략했다. 반환작업 X\n",
    "a = [2,4,1,5,3]\n",
    "print(a.sort())"
   ]
  },
  {
   "cell_type": "code",
   "execution_count": 7,
   "metadata": {},
   "outputs": [
    {
     "name": "stdout",
     "output_type": "stream",
     "text": [
      "[1, 2, 3, 4, 5]\n"
     ]
    }
   ],
   "source": [
    "# 내부적으로만 동작!\n",
    "print(a)"
   ]
  },
  {
   "cell_type": "markdown",
   "metadata": {},
   "source": [
    "#### 1-2. 가변 인자(arguments, params, parameter)"
   ]
  },
  {
   "cell_type": "code",
   "execution_count": 8,
   "metadata": {},
   "outputs": [],
   "source": [
    "# *a : 포인터 a라고 부름 \n",
    "def sum3(*a):\n",
    "#     print(type(a))  # a : 튜플로 가변인자가들어온다.\n",
    "    # 누적합을 리턴하시오, 인자를 모두 더해서 리턴\n",
    "    sum = 0\n",
    "    for i in a: sum += i\n",
    "    return sum"
   ]
  },
  {
   "cell_type": "code",
   "execution_count": 9,
   "metadata": {},
   "outputs": [
    {
     "data": {
      "text/plain": [
       "10"
      ]
     },
     "execution_count": 9,
     "metadata": {},
     "output_type": "execute_result"
    }
   ],
   "source": [
    "sum3(1,2,3)\n",
    "sum3(1,2,3,4)"
   ]
  },
  {
   "cell_type": "markdown",
   "metadata": {},
   "source": [
    "#### 1-3 리턴 값이 여러개"
   ]
  },
  {
   "cell_type": "code",
   "execution_count": 10,
   "metadata": {},
   "outputs": [],
   "source": [
    "# 누적합, 누적곱 리턴 => 리턴 값이 여러 개\n",
    "def sum4( *a ):\n",
    "    result = 0\n",
    "    tmp    = 1\n",
    "    for n in a:\n",
    "        result = result + n\n",
    "        tmp = tmp * n\n",
    "    # 리턴 값이 여러 개면 나열(열거)하면 된다.\n",
    "    return result, tmp"
   ]
  },
  {
   "cell_type": "code",
   "execution_count": 11,
   "metadata": {},
   "outputs": [
    {
     "name": "stdout",
     "output_type": "stream",
     "text": [
      "15 120\n"
     ]
    }
   ],
   "source": [
    "# 리턴값이 튜플로 온다. n개의 변수로 각각 받을 수 있다.\n",
    "a, b = sum4(1,2,3,4,5)\n",
    "print(a, b)"
   ]
  },
  {
   "cell_type": "markdown",
   "metadata": {},
   "source": [
    "#### 1-4 함수인자 초기값 부여\n",
    "\n",
    "- 함수의 인자를 일일이 다 채우지 않아도 사용 부여\n",
    "- 기본값(초기값)을 부여하여 함수의 사용에 유연성, 인자의 명확성 등을 부여할 수 있다."
   ]
  },
  {
   "cell_type": "code",
   "execution_count": 12,
   "metadata": {},
   "outputs": [],
   "source": [
    "def setHuman(name, age=50, weight=100):\n",
    "    print('name : %s, age : %s, weight : %s'%(name, age, weight))"
   ]
  },
  {
   "cell_type": "code",
   "execution_count": 13,
   "metadata": {},
   "outputs": [
    {
     "name": "stdout",
     "output_type": "stream",
     "text": [
      "name : hehe, age : 50, weight : 100\n"
     ]
    }
   ],
   "source": [
    "# 기본값이 없는 인자는 반드시 데이터를 전달해야 한다.\n",
    "setHuman(\"hehe\")"
   ]
  },
  {
   "cell_type": "code",
   "execution_count": 14,
   "metadata": {},
   "outputs": [
    {
     "name": "stdout",
     "output_type": "stream",
     "text": [
      "name : hehe, age : 30, weight : 100\n"
     ]
    }
   ],
   "source": [
    "# 기본값이 있는 부분도 수정하고 싶다면?\n",
    "setHuman(\"hehe\",30)"
   ]
  },
  {
   "cell_type": "code",
   "execution_count": 15,
   "metadata": {},
   "outputs": [
    {
     "name": "stdout",
     "output_type": "stream",
     "text": [
      "name : hehe, age : 50, weight : 30\n"
     ]
    }
   ],
   "source": [
    "# 첫번째 인자와 세번째 인자를 수정하고 싶다?\n",
    "# 파라미터를 직접 명시해주면 된다.\n",
    "setHuman(\"hehe\",weight=30)"
   ]
  },
  {
   "cell_type": "code",
   "execution_count": 16,
   "metadata": {},
   "outputs": [
    {
     "name": "stdout",
     "output_type": "stream",
     "text": [
      "name : huhuhu, age : 50, weight : 30\n"
     ]
    }
   ],
   "source": [
    "setHuman(name=\"huhuhu\",weight=30)"
   ]
  },
  {
   "cell_type": "code",
   "execution_count": 17,
   "metadata": {},
   "outputs": [
    {
     "name": "stdout",
     "output_type": "stream",
     "text": [
      "name : huhuhu, age : 50, weight : 30\n"
     ]
    }
   ],
   "source": [
    "# 순서가 달라져도 괜찮다.\n",
    "# 하이퍼 파라미터 => color, style 등 공백으로 하면 디폴트값이 적용\n",
    "#                    순서 없이 필요한 것만 적어서 사용 가능\n",
    "setHuman(weight=30, name=\"huhuhu\")"
   ]
  },
  {
   "cell_type": "code",
   "execution_count": 18,
   "metadata": {},
   "outputs": [
    {
     "ename": "SyntaxError",
     "evalue": "non-default argument follows default argument (<ipython-input-18-0be8f4ba152f>, line 2)",
     "output_type": "error",
     "traceback": [
      "\u001b[1;36m  File \u001b[1;32m\"<ipython-input-18-0be8f4ba152f>\"\u001b[1;36m, line \u001b[1;32m2\u001b[0m\n\u001b[1;33m    def setHuman2(age=50, weight=100, name):\u001b[0m\n\u001b[1;37m                 ^\u001b[0m\n\u001b[1;31mSyntaxError\u001b[0m\u001b[1;31m:\u001b[0m non-default argument follows default argument\n"
     ]
    }
   ],
   "source": [
    "# 초기값이 있는 변수를 앞에, 없는 변수를 뒤로 배치\n",
    "def setHuman2(age=50, weight=100, name):\n",
    "    print('name : %s, age : %s, weight : %s'%(name, age, weight))"
   ]
  },
  {
   "cell_type": "markdown",
   "metadata": {},
   "source": [
    "### 2. 내장 함수\n",
    "\n",
    "- 함수를 사용하는데 별다른 제약이 없다.\n",
    "- 그냥 사용 (어떤 것이 있는지 아는 정도면 된다.\n",
    "    - type(), len(), int(), str(), list(), dict()\n",
    "    - tuple(), print(), set(), enumerate() ..."
   ]
  },
  {
   "cell_type": "markdown",
   "metadata": {},
   "source": [
    "#### 2-1 파일 \n",
    "\n",
    "- 파일, 네트워크 등등 => I/O 작업\n",
    "    - 프로그램 밖에 있는 리소스와 연동할 때\n",
    "- 예외 상황이 발생될 수 있다. (잠재적인 오류 발생 가능)\n",
    "- 반드시 작업이 끝나면 닫아야 한다. ( 열고 닫고 중간을 작성 )"
   ]
  },
  {
   "cell_type": "code",
   "execution_count": null,
   "metadata": {},
   "outputs": [],
   "source": [
    "# 파일이 없는데 내용을 쓰려고 하면 파일을 만든다.\n",
    "# 어떤 언어나 동일하다.\n",
    "# w: 쓰기, r: 읽기\n",
    "# b: 바이너리(이미지, 영상, 사운드, 문서파일(hwp, ... ) ) - 전용 프로그램으로 열어야 하는 종류\n",
    "\n",
    "# 1. 파일 오픈(쓰기 모드)\n",
    "f = open('test1.txt','w')\n",
    "# 2. 파일에 기록\n",
    "f.write('가나다abcABC123!@#')\n",
    "# 3. 파일 닫기\n",
    "f.close()"
   ]
  },
  {
   "cell_type": "code",
   "execution_count": null,
   "metadata": {},
   "outputs": [],
   "source": [
    "f = open('test1.txt','r')\n",
    "print(f.read())\n",
    "f.close()"
   ]
  },
  {
   "cell_type": "code",
   "execution_count": null,
   "metadata": {},
   "outputs": [],
   "source": [
    "# 모든 I/O에서 자동으로 닫게 처리해주는 코드\n",
    "# with 문 ~\n",
    "# 원본(함수, 모듈 ...) as 별칭 \n",
    "with open('test1.txt','r') as f:\n",
    "    print(f.read())\n",
    "# with문이 끝나면 자동으로 close() 처리됨\n",
    "# f.close()"
   ]
  },
  {
   "cell_type": "markdown",
   "metadata": {},
   "source": [
    "#### 2-2 데이터 처리\n",
    "\n",
    "- map()\n",
    "- filter()"
   ]
  },
  {
   "cell_type": "code",
   "execution_count": null,
   "metadata": {},
   "outputs": [],
   "source": [
    "data = [1,2,3,4,5,6,7,8,9]"
   ]
  },
  {
   "cell_type": "code",
   "execution_count": null,
   "metadata": {},
   "outputs": [],
   "source": [
    "# 데이터의 구성요소들 각각의 값을 2배로 증가시켜라\n",
    "data * 2 # numpy에서는 \"벡터 * 스칼라\"로 원하는 결과가 나옴."
   ]
  },
  {
   "cell_type": "code",
   "execution_count": null,
   "metadata": {},
   "outputs": [],
   "source": [
    "# 구성을 하나씩 빼서 2배해서 다시 넣는다.\n",
    "def myDouble(x):\n",
    "    return x*2\n",
    "list(map(myDouble, data))"
   ]
  },
  {
   "cell_type": "code",
   "execution_count": null,
   "metadata": {},
   "outputs": [],
   "source": [
    "# 람다 함수 => 이름이 없다. 어디서도 부를 수 없다 (해당 라인에서만 사용 가능)\n",
    "# 휘발성, 한 번 쓰고 사라진다. - 메모리 해제!\n",
    "# 속도, 가장 빠르다.\n",
    "# 단, 수행문이 1줄일 경우만 가능\n",
    "list(map( lambda x: x*2, data))"
   ]
  },
  {
   "cell_type": "code",
   "execution_count": null,
   "metadata": {},
   "outputs": [],
   "source": [
    "def myDouble(x):\n",
    "    return x > 5\n",
    "# 걸러낸다.\n",
    "list( filter( myDouble, data))"
   ]
  },
  {
   "cell_type": "code",
   "execution_count": null,
   "metadata": {},
   "outputs": [],
   "source": [
    "list( filter( lambda x: x>5, data))"
   ]
  },
  {
   "cell_type": "markdown",
   "metadata": {},
   "source": [
    "#### 2-4 기타 주요 "
   ]
  },
  {
   "cell_type": "markdown",
   "metadata": {},
   "source": [
    "### 3. 외장 함수\n",
    "- 모듈을 가져오고, 모듈을 통해서 함수를 사용하는 형태 \n",
    "- ex)\n",
    "    - time, random\n",
    "    - pickle, os ..."
   ]
  },
  {
   "cell_type": "code",
   "execution_count": null,
   "metadata": {},
   "outputs": [],
   "source": [
    "# pickle : 자료구조를 그대로 저장, 로드\n",
    "import pickle as p\n",
    "p # 별칭으로 불러야 호출 가능\n",
    "# pickle => 모르는 이름"
   ]
  },
  {
   "cell_type": "code",
   "execution_count": null,
   "metadata": {},
   "outputs": [],
   "source": [
    "# 더미 데이터\n",
    "data = {\n",
    "    1:[1,2,3,4],\n",
    "    2:{'name': 'PNU'},\n",
    "    3:(3,4,5,6)\n",
    "}"
   ]
  },
  {
   "cell_type": "code",
   "execution_count": null,
   "metadata": {},
   "outputs": [],
   "source": [
    "# 기록\n",
    "# 아무 확장자나 가능 -> model도 임의의 확장자 이었던건가??...\n",
    "# 그렇기 때문에 b 모드로 바이너리 모드 해야 한다!!!\n",
    "with open('data.p', 'wb') as f:\n",
    "    p.dump(data, f, p.HIGHEST_PROTOCOL) # 파일에 데이터를 기록한다 >> \"덤프친다\"라고 한다. "
   ]
  },
  {
   "cell_type": "code",
   "execution_count": null,
   "metadata": {},
   "outputs": [],
   "source": [
    "# 로드\n",
    "# 바이너리 읽기모드로 파일 오픈\n",
    "with open('data.p', 'rb') as f:\n",
    "    print(p.load(f))"
   ]
  },
  {
   "cell_type": "code",
   "execution_count": 21,
   "metadata": {},
   "outputs": [],
   "source": [
    "import os"
   ]
  },
  {
   "cell_type": "code",
   "execution_count": 22,
   "metadata": {},
   "outputs": [
    {
     "data": {
      "text/plain": [
       "True"
      ]
     },
     "execution_count": 22,
     "metadata": {},
     "output_type": "execute_result"
    }
   ],
   "source": [
    "# a라는 파일이 존재하는가?\n",
    "os.path.exists('data.p')"
   ]
  },
  {
   "cell_type": "code",
   "execution_count": 23,
   "metadata": {},
   "outputs": [
    {
     "data": {
      "text/plain": [
       "'C:\\\\Users\\\\admin\\\\Desktop\\\\py_project\\\\python_basic\\\\basic'"
      ]
     },
     "execution_count": 23,
     "metadata": {},
     "output_type": "execute_result"
    }
   ],
   "source": [
    "os.getcwd()"
   ]
  },
  {
   "cell_type": "code",
   "execution_count": 24,
   "metadata": {},
   "outputs": [],
   "source": [
    "# 폴더 만들기\n",
    "if not os.path.exists(\"isthatTrue\"):\n",
    "    os.mkdir(\"isthatTrue\")"
   ]
  },
  {
   "cell_type": "code",
   "execution_count": 25,
   "metadata": {},
   "outputs": [],
   "source": [
    "# 디렉토리 이동\n",
    "os.chdir('isthatTrue')"
   ]
  },
  {
   "cell_type": "code",
   "execution_count": 26,
   "metadata": {},
   "outputs": [
    {
     "data": {
      "text/plain": [
       "'C:\\\\Users\\\\admin\\\\Desktop\\\\py_project\\\\python_basic\\\\basic\\\\isthatTrue'"
      ]
     },
     "execution_count": 26,
     "metadata": {},
     "output_type": "execute_result"
    }
   ],
   "source": [
    " # 현재 위치\n",
    "os.getcwd()"
   ]
  },
  {
   "cell_type": "code",
   "execution_count": 27,
   "metadata": {},
   "outputs": [],
   "source": [
    "# 이전으로\n",
    "os.chdir('..')"
   ]
  },
  {
   "cell_type": "code",
   "execution_count": 28,
   "metadata": {},
   "outputs": [
    {
     "data": {
      "text/plain": [
       "'C:\\\\Users\\\\admin\\\\Desktop\\\\py_project\\\\python_basic\\\\basic'"
      ]
     },
     "execution_count": 28,
     "metadata": {},
     "output_type": "execute_result"
    }
   ],
   "source": [
    "os.getcwd()"
   ]
  },
  {
   "cell_type": "code",
   "execution_count": 29,
   "metadata": {},
   "outputs": [
    {
     "data": {
      "text/plain": [
       "['.ipynb_checkpoints',\n",
       " 'data.p',\n",
       " 'game.py',\n",
       " 'game2.py',\n",
       " 'game_final.py',\n",
       " 'game_nocom.py',\n",
       " 'isthatTrue',\n",
       " 'p1.py',\n",
       " 'P10_고급표현.ipynb',\n",
       " 'p1_파이썬문법_전체리스트.ipynb',\n",
       " 'p2_수치형.ipynb',\n",
       " 'p3_문자열.ipynb',\n",
       " 'p4_연속데이터타입_리스트_딕셔너리_튜플_집합.ipynb',\n",
       " 'p5_불린_조건문_제어문_반복문.ipynb',\n",
       " 'P6_함수.ipynb',\n",
       " 'P7_모듈화_모듈가져오기_패키지_예외처리.ipynb',\n",
       " 'P8_클래스_객체지향프로그램.ipynb',\n",
       " 'P9_정규화.ipynb',\n",
       " 'teacher.py',\n",
       " 'test.py',\n",
       " 'test1.txt',\n",
       " 'test2.py']"
      ]
     },
     "execution_count": 29,
     "metadata": {},
     "output_type": "execute_result"
    }
   ],
   "source": [
    "# 현재 위치에서 하나 위로 이동\n",
    "os.listdir(os.getcwd())"
   ]
  },
  {
   "cell_type": "code",
   "execution_count": 30,
   "metadata": {},
   "outputs": [],
   "source": [
    "from glob import glob"
   ]
  },
  {
   "cell_type": "code",
   "execution_count": 31,
   "metadata": {},
   "outputs": [
    {
     "data": {
      "text/plain": [
       "['C:\\\\Users\\\\admin\\\\Desktop\\\\py_project\\\\python_basic\\\\basic\\\\game.py',\n",
       " 'C:\\\\Users\\\\admin\\\\Desktop\\\\py_project\\\\python_basic\\\\basic\\\\game2.py',\n",
       " 'C:\\\\Users\\\\admin\\\\Desktop\\\\py_project\\\\python_basic\\\\basic\\\\game_final.py',\n",
       " 'C:\\\\Users\\\\admin\\\\Desktop\\\\py_project\\\\python_basic\\\\basic\\\\game_nocom.py',\n",
       " 'C:\\\\Users\\\\admin\\\\Desktop\\\\py_project\\\\python_basic\\\\basic\\\\p1.py',\n",
       " 'C:\\\\Users\\\\admin\\\\Desktop\\\\py_project\\\\python_basic\\\\basic\\\\teacher.py',\n",
       " 'C:\\\\Users\\\\admin\\\\Desktop\\\\py_project\\\\python_basic\\\\basic\\\\test.py',\n",
       " 'C:\\\\Users\\\\admin\\\\Desktop\\\\py_project\\\\python_basic\\\\basic\\\\test2.py']"
      ]
     },
     "execution_count": 31,
     "metadata": {},
     "output_type": "execute_result"
    }
   ],
   "source": [
    "# 특정 경로에 특정 패턴으로 된 대상만 수집\n",
    "glob(os.getcwd() + '\\*.py')"
   ]
  },
  {
   "cell_type": "code",
   "execution_count": 32,
   "metadata": {},
   "outputs": [
    {
     "data": {
      "text/plain": [
       "['C:\\\\Users\\\\admin\\\\Desktop\\\\py_project\\\\python_basic\\\\basic\\\\P10_고급표현.ipynb',\n",
       " 'C:\\\\Users\\\\admin\\\\Desktop\\\\py_project\\\\python_basic\\\\basic\\\\p1_파이썬문법_전체리스트.ipynb',\n",
       " 'C:\\\\Users\\\\admin\\\\Desktop\\\\py_project\\\\python_basic\\\\basic\\\\p2_수치형.ipynb',\n",
       " 'C:\\\\Users\\\\admin\\\\Desktop\\\\py_project\\\\python_basic\\\\basic\\\\p3_문자열.ipynb',\n",
       " 'C:\\\\Users\\\\admin\\\\Desktop\\\\py_project\\\\python_basic\\\\basic\\\\p4_연속데이터타입_리스트_딕셔너리_튜플_집합.ipynb',\n",
       " 'C:\\\\Users\\\\admin\\\\Desktop\\\\py_project\\\\python_basic\\\\basic\\\\p5_불린_조건문_제어문_반복문.ipynb',\n",
       " 'C:\\\\Users\\\\admin\\\\Desktop\\\\py_project\\\\python_basic\\\\basic\\\\P6_함수.ipynb',\n",
       " 'C:\\\\Users\\\\admin\\\\Desktop\\\\py_project\\\\python_basic\\\\basic\\\\P7_모듈화_모듈가져오기_패키지_예외처리.ipynb',\n",
       " 'C:\\\\Users\\\\admin\\\\Desktop\\\\py_project\\\\python_basic\\\\basic\\\\P8_클래스_객체지향프로그램.ipynb',\n",
       " 'C:\\\\Users\\\\admin\\\\Desktop\\\\py_project\\\\python_basic\\\\basic\\\\P9_정규화.ipynb']"
      ]
     },
     "execution_count": 32,
     "metadata": {},
     "output_type": "execute_result"
    }
   ],
   "source": [
    "glob(os.getcwd() + '\\*.ipynb')"
   ]
  },
  {
   "cell_type": "code",
   "execution_count": 33,
   "metadata": {},
   "outputs": [
    {
     "data": {
      "text/plain": [
       "['C:\\\\Users\\\\admin\\\\Desktop\\\\py_project\\\\python_basic\\\\basic\\\\P10_고급표현.ipynb',\n",
       " 'C:\\\\Users\\\\admin\\\\Desktop\\\\py_project\\\\python_basic\\\\basic\\\\p1_파이썬문법_전체리스트.ipynb']"
      ]
     },
     "execution_count": 33,
     "metadata": {},
     "output_type": "execute_result"
    }
   ],
   "source": [
    "glob(os.getcwd() + '\\p1*.ipynb')"
   ]
  },
  {
   "cell_type": "markdown",
   "metadata": {},
   "source": [
    "### 4. 람다 함수\n",
    "\n",
    "- 람다 함수 => 이름이 없다. 어디서도 부를 수 없다 (해당 라인에서만 사용 가능)\n",
    "- 휘발성, 한 번 쓰고 사라진다. - 메모리 해제!\n",
    "- 속도, 가장 빠르다.\n",
    "- 단, 수행문이 1줄일 경우만 가능"
   ]
  },
  {
   "cell_type": "markdown",
   "metadata": {},
   "source": [
    "### 5. 클로저\n",
    "\n",
    "- 함수 안에 함수 있다.\n",
    "- 함수 안에서 사용\n",
    "- 흔하지 않다.\n",
    "- Javascript에서 똑같이 쓰고 있다."
   ]
  },
  {
   "cell_type": "code",
   "execution_count": 35,
   "metadata": {},
   "outputs": [],
   "source": [
    "def a():\n",
    "    print(1)\n",
    "    def b():\n",
    "        print(2)\n",
    "    b()\n",
    "    print(3)"
   ]
  },
  {
   "cell_type": "code",
   "execution_count": 37,
   "metadata": {},
   "outputs": [
    {
     "name": "stdout",
     "output_type": "stream",
     "text": [
      "1\n",
      "2\n",
      "3\n"
     ]
    }
   ],
   "source": [
    "a()"
   ]
  },
  {
   "cell_type": "code",
   "execution_count": null,
   "metadata": {},
   "outputs": [],
   "source": []
  },
  {
   "cell_type": "markdown",
   "metadata": {},
   "source": [
    "### 6. 객체지향 프로그램 => 함수지향 프로그램 전환"
   ]
  },
  {
   "cell_type": "code",
   "execution_count": null,
   "metadata": {},
   "outputs": [],
   "source": []
  },
  {
   "cell_type": "code",
   "execution_count": null,
   "metadata": {},
   "outputs": [],
   "source": []
  },
  {
   "cell_type": "code",
   "execution_count": null,
   "metadata": {},
   "outputs": [],
   "source": []
  },
  {
   "cell_type": "code",
   "execution_count": null,
   "metadata": {},
   "outputs": [],
   "source": []
  },
  {
   "cell_type": "code",
   "execution_count": null,
   "metadata": {},
   "outputs": [],
   "source": []
  },
  {
   "cell_type": "code",
   "execution_count": null,
   "metadata": {},
   "outputs": [],
   "source": []
  },
  {
   "cell_type": "code",
   "execution_count": null,
   "metadata": {},
   "outputs": [],
   "source": []
  },
  {
   "cell_type": "code",
   "execution_count": null,
   "metadata": {},
   "outputs": [],
   "source": []
  },
  {
   "cell_type": "code",
   "execution_count": null,
   "metadata": {},
   "outputs": [],
   "source": []
  },
  {
   "cell_type": "code",
   "execution_count": null,
   "metadata": {},
   "outputs": [],
   "source": []
  },
  {
   "cell_type": "code",
   "execution_count": null,
   "metadata": {},
   "outputs": [],
   "source": []
  },
  {
   "cell_type": "code",
   "execution_count": null,
   "metadata": {},
   "outputs": [],
   "source": []
  },
  {
   "cell_type": "code",
   "execution_count": null,
   "metadata": {},
   "outputs": [],
   "source": []
  },
  {
   "cell_type": "code",
   "execution_count": null,
   "metadata": {},
   "outputs": [],
   "source": []
  },
  {
   "cell_type": "code",
   "execution_count": null,
   "metadata": {},
   "outputs": [],
   "source": []
  },
  {
   "cell_type": "code",
   "execution_count": null,
   "metadata": {},
   "outputs": [],
   "source": []
  },
  {
   "cell_type": "code",
   "execution_count": null,
   "metadata": {},
   "outputs": [],
   "source": []
  },
  {
   "cell_type": "code",
   "execution_count": null,
   "metadata": {},
   "outputs": [],
   "source": []
  },
  {
   "cell_type": "code",
   "execution_count": null,
   "metadata": {},
   "outputs": [],
   "source": []
  },
  {
   "cell_type": "code",
   "execution_count": null,
   "metadata": {},
   "outputs": [],
   "source": []
  },
  {
   "cell_type": "code",
   "execution_count": null,
   "metadata": {},
   "outputs": [],
   "source": []
  },
  {
   "cell_type": "code",
   "execution_count": null,
   "metadata": {},
   "outputs": [],
   "source": []
  },
  {
   "cell_type": "code",
   "execution_count": null,
   "metadata": {},
   "outputs": [],
   "source": []
  },
  {
   "cell_type": "code",
   "execution_count": null,
   "metadata": {},
   "outputs": [],
   "source": []
  },
  {
   "cell_type": "code",
   "execution_count": null,
   "metadata": {},
   "outputs": [],
   "source": []
  },
  {
   "cell_type": "code",
   "execution_count": null,
   "metadata": {},
   "outputs": [],
   "source": []
  },
  {
   "cell_type": "code",
   "execution_count": null,
   "metadata": {},
   "outputs": [],
   "source": []
  },
  {
   "cell_type": "code",
   "execution_count": null,
   "metadata": {},
   "outputs": [],
   "source": []
  }
 ],
 "metadata": {
  "kernelspec": {
   "display_name": "Python 3",
   "language": "python",
   "name": "python3"
  },
  "language_info": {
   "codemirror_mode": {
    "name": "ipython",
    "version": 3
   },
   "file_extension": ".py",
   "mimetype": "text/x-python",
   "name": "python",
   "nbconvert_exporter": "python",
   "pygments_lexer": "ipython3",
   "version": "3.7.4"
  }
 },
 "nbformat": 4,
 "nbformat_minor": 2
}
